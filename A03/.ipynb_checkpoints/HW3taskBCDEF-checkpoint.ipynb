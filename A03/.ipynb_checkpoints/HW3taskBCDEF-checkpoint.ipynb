{
 "cells": [
  {
   "cell_type": "markdown",
   "metadata": {},
   "source": [
    "# HW3"
   ]
  },
  {
   "cell_type": "markdown",
   "metadata": {},
   "source": [
    "Kevin Wurangian, Fan Hong, Bingqing Li, Yinan Yang, Barrett Poth"
   ]
  },
  {
   "cell_type": "code",
   "execution_count": 1,
   "metadata": {},
   "outputs": [],
   "source": [
    "from sklearn.metrics.pairwise import cosine_similarity\n",
    "import numpy as np\n",
    "\n",
    "import pandas as pd\n",
    "pd.set_option('display.max_colwidth', -1)\n",
    "\n",
    "import nltk\n",
    "from nltk.corpus import stopwords\n",
    "\n",
    "from collections import Counter\n",
    "\n",
    "from vaderSentiment.vaderSentiment import SentimentIntensityAnalyzer"
   ]
  },
  {
   "cell_type": "markdown",
   "metadata": {},
   "source": [
    "#### Task B and C"
   ]
  },
  {
   "cell_type": "markdown",
   "metadata": {},
   "source": [
    "We did mexican restaurants from Yelp. We scraped 9157 reviews and 98 restaurants."
   ]
  },
  {
   "cell_type": "code",
   "execution_count": 2,
   "metadata": {},
   "outputs": [],
   "source": [
    "# read in the reviews into a pandas dataframe\n",
    "review=pd.read_csv(\"rest_reviews.csv\")"
   ]
  },
  {
   "cell_type": "code",
   "execution_count": 3,
   "metadata": {},
   "outputs": [
    {
     "data": {
      "text/html": [
       "<div>\n",
       "<style scoped>\n",
       "    .dataframe tbody tr th:only-of-type {\n",
       "        vertical-align: middle;\n",
       "    }\n",
       "\n",
       "    .dataframe tbody tr th {\n",
       "        vertical-align: top;\n",
       "    }\n",
       "\n",
       "    .dataframe thead th {\n",
       "        text-align: right;\n",
       "    }\n",
       "</style>\n",
       "<table border=\"1\" class=\"dataframe\">\n",
       "  <thead>\n",
       "    <tr style=\"text-align: right;\">\n",
       "      <th></th>\n",
       "      <th>restaurants</th>\n",
       "      <th>review_contents</th>\n",
       "    </tr>\n",
       "  </thead>\n",
       "  <tbody>\n",
       "    <tr>\n",
       "      <th>0</th>\n",
       "      <td>Zocalo Café</td>\n",
       "      <td>I LOVED this place! A great Mexican place!\\n\\nThe food was amazing and the environment great! Super friendly people working there and a cute restaurant!\\n\\nWe were in 5 people and we could taste a lot of different meals. Everything was well served, except for my place (ceviche) that was relatively small but still very good! For my taste, a little bit spicy though. \\n\\nFor sure, the best thing was the queso! I couldn't stop eating the chips with it! They also have a lot of different meals, like tacos, quesadilla, salad, burrito, soup...\\n\\nThe price was very worth it to pay! If you like a very cool and small place with well made mexican food, I would definitely recommend!</td>\n",
       "    </tr>\n",
       "    <tr>\n",
       "      <th>1</th>\n",
       "      <td>Lazarus Brewing</td>\n",
       "      <td>Happened to make it by the opening day, Christmas Eve, while passing through Austin. Had the French Saisson, which was light floral almost a hint of lemon refreshment. The English IPA was malty with a finish of hops. There are several large group tables, bar seating, lounge area, and outdoor seating. They offer a small food menu mainly consisting of tacos and various snacks.</td>\n",
       "    </tr>\n",
       "    <tr>\n",
       "      <th>2</th>\n",
       "      <td>Iron Cactus</td>\n",
       "      <td>No wait time for brunch on a Sunday - large buffet with breakfast, Tex Mex, and desert - wonderful service. I'd go back next time I visit Austin!</td>\n",
       "    </tr>\n",
       "    <tr>\n",
       "      <th>3</th>\n",
       "      <td>Las Cazuelas Mexican Restaurant</td>\n",
       "      <td>While this place gave my boyfriend an upset tummy, the rest of us were fine. \\n\\nI came here with my boyfriend and a friend after we were quoted an additional 45 minute wait at Veracuz. The place was pretty crowded for a Saturday lunch (3/4 full). It seems like they were short staffed as a lot of the tables were not cleaned off. \\n\\nIt took awhile to get the server's attention, but when we did, she came bearing chips and salsa! The chips were average, but the green salsa was pretty delicious with a little kick to it. We all devoured the green salsa while waiting for our food which took awhile... \\nWhen we asked for water, our friend's cup had a chunk of dust in it. When he brought it to our waitress's attention, she apologized and promised to bring back a clean cup of water. That new cup of water was not brought to our table until we reminded her 10 minutes later.\\n\\nThe food portions here were huge! It was definitely enough to feed me for 3 meals, but unfortunately it wasn't too appetizing for me. I ordered the migas, and what I got didn't look very migas-y. The potatoes that accompanied the migas were also cold on the inside... My boyfriend got a breakfast burrito and it was a-okay. Nothing special.... \\n\\nI probably wouldn't return here again. It wasn't terrible, but it wasn't great either.</td>\n",
       "    </tr>\n",
       "    <tr>\n",
       "      <th>4</th>\n",
       "      <td>Uncle Julio’s</td>\n",
       "      <td>I came here with a group of 10 people. Every single person LOVED their breakfast. You have to stop here for breakfast when visiting Austin. I ordered the migas (which were excellent) and every other person ordered the Don Juan. Our friends first came here after seeing the restaurant on Man v Food. The food is super cheap and delicious. I would go back in a second!</td>\n",
       "    </tr>\n",
       "  </tbody>\n",
       "</table>\n",
       "</div>"
      ],
      "text/plain": [
       "                       restaurants  \\\n",
       "0  Zocalo Café                       \n",
       "1  Lazarus Brewing                   \n",
       "2  Iron Cactus                       \n",
       "3  Las Cazuelas Mexican Restaurant   \n",
       "4  Uncle Julio’s                     \n",
       "\n",
       "                                                                                                                                                                                                                                                                                                                                                                                                                                                                                                                                                                                                                                                                                                                                                                                                                                                                                                                                                                                                                                                                                                                                                                                                                                                                                                                                                      review_contents  \n",
       "0  I LOVED this place! A great Mexican place!\\n\\nThe food was amazing and the environment great! Super friendly people working there and a cute restaurant!\\n\\nWe were in 5 people and we could taste a lot of different meals. Everything was well served, except for my place (ceviche) that was relatively small but still very good! For my taste, a little bit spicy though. \\n\\nFor sure, the best thing was the queso! I couldn't stop eating the chips with it! They also have a lot of different meals, like tacos, quesadilla, salad, burrito, soup...\\n\\nThe price was very worth it to pay! If you like a very cool and small place with well made mexican food, I would definitely recommend!                                                                                                                                                                                                                                                                                                                                                                                                                                                                                                                                                                                                                                                             \n",
       "1  Happened to make it by the opening day, Christmas Eve, while passing through Austin. Had the French Saisson, which was light floral almost a hint of lemon refreshment. The English IPA was malty with a finish of hops. There are several large group tables, bar seating, lounge area, and outdoor seating. They offer a small food menu mainly consisting of tacos and various snacks.                                                                                                                                                                                                                                                                                                                                                                                                                                                                                                                                                                                                                                                                                                                                                                                                                                                                                                                                                                           \n",
       "2  No wait time for brunch on a Sunday - large buffet with breakfast, Tex Mex, and desert - wonderful service. I'd go back next time I visit Austin!                                                                                                                                                                                                                                                                                                                                                                                                                                                                                                                                                                                                                                                                                                                                                                                                                                                                                                                                                                                                                                                                                                                                                                                                                   \n",
       "3  While this place gave my boyfriend an upset tummy, the rest of us were fine. \\n\\nI came here with my boyfriend and a friend after we were quoted an additional 45 minute wait at Veracuz. The place was pretty crowded for a Saturday lunch (3/4 full). It seems like they were short staffed as a lot of the tables were not cleaned off. \\n\\nIt took awhile to get the server's attention, but when we did, she came bearing chips and salsa! The chips were average, but the green salsa was pretty delicious with a little kick to it. We all devoured the green salsa while waiting for our food which took awhile... \\nWhen we asked for water, our friend's cup had a chunk of dust in it. When he brought it to our waitress's attention, she apologized and promised to bring back a clean cup of water. That new cup of water was not brought to our table until we reminded her 10 minutes later.\\n\\nThe food portions here were huge! It was definitely enough to feed me for 3 meals, but unfortunately it wasn't too appetizing for me. I ordered the migas, and what I got didn't look very migas-y. The potatoes that accompanied the migas were also cold on the inside... My boyfriend got a breakfast burrito and it was a-okay. Nothing special.... \\n\\nI probably wouldn't return here again. It wasn't terrible, but it wasn't great either.  \n",
       "4  I came here with a group of 10 people. Every single person LOVED their breakfast. You have to stop here for breakfast when visiting Austin. I ordered the migas (which were excellent) and every other person ordered the Don Juan. Our friends first came here after seeing the restaurant on Man v Food. The food is super cheap and delicious. I would go back in a second!                                                                                                                                                                                                                                                                                                                                                                                                                                                                                                                                                                                                                                                                                                                                                                                                                                                                                                                                                                                      "
      ]
     },
     "execution_count": 3,
     "metadata": {},
     "output_type": "execute_result"
    }
   ],
   "source": [
    "# sanity check\n",
    "review.head()"
   ]
  },
  {
   "cell_type": "code",
   "execution_count": 4,
   "metadata": {},
   "outputs": [
    {
     "data": {
      "text/plain": [
       "(9157, 2)"
      ]
     },
     "execution_count": 4,
     "metadata": {},
     "output_type": "execute_result"
    }
   ],
   "source": [
    "review.shape"
   ]
  },
  {
   "cell_type": "code",
   "execution_count": 5,
   "metadata": {},
   "outputs": [],
   "source": [
    "# Output all text into a single string\n",
    "text=review[\"review_contents\"].values.tolist()\n",
    "text=\" \".join(text)\n",
    "text = text.lower()"
   ]
  },
  {
   "cell_type": "code",
   "execution_count": 6,
   "metadata": {},
   "outputs": [],
   "source": [
    "# tokenize the text \n",
    "tokenizer = nltk.tokenize.RegexpTokenizer(r'\\w+')\n",
    "tokens = tokenizer.tokenize(text)"
   ]
  },
  {
   "cell_type": "code",
   "execution_count": 7,
   "metadata": {},
   "outputs": [],
   "source": [
    "# let's do a word count\n",
    "words = Counter()\n",
    "\n",
    "# update counter with new words\n",
    "words.update(tokens)"
   ]
  },
  {
   "cell_type": "code",
   "execution_count": 8,
   "metadata": {},
   "outputs": [],
   "source": [
    "stopwords = stopwords.words('english')[:]"
   ]
  },
  {
   "cell_type": "code",
   "execution_count": 9,
   "metadata": {},
   "outputs": [],
   "source": [
    "filter_words = Counter(x for x in tokens if x not in stopwords and x.isdigit() == False and len(x) != 1 and x.isalpha() == True)"
   ]
  },
  {
   "cell_type": "code",
   "execution_count": 10,
   "metadata": {},
   "outputs": [
    {
     "data": {
      "text/plain": [
       "[('food', 6612),\n",
       " ('tacos', 5372),\n",
       " ('good', 5310),\n",
       " ('place', 4698),\n",
       " ('great', 4087),\n",
       " ('taco', 3998),\n",
       " ('like', 3035),\n",
       " ('one', 2898),\n",
       " ('get', 2869),\n",
       " ('service', 2848),\n",
       " ('austin', 2618),\n",
       " ('really', 2526),\n",
       " ('back', 2384),\n",
       " ('go', 2376),\n",
       " ('time', 2300),\n",
       " ('salsa', 2112),\n",
       " ('would', 2065),\n",
       " ('also', 2055),\n",
       " ('got', 1957),\n",
       " ('delicious', 1929),\n",
       " ('chicken', 1798),\n",
       " ('ordered', 1791),\n",
       " ('best', 1790),\n",
       " ('mexican', 1695),\n",
       " ('order', 1690),\n",
       " ('us', 1651),\n",
       " ('chips', 1579),\n",
       " ('breakfast', 1579),\n",
       " ('came', 1506),\n",
       " ('even', 1450),\n",
       " ('well', 1448),\n",
       " ('restaurant', 1430),\n",
       " ('love', 1427),\n",
       " ('pretty', 1418),\n",
       " ('amazing', 1386),\n",
       " ('little', 1385),\n",
       " ('definitely', 1382),\n",
       " ('try', 1377),\n",
       " ('nice', 1372),\n",
       " ('menu', 1275),\n",
       " ('queso', 1270),\n",
       " ('come', 1258),\n",
       " ('drinks', 1224),\n",
       " ('much', 1158),\n",
       " ('friendly', 1153),\n",
       " ('made', 1143),\n",
       " ('could', 1134),\n",
       " ('better', 1127),\n",
       " ('first', 1118),\n",
       " ('two', 1096)]"
      ]
     },
     "execution_count": 10,
     "metadata": {},
     "output_type": "execute_result"
    }
   ],
   "source": [
    "filter_words.most_common()[:50]"
   ]
  },
  {
   "cell_type": "markdown",
   "metadata": {},
   "source": [
    "i) service (e.g., speed, friendliness, etc.), (ii) food (e.g., quality, taste, etc.), (iii) price and (iv) location (e.g., parking, easy to find, drive through, etc.). "
   ]
  },
  {
   "cell_type": "code",
   "execution_count": 57,
   "metadata": {},
   "outputs": [],
   "source": [
    "service_words = ['service', 'quickly', \"attentive\", 'quick','fast','friendly','helpful', 'waited','wait','rude']\n",
    "food_words = ['mediocre', 'fried', 'flavorful','quality','authentic','delicious','fresh','tasty','taste','spicy','bland','yummy','yum','variety','tender','juicy','seasoned','greasy','salty','creamy']\n",
    "price_words =[\"worth\",'prices','cheap','affordable','overpriced','pricey', 'price', 'happy hour']\n",
    "location_words =['location', 'street','place','parking','downtown', 'sketchy', 'hole in the wall', 'drive through', 'drive thru', 'easy to find']    "
   ]
  },
  {
   "cell_type": "code",
   "execution_count": 59,
   "metadata": {},
   "outputs": [],
   "source": [
    "s1 = pd.Series(service_words, name = 'service')\n",
    "s2 = pd.Series(food_words, name = 'food')\n",
    "s3 = pd.Series(price_words, name = 'price')\n",
    "s4 = pd.Series(location_words, name = 'location')\n",
    "\n",
    "replacement_table = pd.concat([s1,s2,s3,s4], axis = 1)\n",
    "\n",
    "replacement_table = replacement_table.replace(np.nan, '', regex=True)"
   ]
  },
  {
   "cell_type": "code",
   "execution_count": 60,
   "metadata": {},
   "outputs": [
    {
     "data": {
      "text/html": [
       "<div>\n",
       "<style scoped>\n",
       "    .dataframe tbody tr th:only-of-type {\n",
       "        vertical-align: middle;\n",
       "    }\n",
       "\n",
       "    .dataframe tbody tr th {\n",
       "        vertical-align: top;\n",
       "    }\n",
       "\n",
       "    .dataframe thead th {\n",
       "        text-align: right;\n",
       "    }\n",
       "</style>\n",
       "<table border=\"1\" class=\"dataframe\">\n",
       "  <thead>\n",
       "    <tr style=\"text-align: right;\">\n",
       "      <th></th>\n",
       "      <th>service</th>\n",
       "      <th>food</th>\n",
       "      <th>price</th>\n",
       "      <th>location</th>\n",
       "    </tr>\n",
       "  </thead>\n",
       "  <tbody>\n",
       "    <tr>\n",
       "      <th>0</th>\n",
       "      <td>service</td>\n",
       "      <td>mediocre</td>\n",
       "      <td>worth</td>\n",
       "      <td>location</td>\n",
       "    </tr>\n",
       "    <tr>\n",
       "      <th>1</th>\n",
       "      <td>quickly</td>\n",
       "      <td>fried</td>\n",
       "      <td>prices</td>\n",
       "      <td>street</td>\n",
       "    </tr>\n",
       "    <tr>\n",
       "      <th>2</th>\n",
       "      <td>attentive</td>\n",
       "      <td>flavorful</td>\n",
       "      <td>cheap</td>\n",
       "      <td>place</td>\n",
       "    </tr>\n",
       "    <tr>\n",
       "      <th>3</th>\n",
       "      <td>quick</td>\n",
       "      <td>quality</td>\n",
       "      <td>affordable</td>\n",
       "      <td>parking</td>\n",
       "    </tr>\n",
       "    <tr>\n",
       "      <th>4</th>\n",
       "      <td>fast</td>\n",
       "      <td>authentic</td>\n",
       "      <td>overpriced</td>\n",
       "      <td>downtown</td>\n",
       "    </tr>\n",
       "    <tr>\n",
       "      <th>5</th>\n",
       "      <td>friendly</td>\n",
       "      <td>delicious</td>\n",
       "      <td>pricey</td>\n",
       "      <td>sketchy</td>\n",
       "    </tr>\n",
       "    <tr>\n",
       "      <th>6</th>\n",
       "      <td>helpful</td>\n",
       "      <td>fresh</td>\n",
       "      <td>price</td>\n",
       "      <td>hole in the wall</td>\n",
       "    </tr>\n",
       "    <tr>\n",
       "      <th>7</th>\n",
       "      <td>waited</td>\n",
       "      <td>tasty</td>\n",
       "      <td>happy hour</td>\n",
       "      <td>drive through</td>\n",
       "    </tr>\n",
       "    <tr>\n",
       "      <th>8</th>\n",
       "      <td>wait</td>\n",
       "      <td>taste</td>\n",
       "      <td></td>\n",
       "      <td>drive thru</td>\n",
       "    </tr>\n",
       "    <tr>\n",
       "      <th>9</th>\n",
       "      <td>rude</td>\n",
       "      <td>spicy</td>\n",
       "      <td></td>\n",
       "      <td>easy to find</td>\n",
       "    </tr>\n",
       "    <tr>\n",
       "      <th>10</th>\n",
       "      <td></td>\n",
       "      <td>bland</td>\n",
       "      <td></td>\n",
       "      <td></td>\n",
       "    </tr>\n",
       "    <tr>\n",
       "      <th>11</th>\n",
       "      <td></td>\n",
       "      <td>yummy</td>\n",
       "      <td></td>\n",
       "      <td></td>\n",
       "    </tr>\n",
       "    <tr>\n",
       "      <th>12</th>\n",
       "      <td></td>\n",
       "      <td>yum</td>\n",
       "      <td></td>\n",
       "      <td></td>\n",
       "    </tr>\n",
       "    <tr>\n",
       "      <th>13</th>\n",
       "      <td></td>\n",
       "      <td>variety</td>\n",
       "      <td></td>\n",
       "      <td></td>\n",
       "    </tr>\n",
       "    <tr>\n",
       "      <th>14</th>\n",
       "      <td></td>\n",
       "      <td>tender</td>\n",
       "      <td></td>\n",
       "      <td></td>\n",
       "    </tr>\n",
       "    <tr>\n",
       "      <th>15</th>\n",
       "      <td></td>\n",
       "      <td>juicy</td>\n",
       "      <td></td>\n",
       "      <td></td>\n",
       "    </tr>\n",
       "    <tr>\n",
       "      <th>16</th>\n",
       "      <td></td>\n",
       "      <td>seasoned</td>\n",
       "      <td></td>\n",
       "      <td></td>\n",
       "    </tr>\n",
       "    <tr>\n",
       "      <th>17</th>\n",
       "      <td></td>\n",
       "      <td>greasy</td>\n",
       "      <td></td>\n",
       "      <td></td>\n",
       "    </tr>\n",
       "    <tr>\n",
       "      <th>18</th>\n",
       "      <td></td>\n",
       "      <td>salty</td>\n",
       "      <td></td>\n",
       "      <td></td>\n",
       "    </tr>\n",
       "    <tr>\n",
       "      <th>19</th>\n",
       "      <td></td>\n",
       "      <td>creamy</td>\n",
       "      <td></td>\n",
       "      <td></td>\n",
       "    </tr>\n",
       "  </tbody>\n",
       "</table>\n",
       "</div>"
      ],
      "text/plain": [
       "      service       food       price          location\n",
       "0   service    mediocre   worth       location        \n",
       "1   quickly    fried      prices      street          \n",
       "2   attentive  flavorful  cheap       place           \n",
       "3   quick      quality    affordable  parking         \n",
       "4   fast       authentic  overpriced  downtown        \n",
       "5   friendly   delicious  pricey      sketchy         \n",
       "6   helpful    fresh      price       hole in the wall\n",
       "7   waited     tasty      happy hour  drive through   \n",
       "8   wait       taste                  drive thru      \n",
       "9   rude       spicy                  easy to find    \n",
       "10             bland                                  \n",
       "11             yummy                                  \n",
       "12             yum                                    \n",
       "13             variety                                \n",
       "14             tender                                 \n",
       "15             juicy                                  \n",
       "16             seasoned                               \n",
       "17             greasy                                 \n",
       "18             salty                                  \n",
       "19             creamy                                 "
      ]
     },
     "execution_count": 60,
     "metadata": {},
     "output_type": "execute_result"
    }
   ],
   "source": [
    "replacement_table"
   ]
  },
  {
   "cell_type": "code",
   "execution_count": 61,
   "metadata": {},
   "outputs": [],
   "source": [
    "def replace_names(text):\n",
    "    \n",
    "    text = text.lower()\n",
    "    \n",
    "    service_words = ['service', 'quickly', \"attentive\", 'quick','fast','friendly','helpful', 'waited','wait','rude']\n",
    "    food_words = ['mediocre', 'fried', 'flavorful','quality','authentic','delicious','fresh','tasty','taste','spicy','bland','yummy','yum','variety','tender','juicy','seasoned','greasy','salty','creamy']\n",
    "    price_words =[\"worth\",'prices','cheap','affordable','overpriced','pricey', 'price', 'happy hour']\n",
    "    location_words =['location', 'street','place','parking','downtown', 'sketchy', 'hole in the wall', 'drive through', 'drive thru', 'easy to find']\n",
    "    \n",
    "    for w in service_words:\n",
    "        try:\n",
    "            text = text.replace(w, ' service ')\n",
    "        except:\n",
    "            pass\n",
    "    for w in food_words:\n",
    "        try:\n",
    "            text = text.replace(w, ' food ')\n",
    "        except:\n",
    "            pass\n",
    "    for w in price_words:\n",
    "        try:\n",
    "            text = text.replace(w, ' price ')\n",
    "        except:\n",
    "            pass\n",
    "    for w in location_words:\n",
    "        try:\n",
    "            text = text.replace(w, ' location ')\n",
    "        except:\n",
    "            pass\n",
    "    return text"
   ]
  },
  {
   "cell_type": "code",
   "execution_count": 12,
   "metadata": {},
   "outputs": [],
   "source": [
    "# apply replace_names() on each review\n",
    "text_column = []\n",
    "for r in review.itertuples():\n",
    "    text = r.review_contents\n",
    "    new_text = replace_names(text)\n",
    "    text_column.append(new_text)"
   ]
  },
  {
   "cell_type": "code",
   "execution_count": 13,
   "metadata": {},
   "outputs": [],
   "source": [
    "# replace old text with new text\n",
    "review.review_contents = text_column"
   ]
  },
  {
   "cell_type": "markdown",
   "metadata": {},
   "source": [
    "#### Task D1."
   ]
  },
  {
   "cell_type": "code",
   "execution_count": 14,
   "metadata": {},
   "outputs": [],
   "source": [
    "re_len = len(review)"
   ]
  },
  {
   "cell_type": "code",
   "execution_count": 15,
   "metadata": {},
   "outputs": [],
   "source": [
    "review_attri_count = []\n",
    "attri = ['service','food','price','location']\n",
    "for i in range(re_len):\n",
    "    re_attri_list = []\n",
    "    for a in attri:\n",
    "        re_count = review['review_contents'][i].count(a)\n",
    "        re_attri_list.append(re_count)\n",
    "    review_attri_count.append(re_attri_list)"
   ]
  },
  {
   "cell_type": "code",
   "execution_count": 16,
   "metadata": {},
   "outputs": [],
   "source": [
    "attribute = np.array([1,1,1,1])\n",
    "cos_simi = []\n",
    "for i in range(re_len):\n",
    "    cos_matrix = cosine_similarity([attribute, np.array(review_attri_count[i])])\n",
    "    cos = cos_matrix[0][1]\n",
    "    cos_simi.append(cos)"
   ]
  },
  {
   "cell_type": "code",
   "execution_count": 17,
   "metadata": {},
   "outputs": [],
   "source": [
    "review['cos_simi'] = cos_simi\n",
    "review = review.sort_values(by='cos_simi',ascending=False)\n",
    "re_high_cos = review.iloc[:200]"
   ]
  },
  {
   "cell_type": "code",
   "execution_count": 18,
   "metadata": {},
   "outputs": [
    {
     "data": {
      "text/html": [
       "<div>\n",
       "<style scoped>\n",
       "    .dataframe tbody tr th:only-of-type {\n",
       "        vertical-align: middle;\n",
       "    }\n",
       "\n",
       "    .dataframe tbody tr th {\n",
       "        vertical-align: top;\n",
       "    }\n",
       "\n",
       "    .dataframe thead th {\n",
       "        text-align: right;\n",
       "    }\n",
       "</style>\n",
       "<table border=\"1\" class=\"dataframe\">\n",
       "  <thead>\n",
       "    <tr style=\"text-align: right;\">\n",
       "      <th></th>\n",
       "      <th>restaurants</th>\n",
       "      <th>review_contents</th>\n",
       "      <th>cos_simi</th>\n",
       "    </tr>\n",
       "  </thead>\n",
       "  <tbody>\n",
       "    <tr>\n",
       "      <th>7975</th>\n",
       "      <td>El Arroyo 5th Street</td>\n",
       "      <td>let's see...what can i say about this  location ...oh, that's right, it's awesome. \\n\\nnot just for their hilarious signs that are shared globally on facebook, but their drinks, food, and  service  are phenomenal.\\n\\ndo you like  price ? me too. know who else does? el arroyo. seriously, you should check it out. \\n\\nthey have a great patio as well. do yourself a favor and get one (or a few) of their ritas, some chips &amp; queso, and soak in all the amazing weather austin has to offer.\\n\\nby the way, they have live music on the weekends. sounds like heaven right?</td>\n",
       "      <td>1.0</td>\n",
       "    </tr>\n",
       "    <tr>\n",
       "      <th>5731</th>\n",
       "      <td>Las Cazuelas Mexican Restaurant</td>\n",
       "      <td>good break service  tacos!  the migas (soco taco) was good.  the chorizo and egg was also good; a bit  food  -- but better than dry.  the pollo flaco was just ok; would have rather had avocado than their \"guacamole.\"  overall, the convenience of ordering and paying online and just having to pop in to grab the bag makes this  location    price   visiting.</td>\n",
       "      <td>1.0</td>\n",
       "    </tr>\n",
       "    <tr>\n",
       "      <th>6590</th>\n",
       "      <td>Angie’s Mexican Restaurant</td>\n",
       "      <td>taco shack is by no means one of the better taco joints in town, but the shack taco and the el niño taco hit the spot every time, the  service  is practically instantaneous, and the  price  +  location  is right on. \\n\\nthere's plenty of really negative reviews on here, but i guarantee you those negative nancys all eat here at least twice a month.  you know how whataburger always seems exquisitely  food  when you pick it up on the way home from a bar late-late saturday night?  taco shack is the exact same way, except at 7:30 am on a weekday.  and you're sober.</td>\n",
       "      <td>1.0</td>\n",
       "    </tr>\n",
       "    <tr>\n",
       "      <th>8057</th>\n",
       "      <td>Taco Joint</td>\n",
       "      <td>i feel ashamed of not knowing this  location  earlier, but i'm glad i did now. the tortillas are both crispy on the outside and fluffy on the inside. it seems like all the ingredients are very  food . the  price  is such a bargain and there is an assortment of sauces you can put on the tacos\\n\\nsuch as habanero, peanut, avocado, chipotle, green, and red.\\n\\ni loved all the break service  tacos and the fish tacos in my opinion give cabo bob's a run for its money.\\n\\ni just wish it was open on sunday. if you want to impress out of towners, take them here. city envy may occur.</td>\n",
       "      <td>1.0</td>\n",
       "    </tr>\n",
       "    <tr>\n",
       "      <th>8425</th>\n",
       "      <td>El Chile Café Y Cantina</td>\n",
       "      <td>picked this  location  because it was conveniently located to ut and 35. i arrived at nearly 2 pm, and was seated outside. there were two other tables eating outside and one inside. it was not at all busy. unfortunately, this restaurant--or at least my server--doesn't care much for parties of one. the couple that arrived after me was brought their drinks first; when the server brought mine (over 5 minutes later) he didn't even make eye contact! \\n\\ni ordered the puffy tacos--one chicken and one beef. they arrived fairly  service . i can't recommend them. the shells were less \"puffy\" than they were gummy. and the spices in the chicken left a strange after food . \\n\\nperhaps if i'd come here for  price  or with a group i'd have had a better experience. the outside patio has a nice vibe and others seemed to be enjoying themselves...</td>\n",
       "      <td>1.0</td>\n",
       "    </tr>\n",
       "  </tbody>\n",
       "</table>\n",
       "</div>"
      ],
      "text/plain": [
       "                          restaurants  \\\n",
       "7975  El Arroyo 5th Street              \n",
       "5731  Las Cazuelas Mexican Restaurant   \n",
       "6590  Angie’s Mexican Restaurant        \n",
       "8057  Taco Joint                        \n",
       "8425  El Chile Café Y Cantina           \n",
       "\n",
       "                                                                                                                                                                                                                                                                                                                                                                                                                                                                                                                                                                                                                                                                                                                                                                                                                                                                review_contents  \\\n",
       "7975  let's see...what can i say about this  location ...oh, that's right, it's awesome. \\n\\nnot just for their hilarious signs that are shared globally on facebook, but their drinks, food, and  service  are phenomenal.\\n\\ndo you like  price ? me too. know who else does? el arroyo. seriously, you should check it out. \\n\\nthey have a great patio as well. do yourself a favor and get one (or a few) of their ritas, some chips & queso, and soak in all the amazing weather austin has to offer.\\n\\nby the way, they have live music on the weekends. sounds like heaven right?                                                                                                                                                                                                                                                                                        \n",
       "5731  good break service  tacos!  the migas (soco taco) was good.  the chorizo and egg was also good; a bit  food  -- but better than dry.  the pollo flaco was just ok; would have rather had avocado than their \"guacamole.\"  overall, the convenience of ordering and paying online and just having to pop in to grab the bag makes this  location    price   visiting.                                                                                                                                                                                                                                                                                                                                                                                                                                                                                                        \n",
       "6590  taco shack is by no means one of the better taco joints in town, but the shack taco and the el niño taco hit the spot every time, the  service  is practically instantaneous, and the  price  +  location  is right on. \\n\\nthere's plenty of really negative reviews on here, but i guarantee you those negative nancys all eat here at least twice a month.  you know how whataburger always seems exquisitely  food  when you pick it up on the way home from a bar late-late saturday night?  taco shack is the exact same way, except at 7:30 am on a weekday.  and you're sober.                                                                                                                                                                                                                                                                                      \n",
       "8057  i feel ashamed of not knowing this  location  earlier, but i'm glad i did now. the tortillas are both crispy on the outside and fluffy on the inside. it seems like all the ingredients are very  food . the  price  is such a bargain and there is an assortment of sauces you can put on the tacos\\n\\nsuch as habanero, peanut, avocado, chipotle, green, and red.\\n\\ni loved all the break service  tacos and the fish tacos in my opinion give cabo bob's a run for its money.\\n\\ni just wish it was open on sunday. if you want to impress out of towners, take them here. city envy may occur.                                                                                                                                                                                                                                                                        \n",
       "8425  picked this  location  because it was conveniently located to ut and 35. i arrived at nearly 2 pm, and was seated outside. there were two other tables eating outside and one inside. it was not at all busy. unfortunately, this restaurant--or at least my server--doesn't care much for parties of one. the couple that arrived after me was brought their drinks first; when the server brought mine (over 5 minutes later) he didn't even make eye contact! \\n\\ni ordered the puffy tacos--one chicken and one beef. they arrived fairly  service . i can't recommend them. the shells were less \"puffy\" than they were gummy. and the spices in the chicken left a strange after food . \\n\\nperhaps if i'd come here for  price  or with a group i'd have had a better experience. the outside patio has a nice vibe and others seemed to be enjoying themselves...   \n",
       "\n",
       "      cos_simi  \n",
       "7975  1.0       \n",
       "5731  1.0       \n",
       "6590  1.0       \n",
       "8057  1.0       \n",
       "8425  1.0       "
      ]
     },
     "execution_count": 18,
     "metadata": {},
     "output_type": "execute_result"
    }
   ],
   "source": [
    "re_high_cos.head()"
   ]
  },
  {
   "cell_type": "markdown",
   "metadata": {},
   "source": [
    "#### Task D2."
   ]
  },
  {
   "cell_type": "code",
   "execution_count": 19,
   "metadata": {},
   "outputs": [],
   "source": [
    "analyser = SentimentIntensityAnalyzer()"
   ]
  },
  {
   "cell_type": "code",
   "execution_count": 20,
   "metadata": {},
   "outputs": [],
   "source": [
    "review_sentiment = []\n",
    "for r in re_high_cos.itertuples():\n",
    "    snt = analyser.polarity_scores(r.review_contents)\n",
    "    review_sentiment.append(snt)\n",
    "review_sentiment = [r['compound'] for r in review_sentiment]"
   ]
  },
  {
   "cell_type": "code",
   "execution_count": 39,
   "metadata": {},
   "outputs": [],
   "source": [
    "re_high_sent = re_high_cos\n",
    "re_high_sent['sentiment'] = review_sentiment\n",
    "re_high_sent = re_high_cos.sort_values(by='sentiment',ascending=False)"
   ]
  },
  {
   "cell_type": "code",
   "execution_count": 22,
   "metadata": {},
   "outputs": [
    {
     "data": {
      "text/html": [
       "<div>\n",
       "<style scoped>\n",
       "    .dataframe tbody tr th:only-of-type {\n",
       "        vertical-align: middle;\n",
       "    }\n",
       "\n",
       "    .dataframe tbody tr th {\n",
       "        vertical-align: top;\n",
       "    }\n",
       "\n",
       "    .dataframe thead th {\n",
       "        text-align: right;\n",
       "    }\n",
       "</style>\n",
       "<table border=\"1\" class=\"dataframe\">\n",
       "  <thead>\n",
       "    <tr style=\"text-align: right;\">\n",
       "      <th></th>\n",
       "      <th>restaurants</th>\n",
       "      <th>review_contents</th>\n",
       "      <th>cos_simi</th>\n",
       "      <th>sentiment</th>\n",
       "    </tr>\n",
       "  </thead>\n",
       "  <tbody>\n",
       "    <tr>\n",
       "      <th>5732</th>\n",
       "      <td>Kesos Tacos</td>\n",
       "      <td>ok, to be honest, i kind of don't want to give this review. i want to keep this  location  a secret... all to myself. but i see the greater good and i realize that the more biz these guys get, the longer they'll be around. so here ya go and here it is.\\n\\nthis  location  is one of my all time go-to favorites. i grew up in san antonio, by the way, and i pretty much love everything here. the break service  tacos are are incredible and they now offer them in ultra-huge sizes. the caldo is fantastic and the plates are  food  and scrumptious. they have horchata and mexican sodas and their salsas (yes, they have like 7 different ones) are insanely  food  and good (and hot!!!). they have menudo!\\n\\nmy recommendation is the large quesadilla, however. they make 'em huge and wonderful and are surprisingly sprinkled with a parmesan-like cheese on top. \\n\\ni also love to get a couple of beers here every now and again. they have my brand (lone star) and it's   price  . they are also open late and i often hit them up after the bars close for a taco or two. \\n\\nyou may have to brush up on your spanish, though. sometimes i have to speak entirely in spanish to order. i like it though. it's fun to keep the old language skills sharp, yeah?</td>\n",
       "      <td>0.948683</td>\n",
       "      <td>0.9972</td>\n",
       "    </tr>\n",
       "    <tr>\n",
       "      <th>5616</th>\n",
       "      <td>Las Cazuelas Mexican Restaurant</td>\n",
       "      <td>top notch  location . food a++  service  a++ ambiance a++\\n\\nthe food is not your typical mexican that you can get everywhere, it has very unique and  food  interior mx food. i was blown away by the  food  and the flavors. while i did try a boring carnitas dish, my friends all had unique items that i was overly impressed with. i knew i'd be drinking later so i didn't want to be too adventurous, so i definitely will need to go back to enjoy the other menu items.\\n\\nthe portions are huge, so it wasn't the best choice before heading  location , as i would have loved to take half home to enjoy later. you could definitely share if you'd like. the   price   are a bit high, but well   price   it for the portion size.\\n\\nthe ambiance is great with some outside seating in front, cute interior and a bar garden out back. the idea is to  service  out back until your table is ready, but it was way crowded so they accommodated me. they have beer buckets and great cocktails so it's a great spot to have a pre dinner drink and unwind before sitting down and over eating chips and salsa.\\n\\nthe owner goes above and beyond to take care of clients. i believe his dedication and true connections with his guests are what will make this  location  succeed in the long term. it's already busy all the time, but i can only see it continue to grow in popularity. the hostesses were also truly a delight, and very  service  and accommodating. \\n\\nthank you so much for my experience friday night, i will forever be an evangelist for your restaurant!</td>\n",
       "      <td>0.948122</td>\n",
       "      <td>0.9972</td>\n",
       "    </tr>\n",
       "    <tr>\n",
       "      <th>4772</th>\n",
       "      <td>Z’Tejas Mexican Restaurant and Grill</td>\n",
       "      <td>i've always wanted a favorite spot, but it had to be  food  mexican (not over  price d tex mex), have a great vibe, and great drinks! this  location  has it all. the food is so good and so filling. the   price   are incredible, especially considering it's  location . the  service staff is down to earth and treated us like queens even though we were dressed in  food  outta bed couture. if you're lucky, you'll even get a warm welcome from gaby herself. she's the cutest little lady and really makes you feel like your opinions are valued. get!! the!! beans!! anyway, i'm only giving it 4 stars and not 5 because the outdoor seating needs some work, which i'm sure theyre working on because i noticed some unopened boxes. just  service  til my sis gets her profit coins!</td>\n",
       "      <td>0.981981</td>\n",
       "      <td>0.9956</td>\n",
       "    </tr>\n",
       "    <tr>\n",
       "      <th>5071</th>\n",
       "      <td>Suerte</td>\n",
       "      <td>after being to the gloria's at the domain for brunch a few times, i was excited to see that one was opening 2 blocks from my office.\\n\\ntuesday evening before a yelp event, i decided to stop by this  location  with a friend for some drinks on the patio.\\n\\nthe outdoor seating area is right along 6th  location  so there is always cars passing by and it can get loud but the beautiful austin weather (sunny and 80 degrees in the february) makes up for it. the indoor space is huge and trendy with booths, tables and tons of space if you have a big group. there's also a large wrap around bar if you want to grab a drink or bite alone and feel like chatting it up w/ a bar food .\\n\\ni can't tell you that the food is amazing or anything special because i've only had the *awful* queso (seriously, don't get it), not too shabby nachos &amp; pretty good tortilla soup. the drinks on the other hand are stroooong &amp;  food ! their chips &amp; salsa &amp; black bean dip are the bomb too! \\n\\ni'm a sucker for a good  price  and gloria's delivers with their margaritas (2 got me reaaal tipsy), sangria, mojito &amp; house wines for $4 each all day monday-thursday and friday from 11am-7pm. that is a pretty good deal to me!\\n\\nour  service er, edgar, was incredibly  service  &amp;  service  - the  service  alone is what bumped this review from 3 to 4 stars. \\n\\nof course i'll be back. the drinks are strong &amp;   price  , it's 2 blocks from my office, has a great week-long  price  and it's semi-decent but   price   mexican food in dt austin!</td>\n",
       "      <td>0.970725</td>\n",
       "      <td>0.9955</td>\n",
       "    </tr>\n",
       "    <tr>\n",
       "      <th>1182</th>\n",
       "      <td>Licha’s Cantina</td>\n",
       "      <td>this  location  is a semi hidden gem. i've been in the neighborhood for a year and a half and started coming here only 4 months ago. i need to catch up! it looks very low key and kind of unattractive on the outside,  but it has a beautiful and spacious patio area and a cozy indoor space. the staff is super  service , but the food is outstanding. my favorite is the roast chicken taco! if you've been to fresas this is better (and i love their fresas chicken taco). i'm not a tamale fan, but i gave it a chance today and ordered the pork tamale with green sauce and it was incredible, the migas taco is great, but i think their egg, potato, black bean and avocado is perfection (add cheese). vwry generous portions and they don't go   price   on the guac either! oh! the tortilla chips are great too. that's it. i have nothing but good things to say. hope they keep the  food  of this  location !</td>\n",
       "      <td>0.948683</td>\n",
       "      <td>0.9955</td>\n",
       "    </tr>\n",
       "  </tbody>\n",
       "</table>\n",
       "</div>"
      ],
      "text/plain": [
       "                               restaurants  \\\n",
       "5732  Kesos Tacos                            \n",
       "5616  Las Cazuelas Mexican Restaurant        \n",
       "4772  Z’Tejas Mexican Restaurant and Grill   \n",
       "5071  Suerte                                 \n",
       "1182  Licha’s Cantina                        \n",
       "\n",
       "                                                                                                                                                                                                                                                                                                                                                                                                                                                                                                                                                                                                                                                                                                                                                                                                                                                                                                                                                                                                                                                                                                                                                                                                                                                                                                                                                                                                                                                                                                                                                                                           review_contents  \\\n",
       "5732  ok, to be honest, i kind of don't want to give this review. i want to keep this  location  a secret... all to myself. but i see the greater good and i realize that the more biz these guys get, the longer they'll be around. so here ya go and here it is.\\n\\nthis  location  is one of my all time go-to favorites. i grew up in san antonio, by the way, and i pretty much love everything here. the break service  tacos are are incredible and they now offer them in ultra-huge sizes. the caldo is fantastic and the plates are  food  and scrumptious. they have horchata and mexican sodas and their salsas (yes, they have like 7 different ones) are insanely  food  and good (and hot!!!). they have menudo!\\n\\nmy recommendation is the large quesadilla, however. they make 'em huge and wonderful and are surprisingly sprinkled with a parmesan-like cheese on top. \\n\\ni also love to get a couple of beers here every now and again. they have my brand (lone star) and it's   price  . they are also open late and i often hit them up after the bars close for a taco or two. \\n\\nyou may have to brush up on your spanish, though. sometimes i have to speak entirely in spanish to order. i like it though. it's fun to keep the old language skills sharp, yeah?                                                                                                                                                                                                                                                                                                               \n",
       "5616  top notch  location . food a++  service  a++ ambiance a++\\n\\nthe food is not your typical mexican that you can get everywhere, it has very unique and  food  interior mx food. i was blown away by the  food  and the flavors. while i did try a boring carnitas dish, my friends all had unique items that i was overly impressed with. i knew i'd be drinking later so i didn't want to be too adventurous, so i definitely will need to go back to enjoy the other menu items.\\n\\nthe portions are huge, so it wasn't the best choice before heading  location , as i would have loved to take half home to enjoy later. you could definitely share if you'd like. the   price   are a bit high, but well   price   it for the portion size.\\n\\nthe ambiance is great with some outside seating in front, cute interior and a bar garden out back. the idea is to  service  out back until your table is ready, but it was way crowded so they accommodated me. they have beer buckets and great cocktails so it's a great spot to have a pre dinner drink and unwind before sitting down and over eating chips and salsa.\\n\\nthe owner goes above and beyond to take care of clients. i believe his dedication and true connections with his guests are what will make this  location  succeed in the long term. it's already busy all the time, but i can only see it continue to grow in popularity. the hostesses were also truly a delight, and very  service  and accommodating. \\n\\nthank you so much for my experience friday night, i will forever be an evangelist for your restaurant!   \n",
       "4772  i've always wanted a favorite spot, but it had to be  food  mexican (not over  price d tex mex), have a great vibe, and great drinks! this  location  has it all. the food is so good and so filling. the   price   are incredible, especially considering it's  location . the  service staff is down to earth and treated us like queens even though we were dressed in  food  outta bed couture. if you're lucky, you'll even get a warm welcome from gaby herself. she's the cutest little lady and really makes you feel like your opinions are valued. get!! the!! beans!! anyway, i'm only giving it 4 stars and not 5 because the outdoor seating needs some work, which i'm sure theyre working on because i noticed some unopened boxes. just  service  til my sis gets her profit coins!                                                                                                                                                                                                                                                                                                                                                                                                                                                                                                                                                                                                                                                                                                                                                                                                    \n",
       "5071  after being to the gloria's at the domain for brunch a few times, i was excited to see that one was opening 2 blocks from my office.\\n\\ntuesday evening before a yelp event, i decided to stop by this  location  with a friend for some drinks on the patio.\\n\\nthe outdoor seating area is right along 6th  location  so there is always cars passing by and it can get loud but the beautiful austin weather (sunny and 80 degrees in the february) makes up for it. the indoor space is huge and trendy with booths, tables and tons of space if you have a big group. there's also a large wrap around bar if you want to grab a drink or bite alone and feel like chatting it up w/ a bar food .\\n\\ni can't tell you that the food is amazing or anything special because i've only had the *awful* queso (seriously, don't get it), not too shabby nachos & pretty good tortilla soup. the drinks on the other hand are stroooong &  food ! their chips & salsa & black bean dip are the bomb too! \\n\\ni'm a sucker for a good  price  and gloria's delivers with their margaritas (2 got me reaaal tipsy), sangria, mojito & house wines for $4 each all day monday-thursday and friday from 11am-7pm. that is a pretty good deal to me!\\n\\nour  service er, edgar, was incredibly  service  &  service  - the  service  alone is what bumped this review from 3 to 4 stars. \\n\\nof course i'll be back. the drinks are strong &   price  , it's 2 blocks from my office, has a great week-long  price  and it's semi-decent but   price   mexican food in dt austin!                          \n",
       "1182  this  location  is a semi hidden gem. i've been in the neighborhood for a year and a half and started coming here only 4 months ago. i need to catch up! it looks very low key and kind of unattractive on the outside,  but it has a beautiful and spacious patio area and a cozy indoor space. the staff is super  service , but the food is outstanding. my favorite is the roast chicken taco! if you've been to fresas this is better (and i love their fresas chicken taco). i'm not a tamale fan, but i gave it a chance today and ordered the pork tamale with green sauce and it was incredible, the migas taco is great, but i think their egg, potato, black bean and avocado is perfection (add cheese). vwry generous portions and they don't go   price   on the guac either! oh! the tortilla chips are great too. that's it. i have nothing but good things to say. hope they keep the  food  of this  location !                                                                                                                                                                                                                                                                                                                                                                                                                                                                                                                                                                                                                                                                      \n",
       "\n",
       "      cos_simi  sentiment  \n",
       "5732  0.948683  0.9972     \n",
       "5616  0.948122  0.9972     \n",
       "4772  0.981981  0.9956     \n",
       "5071  0.970725  0.9955     \n",
       "1182  0.948683  0.9955     "
      ]
     },
     "execution_count": 22,
     "metadata": {},
     "output_type": "execute_result"
    }
   ],
   "source": [
    "re_high_sent.head()"
   ]
  },
  {
   "cell_type": "code",
   "execution_count": 23,
   "metadata": {},
   "outputs": [],
   "source": [
    "# create dictionaries: key is rest name, value is list of sentiments and cos similarities for that rest\n",
    "rest_cs_dict = {}\n",
    "rest_sent_dict = {}\n",
    "for r in re_high_cos.itertuples():\n",
    "    \n",
    "    if r.restaurants in rest_sent_dict:\n",
    "        rest_sent_dict[r.restaurants].append(r.sentiment)\n",
    "    else:\n",
    "        rest_sent_dict[r.restaurants] = [r.sentiment]\n",
    "        \n",
    "    if r.restaurants in rest_cs_dict:\n",
    "        rest_cs_dict[r.restaurants].append(r.cos_simi)\n",
    "    else:\n",
    "        rest_cs_dict[r.restaurants] = [r.cos_simi]        "
   ]
  },
  {
   "cell_type": "code",
   "execution_count": 24,
   "metadata": {},
   "outputs": [],
   "source": [
    "# get average of list\n",
    "def avg(lst): \n",
    "    return sum(lst) / len(lst) "
   ]
  },
  {
   "cell_type": "code",
   "execution_count": 25,
   "metadata": {},
   "outputs": [],
   "source": [
    "# create dictionaries: key is rest name, value is avg sentiment and cos similarities for that rest\n",
    "rest_cs_avg_dict = {}\n",
    "rest_sent_avg_dict = {}\n",
    "for r in rest_cs_dict:\n",
    "    rest_cs_avg_dict[r] = avg(rest_cs_dict[r])\n",
    "    rest_sent_avg_dict[r] = avg(rest_sent_dict[r])"
   ]
  },
  {
   "cell_type": "code",
   "execution_count": 26,
   "metadata": {},
   "outputs": [],
   "source": [
    "# get sorted lists of rest_cs_avg_dict and rest_cs_avg_dict\n",
    "import operator\n",
    "rest_cs_avg = sorted(rest_cs_avg_dict.items(), key=operator.itemgetter(1))\n",
    "rest_cs_avg.reverse()\n",
    "\n",
    "rest_sent_avg = sorted(rest_sent_avg_dict.items(), key=operator.itemgetter(1))\n",
    "rest_sent_avg.reverse()"
   ]
  },
  {
   "cell_type": "markdown",
   "metadata": {},
   "source": [
    "We realized there is little variability in the restaurants average cosine similarities, while there is higher variability in the restaurants sentiment scores. Knowing this, we decided to multiply the two values together, cosine similarity and sentiment scores, to find our top recommendations. We knew that the cosine similarities would not make too big of a difference in the sentiment scores which is why we felt comfortable doing this."
   ]
  },
  {
   "cell_type": "code",
   "execution_count": 27,
   "metadata": {},
   "outputs": [],
   "source": [
    "# create dictionary: key is rest name, value is sentiment score * cosine similarity for that restaurant\n",
    "rest_cs_sent_dict = {}\n",
    "for r in rest_cs_dict:\n",
    "    cs = rest_cs_avg_dict[r]\n",
    "    sent = rest_sent_avg_dict[r]\n",
    "    rest_cs_sent_dict[r] = cs * sent"
   ]
  },
  {
   "cell_type": "code",
   "execution_count": 28,
   "metadata": {},
   "outputs": [],
   "source": [
    "# get sorted list of rest_cs_send_dict\n",
    "rest_cs_sent = sorted(rest_cs_sent_dict.items(), key=operator.itemgetter(1))\n",
    "rest_cs_sent.reverse()"
   ]
  },
  {
   "cell_type": "markdown",
   "metadata": {},
   "source": [
    "#### Recommendations"
   ]
  },
  {
   "cell_type": "code",
   "execution_count": 29,
   "metadata": {},
   "outputs": [
    {
     "name": "stdout",
     "output_type": "stream",
     "text": [
      "1. Name: Gloria’s Latin Cuisine\n",
      "    Cos: 1.0\n",
      "   Sent: 0.9668\n",
      "\n",
      "2. Name: Taqueria Los Altos\n",
      "    Cos: 0.974341649025257\n",
      "   Sent: 0.9911000000000001\n",
      "\n",
      "3. Name: Taco Ranch\n",
      "    Cos: 0.9707253433941511\n",
      "   Sent: 0.9932\n",
      "\n"
     ]
    }
   ],
   "source": [
    "recommendations = [r[0] for r in rest_cs_sent[:3]]\n",
    "for i in range (len(recommendations)):\n",
    "    output = str(i+1) + '. Name: ' + recommendations[i]\n",
    "    output += '\\n    Cos: ' + str(rest_cs_avg_dict[recommendations[i]])\n",
    "    output += '\\n   Sent: ' + str(rest_sent_avg_dict[recommendations[i]])\n",
    "    print (output, end='\\n\\n')"
   ]
  },
  {
   "cell_type": "markdown",
   "metadata": {},
   "source": [
    "### Task F"
   ]
  },
  {
   "cell_type": "code",
   "execution_count": 30,
   "metadata": {},
   "outputs": [],
   "source": [
    "ratings=pd.read_csv(\"rest_ratings.csv\")"
   ]
  },
  {
   "cell_type": "code",
   "execution_count": 31,
   "metadata": {},
   "outputs": [],
   "source": [
    "r5='alt=\"5.0 star rating'\n",
    "r4='alt=\"4.0 star rating'\n",
    "r3='alt=\"3.0 star rating'\n",
    "r2='alt=\"2.0 star rating'\n",
    "r1='alt=\"1.0 star rating'"
   ]
  },
  {
   "cell_type": "code",
   "execution_count": 32,
   "metadata": {},
   "outputs": [],
   "source": [
    "new_rating=[]\n",
    "for n in ratings.itertuples():\n",
    "    if r5 in n[2]:\n",
    "        new_rating.append(5)\n",
    "    elif r4 in n[2]:\n",
    "        new_rating.append(4)\n",
    "    elif r3 in n[2]:\n",
    "        new_rating.append(3)\n",
    "    elif r2 in n[2]:\n",
    "        new_rating.append(2)\n",
    "    elif r1 in n[2]:\n",
    "        new_rating.append(1)\n",
    "    else:\n",
    "        new_rating.append(0)\n",
    "    "
   ]
  },
  {
   "cell_type": "code",
   "execution_count": 33,
   "metadata": {},
   "outputs": [],
   "source": [
    "ratings['ratings']=new_rating"
   ]
  },
  {
   "cell_type": "code",
   "execution_count": 34,
   "metadata": {},
   "outputs": [
    {
     "data": {
      "text/plain": [
       "9157"
      ]
     },
     "execution_count": 34,
     "metadata": {},
     "output_type": "execute_result"
    }
   ],
   "source": [
    "len(new_rating)"
   ]
  },
  {
   "cell_type": "code",
   "execution_count": 35,
   "metadata": {},
   "outputs": [],
   "source": [
    "#All of the restaurants have their own ratings.\n",
    "for n in ratings.itertuples():\n",
    "    if n[2]==0:\n",
    "        print('yes')"
   ]
  },
  {
   "cell_type": "code",
   "execution_count": 36,
   "metadata": {},
   "outputs": [],
   "source": [
    "name_list=[]\n",
    "average_list=[]\n",
    "for m in ratings['restaurants'].drop_duplicates():\n",
    "    index=0\n",
    "    count=0\n",
    "    for n in ratings.itertuples():\n",
    "        if m==n[1]:\n",
    "            index+=1\n",
    "            count=count+n[2]\n",
    "    average_list.append(count/index)\n",
    "    name_list.append(m)"
   ]
  },
  {
   "cell_type": "code",
   "execution_count": 37,
   "metadata": {},
   "outputs": [],
   "source": [
    "b=dict(zip(name_list,average_list))\n",
    "rank=sorted(b.items(),key = lambda x : x[1],reverse=True)"
   ]
  },
  {
   "cell_type": "code",
   "execution_count": 42,
   "metadata": {},
   "outputs": [
    {
     "data": {
      "text/plain": [
       "[('Taquizas Mariana', 5.0),\n",
       " ('Las Abuelas', 5.0),\n",
       " ('Taqueria Lucerito', 4.5),\n",
       " ('Antojitos Guatemala', 4.4),\n",
       " ('Little Plaza Taco Truck', 4.375),\n",
       " ('Veracruz All Natural', 4.111111111111111),\n",
       " ('Rules & Regs', 4.111111111111111),\n",
       " ('Baja St Tacos & Coastal Cuisine', 4.09375),\n",
       " ('Arturo’s Underground Cafe', 4.0828402366863905),\n",
       " ('El Alma', 4.063157894736842)]"
      ]
     },
     "execution_count": 42,
     "metadata": {},
     "output_type": "execute_result"
    }
   ],
   "source": [
    "rank[0:10]"
   ]
  },
  {
   "cell_type": "code",
   "execution_count": 56,
   "metadata": {},
   "outputs": [
    {
     "data": {
      "text/plain": [
       "0.9677634565778661"
      ]
     },
     "execution_count": 56,
     "metadata": {},
     "output_type": "execute_result"
    }
   ],
   "source": [
    "rest_cs_avg_dict['Veracruz All Natural']"
   ]
  },
  {
   "cell_type": "code",
   "execution_count": 54,
   "metadata": {},
   "outputs": [
    {
     "data": {
      "text/plain": [
       "0.71354"
      ]
     },
     "execution_count": 54,
     "metadata": {},
     "output_type": "execute_result"
    }
   ],
   "source": [
    "rest_sent_avg_dict['Veracruz All Natural']"
   ]
  },
  {
   "cell_type": "code",
   "execution_count": 50,
   "metadata": {},
   "outputs": [
    {
     "data": {
      "text/plain": [
       "0.9609328918804079"
      ]
     },
     "execution_count": 50,
     "metadata": {},
     "output_type": "execute_result"
    }
   ],
   "source": [
    "rest_cs_avg_dict['Arturo’s Underground Cafe']"
   ]
  },
  {
   "cell_type": "code",
   "execution_count": 53,
   "metadata": {},
   "outputs": [
    {
     "data": {
      "text/plain": [
       "0.8824"
      ]
     },
     "execution_count": 53,
     "metadata": {},
     "output_type": "execute_result"
    }
   ],
   "source": [
    "rest_sent_avg_dict['Arturo’s Underground Cafe']"
   ]
  },
  {
   "cell_type": "code",
   "execution_count": 49,
   "metadata": {},
   "outputs": [
    {
     "data": {
      "text/plain": [
       "0.9696534301640931"
      ]
     },
     "execution_count": 49,
     "metadata": {},
     "output_type": "execute_result"
    }
   ],
   "source": [
    "rest_cs_avg_dict['El Alma']"
   ]
  },
  {
   "cell_type": "code",
   "execution_count": 52,
   "metadata": {},
   "outputs": [
    {
     "data": {
      "text/plain": [
       "0.541525"
      ]
     },
     "execution_count": 52,
     "metadata": {},
     "output_type": "execute_result"
    }
   ],
   "source": [
    "rest_sent_avg_dict['El Alma']"
   ]
  },
  {
   "cell_type": "markdown",
   "metadata": {},
   "source": [
    "These recommendations do not align with our recommendations. These restaraunts did not even make it into our top 200 cosine similarity list. This means that these restaurants would not satisfy the requirements of the user looking for the recommendations. We also do not know the sentiments of these restaurants for the same reason, they did not even make it in our top 200 cosine similarities list.\n",
    "\n",
    "Once realizing this, we found the top three out of the recommendations from task f that did make it into our top 200 cosine similarity list. Of these, the Veracruz All Natural, Arturo’s Underground Cafe, and El Alma, they did have very high cosine similarity. All of their sentiments were positive as well with scores of .71, .88, and .54 respectively. From the rating suggestions, these restaurants were ranked 6, 9, and 10 respectively. These restaurants would meet the requirements of the user looking for recommendations."
   ]
  }
 ],
 "metadata": {
  "kernelspec": {
   "display_name": "Python 3",
   "language": "python",
   "name": "python3"
  },
  "language_info": {
   "codemirror_mode": {
    "name": "ipython",
    "version": 3
   },
   "file_extension": ".py",
   "mimetype": "text/x-python",
   "name": "python",
   "nbconvert_exporter": "python",
   "pygments_lexer": "ipython3",
   "version": "3.6.5"
  }
 },
 "nbformat": 4,
 "nbformat_minor": 2
}
