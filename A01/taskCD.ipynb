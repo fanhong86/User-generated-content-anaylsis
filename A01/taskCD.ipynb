{
 "cells": [
  {
   "cell_type": "markdown",
   "metadata": {},
   "source": [
    "# Task C"
   ]
  },
  {
   "cell_type": "code",
   "execution_count": 1,
   "metadata": {},
   "outputs": [
    {
     "data": {
      "text/html": [
       "<div>\n",
       "<style scoped>\n",
       "    .dataframe tbody tr th:only-of-type {\n",
       "        vertical-align: middle;\n",
       "    }\n",
       "\n",
       "    .dataframe tbody tr th {\n",
       "        vertical-align: top;\n",
       "    }\n",
       "\n",
       "    .dataframe thead th {\n",
       "        text-align: right;\n",
       "    }\n",
       "</style>\n",
       "<table border=\"1\" class=\"dataframe\">\n",
       "  <thead>\n",
       "    <tr style=\"text-align: right;\">\n",
       "      <th></th>\n",
       "      <th>date</th>\n",
       "      <th>username</th>\n",
       "      <th>comment</th>\n",
       "    </tr>\n",
       "  </thead>\n",
       "  <tbody>\n",
       "    <tr>\n",
       "      <th>0</th>\n",
       "      <td>June 18, 2014  3:53PM</td>\n",
       "      <td>graphicguy</td>\n",
       "      <td>i'm 2nd post....yee haw!!!!!!!!    do i get...</td>\n",
       "    </tr>\n",
       "    <tr>\n",
       "      <th>1</th>\n",
       "      <td>June 18, 2014  4:01PM</td>\n",
       "      <td>bwia</td>\n",
       "      <td>great, but will it be possible to refer to ...</td>\n",
       "    </tr>\n",
       "    <tr>\n",
       "      <th>2</th>\n",
       "      <td>June 18, 2014  4:08PM</td>\n",
       "      <td>imidazol97</td>\n",
       "      <td>if you have posted in that discussion, clic...</td>\n",
       "    </tr>\n",
       "    <tr>\n",
       "      <th>3</th>\n",
       "      <td>June 18, 2014  4:21PM</td>\n",
       "      <td>stickguy</td>\n",
       "      <td>if you want to bookmark this one, there is ...</td>\n",
       "    </tr>\n",
       "    <tr>\n",
       "      <th>4</th>\n",
       "      <td>June 18, 2014  4:43PM</td>\n",
       "      <td>bwia</td>\n",
       "      <td>thanks  , it worked like a charm.</td>\n",
       "    </tr>\n",
       "  </tbody>\n",
       "</table>\n",
       "</div>"
      ],
      "text/plain": [
       "                    date    username  \\\n",
       "0  June 18, 2014  3:53PM  graphicguy   \n",
       "1  June 18, 2014  4:01PM        bwia   \n",
       "2  June 18, 2014  4:08PM  imidazol97   \n",
       "3  June 18, 2014  4:21PM    stickguy   \n",
       "4  June 18, 2014  4:43PM        bwia   \n",
       "\n",
       "                                             comment  \n",
       "0     i'm 2nd post....yee haw!!!!!!!!    do i get...  \n",
       "1     great, but will it be possible to refer to ...  \n",
       "2     if you have posted in that discussion, clic...  \n",
       "3     if you want to bookmark this one, there is ...  \n",
       "4                 thanks  , it worked like a charm.   "
      ]
     },
     "execution_count": 1,
     "metadata": {},
     "output_type": "execute_result"
    }
   ],
   "source": [
    "import pandas as pd\n",
    "data = pd.read_csv(\"finalcomments.csv\")\n",
    "final_data=data.iloc[0:4000,:]\n",
    "final_data.head(5)"
   ]
  },
  {
   "cell_type": "code",
   "execution_count": 17,
   "metadata": {},
   "outputs": [],
   "source": [
    "## Function \"get_f_att \" returns the number of times a word was mentioned in total\n",
    "def get_f_att(sub):\n",
    "    a=0\n",
    "    for indexs in final_data.index:\n",
    "        for  i in range(len(final_data.loc[indexs].values)):\n",
    "            if(str(sub) in str(final_data.loc[indexs].values[i]) ):\n",
    "                a=a+1\n",
    "    return a\n"
   ]
  },
  {
   "cell_type": "code",
   "execution_count": 7,
   "metadata": {
    "scrolled": true
   },
   "outputs": [
    {
     "name": "stdout",
     "output_type": "stream",
     "text": [
      "0     Registration indicator\n",
      "1                     Engine\n",
      "2                       seat\n",
      "3                    colours\n",
      "4                      model\n",
      "5                    Variant\n",
      "6                 Body types\n",
      "7                       fuel\n",
      "8              Assembly type\n",
      "9                      axles\n",
      "10                       Gas\n",
      "11                    milage\n",
      "12                     price\n",
      "13                    safety\n",
      "14                    device\n",
      "Name: Vehicle, dtype: object\n",
      "15\n",
      "[825, 194, 485, 138, 152, 1, 0, 42, 0, 1, 106, 180, 562, 42, 11]\n"
     ]
    }
   ],
   "source": [
    "# At first, I created a excel cotains all attributs, you can find it in sheet named 'Attributes'\n",
    "# Then, if there are several words representing the same attribute, I will put those words in one sheet representing one equivalent attribute.\n",
    "## So right now, I have 15 sheets names as follows, each sheet contains several words which mean similar things\n",
    "#Then I will try to search \n",
    "df = pd.read_excel('Attributes.xlsx', sheet_name='Attributes')\n",
    "arrtibutes_category=df.iloc[:,0]\n",
    "print(arrtibutes_category)\n",
    "abc=[]\n",
    "edf=[]\n",
    "i=0\n",
    "for name in arrtibutes_category:\n",
    "    excel=pd.read_excel('Attributes.xlsx', sheet_name=str(name),header=None)\n",
    "    sum_row=0\n",
    "    for sub in list(excel.iloc[:,0]):\n",
    "        b=get_f_att(sub)\n",
    "        sum_row=sum_row+b\n",
    "    edf.append(sum_row)\n",
    "    i=i+1\n",
    "print(i)\n",
    "print(edf)"
   ]
  },
  {
   "cell_type": "code",
   "execution_count": 3,
   "metadata": {},
   "outputs": [],
   "source": [
    "top_5_arrtibutes=['Engine','price','Registration indicator','seat','milage']\n",
    "brands=['ford','dodge','chevrolet','bmw','honda']\n"
   ]
  },
  {
   "cell_type": "code",
   "execution_count": 2,
   "metadata": {},
   "outputs": [],
   "source": [
    "## Function \"get_f_att \" returns the number of users who mentioned a specific set of two words: one attribute and one brand\n",
    "def get_f_att1(sub,sub1):\n",
    "    a=0\n",
    "    for indexs in final_data.index:\n",
    "        for  i in range(len(final_data.loc[indexs].values)):\n",
    "            if(str(sub) in str(final_data.loc[indexs].values[i])  and str(sub1) in str(final_data.loc[indexs].values[i]) ):\n",
    "                a=a+1\n",
    "    return a\n",
    "\n"
   ]
  },
  {
   "cell_type": "code",
   "execution_count": 4,
   "metadata": {},
   "outputs": [
    {
     "name": "stdout",
     "output_type": "stream",
     "text": [
      "5\n",
      "[[53, 33, 32, 32, 23], [108, 32, 46, 91, 59], [136, 76, 71, 111, 65], [101, 50, 49, 71, 53], [27, 7, 10, 27, 16]]\n"
     ]
    }
   ],
   "source": [
    "abc=[]\n",
    "i=0\n",
    "edf = [ [0 for col in range(0)] for row in range(5)]\n",
    "for name in top_5_arrtibutes:\n",
    "    excel=pd.read_excel('Attributes.xlsx', sheet_name=str(name),header=None)\n",
    "    for sub1 in brands:\n",
    "        sum_row=0\n",
    "        for sub in list(excel.iloc[:,0]):\n",
    "            b=get_f_att1(sub,sub1)\n",
    "            sum_row=sum_row+b\n",
    "        edf[i].append(sum_row)\n",
    "    i=i+1\n",
    "print(i)\n",
    "print(edf)"
   ]
  },
  {
   "cell_type": "markdown",
   "metadata": {},
   "source": [
    "So the rows correspond to the attributes: Engine, price, Registration indicator, seat, milage respectively\n",
    "And each index for a row represents the brands: ford, dodge, chevrolet, bmw, and honda respectively\n",
    "\n",
    "The numbers represent the number of associations between a specific brand and attribute."
   ]
  },
  {
   "cell_type": "code",
   "execution_count": 5,
   "metadata": {},
   "outputs": [
    {
     "data": {
      "text/plain": [
       "[[53, 33, 32, 32, 23],\n",
       " [108, 32, 46, 91, 59],\n",
       " [136, 76, 71, 111, 65],\n",
       " [101, 50, 49, 71, 53],\n",
       " [27, 7, 10, 27, 16]]"
      ]
     },
     "execution_count": 5,
     "metadata": {},
     "output_type": "execute_result"
    }
   ],
   "source": [
    "edf"
   ]
  },
  {
   "cell_type": "markdown",
   "metadata": {},
   "source": [
    "# Task D"
   ]
  },
  {
   "cell_type": "markdown",
   "metadata": {},
   "source": [
    "We create dictionary of attributes, which is collected from internet database and of words in data that reflect attributes. Those attributes saved as an Excel file, in which the first sheet is the attributes name and others are the detail of each attributes. Then we loop every word in the raw data and match it with the attribute dictionary, counting the times it appears. Finally, we get the top 5 attributes mentioned most frequently. They are Registration indicator(e.g. second-hands), Price, Seat(e.g. Number), Engine and millage. "
   ]
  },
  {
   "cell_type": "markdown",
   "metadata": {},
   "source": [
    "Based on the top 5 brands we get on Task A, we find the following relations:\n",
    "![title](brandsandattributes.png)\n",
    "We find that price has been mentioned most between Ford and BMW. Apparently, Ford and BMW aim on separate niche market, which means ford are more affordable for general and BMW targets the people with higher income. The conclusion is lower-price strategy is not always the best choice. The brands should have different price strategies based on segmentation so that they can make themselves distinctive in the market. "
   ]
  },
  {
   "cell_type": "markdown",
   "metadata": {},
   "source": [
    "For each attribute, ford is mentioned the most which suggests that  Ford is doing a great job with respect to each of the 5 attributes above. \n",
    "The number of users mentioning Registration indicator and ford together is much larger that the number of users of other brands, we believe that ford has a obvious advantage in price. Although Ford leads the way in all associations, as seen above, Ford has a substantial advantage in price compared to the other attributes. Thus,  our reccommendation for Ford should be to keep researching ways to maintain their competitive advantage on the strategy of pricing. \n",
    "\n",
    "The number of associations between ford and Registration indicator is largest, so we believe that people hold different opinions on whether buying a new ford car or a used ford car. To address this, our recommendation is that ford should make deeper marker interview and listen to peoples' reasons for buying the used. Based on the customer research Ford should compare and contrast the opinions of each customer segment and plan accordingly use this input in consideration when building a new car model. \n"
   ]
  },
  {
   "cell_type": "code",
   "execution_count": null,
   "metadata": {},
   "outputs": [],
   "source": []
  }
 ],
 "metadata": {
  "kernelspec": {
   "display_name": "Python 3",
   "language": "python",
   "name": "python3"
  },
  "language_info": {
   "codemirror_mode": {
    "name": "ipython",
    "version": 3
   },
   "file_extension": ".py",
   "mimetype": "text/x-python",
   "name": "python",
   "nbconvert_exporter": "python",
   "pygments_lexer": "ipython3",
   "version": "3.6.5"
  }
 },
 "nbformat": 4,
 "nbformat_minor": 2
}
