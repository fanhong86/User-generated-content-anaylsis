{
 "cells": [
  {
   "cell_type": "code",
   "execution_count": 35,
   "metadata": {},
   "outputs": [],
   "source": [
    "# import the libraries\n",
    "import requests\n",
    "import csv\n",
    "from bs4 import BeautifulSoup\n",
    "import pandas as pd\n",
    "import plotly.plotly as py\n",
    "import plotly.graph_objs as go\n",
    "import numpy as np\n",
    "from sklearn import manifold\n",
    "from sklearn.metrics import euclidean_distances\n",
    "from sklearn.decomposition import PCA\n",
    "import matplotlib.pyplot as plt "
   ]
  },
  {
   "cell_type": "code",
   "execution_count": 36,
   "metadata": {},
   "outputs": [
    {
     "name": "stdout",
     "output_type": "stream",
     "text": [
      "Finished storing this csv file into a list\n"
     ]
    }
   ],
   "source": [
    "# convert model names to brands\n",
    "\n",
    "# open the models file and use that to replace model names with brand names. \n",
    "# format of file is brand, model\n",
    "#file = open('models.csv', 'r')\n",
    "file = open('models.csv', 'r', encoding='mac_roman', newline='')\n",
    "\n",
    "csv_file = csv.reader(file)\n",
    "\n",
    "# store the brand names\n",
    "brands = []\n",
    "for i in csv_file:\n",
    "    brands.append(i)\n",
    "#     parsedData = parsedData.replace(i[1], i[0])\n",
    "\n",
    "print('Finished storing this csv file into a list')\n",
    "# close the file\n",
    "file.close()"
   ]
  },
  {
   "cell_type": "code",
   "execution_count": 38,
   "metadata": {},
   "outputs": [
    {
     "name": "stdout",
     "output_type": "stream",
     "text": [
      "('October  6, 2018 12:55AM', 'henryn', \" a few years back, before i returned to work, i played around quite a bit with dvd movies.  as long as it's not copy protected, it is fairly easy to copy to your hard drive, and then change the region coding.  if it's copy protected, that is a different story. and even if you do remove the region coding, you still have the problem of ntsc vs pal.  your dvd player and tv may handle pal -- and then again, maybe not.\")\n"
     ]
    }
   ],
   "source": [
    "with open('finalcomments.csv') as f:\n",
    "    data=[tuple(line) for line in csv.reader(f)]\n",
    "print(data[-1])"
   ]
  },
  {
   "cell_type": "code",
   "execution_count": 37,
   "metadata": {},
   "outputs": [],
   "source": [
    "unique_brands = []\n",
    "for b in brands:\n",
    "    if b[0] not in unique_brands:\n",
    "        unique_brands.append(b[0])\n",
    "unique_brands.remove('car')\n",
    "unique_brands.remove('hyndai kia')\n",
    "unique_brands.remove('hyundai,')\n",
    "unique_brands.remove('hyundai.')\n",
    "unique_brands.remove('kia,')\n",
    "unique_brands.remove('kia.')\n",
    "unique_brands.remove('mercedes benz')\n",
    "unique_brands.remove('mercedes-benz')\n",
    "unique_brands.remove('nissan.')\n",
    "unique_brands.remove('problem')\n",
    "unique_brands.remove('seat')\n",
    "unique_brands.remove('toyata')\n",
    "unique_brands.remove('volkwagen')"
   ]
  },
  {
   "cell_type": "markdown",
   "metadata": {},
   "source": [
    "### Get comments"
   ]
  },
  {
   "cell_type": "code",
   "execution_count": 39,
   "metadata": {},
   "outputs": [
    {
     "data": {
      "text/plain": [
       "'comment'"
      ]
     },
     "execution_count": 39,
     "metadata": {},
     "output_type": "execute_result"
    }
   ],
   "source": [
    "comments = []\n",
    "for c in data:\n",
    "    comments.append(c[2])\n",
    "comments.pop(0)"
   ]
  },
  {
   "cell_type": "code",
   "execution_count": 40,
   "metadata": {},
   "outputs": [],
   "source": [
    "tot_number_of_comments = len(comments)"
   ]
  },
  {
   "cell_type": "code",
   "execution_count": 41,
   "metadata": {},
   "outputs": [
    {
     "data": {
      "text/plain": [
       "77079"
      ]
     },
     "execution_count": 41,
     "metadata": {},
     "output_type": "execute_result"
    }
   ],
   "source": [
    "tot_number_of_comments"
   ]
  },
  {
   "cell_type": "markdown",
   "metadata": {},
   "source": [
    "## Details of analysis\n",
    "Our idea for how to define what makes a car \"aspirational\" is to compute the lift between the brand and a set of aspirational words. Practicly, this is done by getting the number of comments for each brand name where that brand name and any aspirational word is mentioned. These numbers are then used to calculate lift.\n",
    "\n",
    "After doing this calculation, we found that the lift between brand and aspirational words were very similar for every brand, which does not give us much insight to which cars are aspirational. So then we multiplied the lift for each brand by the number of comments that mentioned that brand. This of course biased our definition of top aspired brands to those of which were mentioned the most."
   ]
  },
  {
   "cell_type": "markdown",
   "metadata": {},
   "source": [
    "### Get dictionary of brand name and count"
   ]
  },
  {
   "cell_type": "code",
   "execution_count": 42,
   "metadata": {},
   "outputs": [],
   "source": [
    "unique_brands_dict = {}\n",
    "for b in unique_brands:\n",
    "    for c in comments:\n",
    "        if b in c:\n",
    "            if b in unique_brands_dict:\n",
    "                unique_brands_dict[b] += 1\n",
    "            else:\n",
    "                unique_brands_dict[b] = 1"
   ]
  },
  {
   "cell_type": "markdown",
   "metadata": {},
   "source": [
    "Get top ten brand names"
   ]
  },
  {
   "cell_type": "markdown",
   "metadata": {},
   "source": [
    "### Get dictionary of brand name and count of comments with aspirational words"
   ]
  },
  {
   "cell_type": "code",
   "execution_count": 43,
   "metadata": {},
   "outputs": [],
   "source": [
    "brands_aspiration_dict = {}\n",
    "for b in unique_brands:\n",
    "    for c in comments:\n",
    "        if b in c and\\\n",
    "        ('want' in c\\\n",
    "        or 'choose' in c\\\n",
    "        or 'prefer' in c\\\n",
    "        or 'require' in c\\\n",
    "        or 'needs' in c\\\n",
    "        or 'passion' in c\\\n",
    "        or 'incline' in c\\\n",
    "        or 'tend' in c\\\n",
    "        or 'itch' in c\\\n",
    "        or 'fancy' in c\\\n",
    "        or 'wish' in c\\\n",
    "        or 'great' in c\\\n",
    "        or 'looking' in c\\\n",
    "        or 'like' in c\\\n",
    "        or 'good' in c\\\n",
    "        or 'best' in c\\\n",
    "        or 'nice' in c\\\n",
    "        or 'worth' in c\\\n",
    "        or 'love' in c):\n",
    "            if b in brands_aspiration_dict:\n",
    "                brands_aspiration_dict[b] += 1\n",
    "            else:\n",
    "                brands_aspiration_dict[b] = 1"
   ]
  },
  {
   "cell_type": "code",
   "execution_count": 44,
   "metadata": {},
   "outputs": [
    {
     "data": {
      "text/plain": [
       "[('ford', 2698),\n",
       " ('dodge', 1818),\n",
       " ('chevrolet', 1724),\n",
       " ('bmw', 1633),\n",
       " ('honda', 1554),\n",
       " ('audi', 1495),\n",
       " ('volkswagen', 1398),\n",
       " ('mercedes', 1214),\n",
       " ('cadillac', 1104),\n",
       " ('toyota', 1103)]"
      ]
     },
     "execution_count": 44,
     "metadata": {},
     "output_type": "execute_result"
    }
   ],
   "source": [
    "brands_aspiration_dict\n",
    "brands_aspiration = sorted(brands_aspiration_dict.items(), key=operator.itemgetter(1))\n",
    "brands_aspiration.reverse()\n",
    "brands_aspiration[:10]"
   ]
  },
  {
   "cell_type": "markdown",
   "metadata": {},
   "source": [
    "### Total count of comments with aspirirational words"
   ]
  },
  {
   "cell_type": "code",
   "execution_count": 47,
   "metadata": {},
   "outputs": [],
   "source": [
    "asp_count = 0\n",
    "for c in comments:\n",
    "    if ('want' in c\\\n",
    "    or 'choose' in c\\\n",
    "    or 'prefer' in c\\\n",
    "    or 'require' in c\\\n",
    "    or 'needs' in c\\\n",
    "    or 'passion' in c\\\n",
    "    or 'incline' in c\\\n",
    "    or 'tend' in c\\\n",
    "    or 'itch' in c\\\n",
    "    or 'fancy' in c\\\n",
    "    or 'wish' in c\\\n",
    "    or 'great' in c\\\n",
    "    or 'looking' in c\\\n",
    "    or 'like' in c\\\n",
    "    or 'good' in c\\\n",
    "    or 'best' in c\\\n",
    "    or 'nice' in c\\\n",
    "    or 'worth' in c\\\n",
    "    or 'love' in c):\n",
    "        asp_count += 1"
   ]
  },
  {
   "cell_type": "markdown",
   "metadata": {},
   "source": [
    "### Calculate lift for each brand and asp word"
   ]
  },
  {
   "cell_type": "code",
   "execution_count": 48,
   "metadata": {},
   "outputs": [],
   "source": [
    "# tot_number_of_comments\n",
    "# unique_brands_dict\n",
    "# brands_aspiration_dict\n",
    "# asp_count\n",
    "\n",
    "brand_asp_lifts_dict = {}\n",
    "for b in brands_aspiration_dict:\n",
    "    \n",
    "    brand_asp_count = brands_aspiration_dict[b]\n",
    "    brand_count = unique_brands_dict[b]\n",
    "    \n",
    "    lift = (tot_number_of_comments * brand_asp_count) / (brand_count * asp_count)\n",
    "    brand_asp_lifts_dict[b] = lift"
   ]
  },
  {
   "cell_type": "code",
   "execution_count": 56,
   "metadata": {},
   "outputs": [
    {
     "data": {
      "text/plain": [
       "[('saturn', 1.5569551711115317),\n",
       " ('infiniti', 1.5275401299958844),\n",
       " ('sedan', 1.5047919455775787),\n",
       " ('kia', 1.4837940535409657),\n",
       " ('acura', 1.4829089346461937),\n",
       " ('audi', 1.4591991779167053),\n",
       " ('nissan', 1.4391863616287162),\n",
       " ('cadillac', 1.419295836242414),\n",
       " ('mercury', 1.4100796295135671),\n",
       " ('mercedes', 1.4077002820247473),\n",
       " ('mazda', 1.4000464380159718),\n",
       " ('lincoln', 1.3941465263552217),\n",
       " ('bmw', 1.3889266677215755),\n",
       " ('toyota', 1.3878398115029988),\n",
       " ('hyundai', 1.3699064206955167),\n",
       " ('subaru', 1.3661448035201458),\n",
       " ('chrysler', 1.3526003712836996),\n",
       " ('chevrolet', 1.352475041246998),\n",
       " ('volkswagen', 1.3494553066145467),\n",
       " ('dodge', 1.349352685951398),\n",
       " ('volvo', 1.3465528833598301),\n",
       " ('honda', 1.3462213629847801),\n",
       " ('mitsubishi', 1.324676113826253),\n",
       " ('buick', 1.3203393765488458),\n",
       " ('ford', 1.3182953184506796),\n",
       " ('pontiac', 1.3050705294026477),\n",
       " ('suzuki', 1.14895377219624)]"
      ]
     },
     "execution_count": 56,
     "metadata": {},
     "output_type": "execute_result"
    }
   ],
   "source": [
    "brand_asp_lifts = sorted(brand_asp_lifts_dict.items(), key=operator.itemgetter(1))\n",
    "brand_asp_lifts.reverse()\n",
    "brand_asp_lifts[:27]"
   ]
  },
  {
   "cell_type": "markdown",
   "metadata": {},
   "source": [
    "### Multiply lift by count for each brand"
   ]
  },
  {
   "cell_type": "code",
   "execution_count": 50,
   "metadata": {},
   "outputs": [],
   "source": [
    "aspirations = {}\n",
    "for b in unique_brands:\n",
    "    aspirations[b] = brand_asp_lifts_dict[b] * unique_brands_dict[b]"
   ]
  },
  {
   "cell_type": "code",
   "execution_count": 57,
   "metadata": {},
   "outputs": [
    {
     "data": {
      "text/plain": [
       "[('ford', 5424.785235424547),\n",
       " ('dodge', 3655.3964262423374),\n",
       " ('chevrolet', 3466.3935307160555),\n",
       " ('bmw', 3283.4226424938042),\n",
       " ('honda', 3124.579783487675),\n",
       " ('audi', 3005.9503065084127),\n",
       " ('volkswagen', 2810.915403678101),\n",
       " ('mercedes', 2440.9522890309117),\n",
       " ('cadillac', 2219.7786878831353),\n",
       " ('toyota', 2217.7680187817923),\n",
       " ('nissan', 2070.9891743837225),\n",
       " ('buick', 1584.407251858615),\n",
       " ('chrysler', 1566.3112299465242),\n",
       " ('sedan', 1178.252093387244),\n",
       " ('kia', 1047.5586017999217),\n",
       " ('hyundai', 997.2918742663362),\n",
       " ('acura', 920.8864484152863),\n",
       " ('pontiac', 914.854441111256),\n",
       " ('lincoln', 904.8010956045389),\n",
       " ('subaru', 890.726411895135),\n",
       " ('mazda', 834.4276770575192),\n",
       " ('saturn', 655.4781270379549),\n",
       " ('volvo', 591.1367157949654),\n",
       " ('infiniti', 432.2938567888353),\n",
       " ('mitsubishi', 225.19493935046302),\n",
       " ('mercury', 217.15226294508935),\n",
       " ('suzuki', 32.17070562149472)]"
      ]
     },
     "execution_count": 57,
     "metadata": {},
     "output_type": "execute_result"
    }
   ],
   "source": [
    "top_aspirations = sorted(aspirations.items(), key=operator.itemgetter(1))\n",
    "top_aspirations.reverse()\n",
    "top_aspirations"
   ]
  },
  {
   "cell_type": "markdown",
   "metadata": {},
   "source": [
    "### Another analysis method\n",
    "Because our previous analysis ended up so biased towards brands that had been commented the most, we wanted to try a different method and compare results.<br>\n",
    "<br>\n",
    "For each brand, we took the number of comments that had the brand name and an aspirational word, and divided it by the number of comments that brand had in it. This "
   ]
  },
  {
   "cell_type": "code",
   "execution_count": 59,
   "metadata": {},
   "outputs": [],
   "source": [
    "another_asp_dict = {}\n",
    "for b in unique_brands_dict:\n",
    "    another_asp_dict[b] = brands_aspiration_dict[b]/unique_brands_dict[b]"
   ]
  },
  {
   "cell_type": "code",
   "execution_count": 60,
   "metadata": {},
   "outputs": [
    {
     "data": {
      "text/plain": [
       "[('saturn', 0.7743467933491687),\n",
       " ('infiniti', 0.7597173144876325),\n",
       " ('sedan', 0.7484035759897829),\n",
       " ('kia', 0.7379603399433428),\n",
       " ('acura', 0.7375201288244766),\n",
       " ('audi', 0.7257281553398058),\n",
       " ('nissan', 0.7157748436414176),\n",
       " ('cadillac', 0.7058823529411765),\n",
       " ('mercury', 0.7012987012987013),\n",
       " ('mercedes', 0.7001153402537486),\n",
       " ('mazda', 0.6963087248322147),\n",
       " ('lincoln', 0.6933744221879815),\n",
       " ('bmw', 0.6907783417935702),\n",
       " ('toyota', 0.6902377972465582),\n",
       " ('hyundai', 0.6813186813186813),\n",
       " ('subaru', 0.6794478527607362),\n",
       " ('chrysler', 0.6727115716753023),\n",
       " ('chevrolet', 0.6726492391728444),\n",
       " ('volkswagen', 0.671147383581373),\n",
       " ('dodge', 0.6710963455149501),\n",
       " ('volvo', 0.6697038724373576),\n",
       " ('honda', 0.6695389918138733),\n",
       " ('mitsubishi', 0.6588235294117647),\n",
       " ('buick', 0.6566666666666666),\n",
       " ('ford', 0.6556500607533414),\n",
       " ('pontiac', 0.6490727532097005),\n",
       " ('suzuki', 0.5714285714285714)]"
      ]
     },
     "execution_count": 60,
     "metadata": {},
     "output_type": "execute_result"
    }
   ],
   "source": [
    "another_asp = sorted(another_asp_dict.items(), key=operator.itemgetter(1))\n",
    "another_asp.reverse()\n",
    "another_asp[:27]"
   ]
  }
 ],
 "metadata": {
  "kernelspec": {
   "display_name": "Python 3",
   "language": "python",
   "name": "python3"
  },
  "language_info": {
   "codemirror_mode": {
    "name": "ipython",
    "version": 3
   },
   "file_extension": ".py",
   "mimetype": "text/x-python",
   "name": "python",
   "nbconvert_exporter": "python",
   "pygments_lexer": "ipython3",
   "version": "3.7.0"
  }
 },
 "nbformat": 4,
 "nbformat_minor": 2
}
