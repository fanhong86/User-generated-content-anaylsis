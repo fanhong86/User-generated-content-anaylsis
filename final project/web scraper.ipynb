{
 "cells": [
  {
   "cell_type": "code",
   "execution_count": 9,
   "metadata": {},
   "outputs": [],
   "source": [
    "# Building a web scraper\n",
    "\n",
    "# Download chromedriver webdriver:\n",
    "# http://chromedriver.chromium.org/downloads\n",
    "# download the latest version from this link\n",
    "\n",
    "# You can also use firefox or phantomJS, chromedriver has the best developer tools\n",
    "# Extract the downloaded file on your local machine"
   ]
  },
  {
   "cell_type": "code",
   "execution_count": 10,
   "metadata": {},
   "outputs": [
    {
     "name": "stdout",
     "output_type": "stream",
     "text": [
      "Requirement already satisfied: selenium in /Users/kaylayang/anaconda3/lib/python3.6/site-packages (3.14.0)\r\n",
      "Requirement already satisfied: urllib3 in /Users/kaylayang/anaconda3/lib/python3.6/site-packages (from selenium) (1.22)\r\n"
     ]
    }
   ],
   "source": [
    "# Install selenium using pip or conda\n",
    "!pip install selenium"
   ]
  },
  {
   "cell_type": "code",
   "execution_count": 11,
   "metadata": {},
   "outputs": [],
   "source": [
    "# Import webdriver from selenium\n",
    "from selenium import webdriver\n",
    "chrome_path = '/Users/kaylayang/Downloads/chromedriver'\n",
    "# prepend it with r because of the backslash characters"
   ]
  },
  {
   "cell_type": "code",
   "execution_count": 12,
   "metadata": {},
   "outputs": [],
   "source": [
    "driver = webdriver.Chrome(chrome_path)  # This will open up a chrome window"
   ]
  },
  {
   "cell_type": "code",
   "execution_count": 15,
   "metadata": {},
   "outputs": [],
   "source": [
    "# Take a website that you want to scrape\n",
    "driver.get(\"https://www.makeupalley.com/account/login.asp\")  # It will send you to that website"
   ]
  },
  {
   "cell_type": "code",
   "execution_count": 19,
   "metadata": {},
   "outputs": [],
   "source": [
    "\n",
    "driver.find_element_by_name(\"UserName\").clear()\n",
    "driver.find_element_by_name(\"UserName\").send_keys('ugca')\n",
    "driver.find_element_by_name(\"Password\").clear()\n",
    "driver.find_element_by_name(\"Password\").send_keys('barua123')\n",
    "driver.find_element_by_id(\"login\").click()"
   ]
  },
  {
   "cell_type": "code",
   "execution_count": 27,
   "metadata": {},
   "outputs": [],
   "source": []
  },
  {
   "cell_type": "code",
   "execution_count": null,
   "metadata": {},
   "outputs": [],
   "source": []
  }
 ],
 "metadata": {
  "kernelspec": {
   "display_name": "Python 3",
   "language": "python",
   "name": "python3"
  },
  "language_info": {
   "codemirror_mode": {
    "name": "ipython",
    "version": 3
   },
   "file_extension": ".py",
   "mimetype": "text/x-python",
   "name": "python",
   "nbconvert_exporter": "python",
   "pygments_lexer": "ipython3",
   "version": "3.6.5"
  }
 },
 "nbformat": 4,
 "nbformat_minor": 2
}
