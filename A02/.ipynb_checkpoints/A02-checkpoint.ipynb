{
 "cells": [
  {
   "cell_type": "raw",
   "metadata": {},
   "source": [
    "# A02\n",
    "Barrett Poth, Kevin Wurangian, Bingqing Li, Yinan Yang, Fan Hong"
   ]
  },
  {
   "cell_type": "code",
   "execution_count": 1,
   "metadata": {},
   "outputs": [],
   "source": [
    "import numpy as np\n",
    "import pandas as pd\n",
    "\n",
    "from vaderSentiment.vaderSentiment import SentimentIntensityAnalyzer"
   ]
  },
  {
   "cell_type": "markdown",
   "metadata": {},
   "source": [
    "## Part A"
   ]
  },
  {
   "cell_type": "markdown",
   "metadata": {},
   "source": [
    "We ran this script using different queries many times 24 hours apart to scrape 5,741 tweets. We ultimately combined all of our tweets into 'tot_tweets.csv'."
   ]
  },
  {
   "cell_type": "markdown",
   "metadata": {},
   "source": [
    "```\n",
    "from tweepy import OAuthHandler\n",
    "import tweepy\n",
    "import csv\n",
    "import sys\n",
    "import datetime\n",
    "\n",
    "api_key=\"dNm8C29HpvurD0TeuaJXzOYfK\"\n",
    "api_secret_key=\"QP2RGyOLW7XuToa8vCqLAWVJxKsjOjME6ZFnP4Y3sHt5X66qG4\"\n",
    "atoken=\"147355411-IaF0fsHK5ynd0wU3UKafHYJgPRHpJUUApMB8DEJA\"\n",
    "asecret=\"Yq2fKqeQclrmOPa6pRwy1oMKignOB9KQuOjOdpbphlL8I\"\n",
    "auth = OAuthHandler(api_key, api_secret_key)\n",
    "auth.set_access_token(atoken, asecret)\n",
    "api = tweepy.API(auth)\n",
    "\n",
    "# Making dictionary to translate emoji's in order to print to terminal\n",
    "non_bmp_map = dict.fromkeys(range(0x10000, sys.maxunicode + 1), 0xfffd)\n",
    "\n",
    "#file names - commented out file names have already been used\n",
    "#file_name = 'tweets.csv'\n",
    "#file_name = 'tweets2.csv'\n",
    "#file_name = 'tweets3.csv'\n",
    "file_name = 'tweets4.csv'\n",
    "\n",
    "out_file = open('/Users/barrettpoth/Google Drive/School/MIS 381N - User Generated Content Analytics/Assignments/02 - Twitter/' + file_name, \"w\")\n",
    "writer = csv.writer(out_file)\n",
    "writer.writerow([\"id\", \"location\", \"text\"])\n",
    "\n",
    "#queries - commented out queries have already been used\n",
    "#query = 'Texas Senate Race'\n",
    "#query = 'texas senate'\n",
    "query = '#TexasSenateRace'\n",
    "\n",
    "all_tweets = tweepy.Cursor(api.search, q=query).items()\n",
    "\n",
    "for tweet in all_tweets:\n",
    "\tout_tweets = [tweet.id_str, tweet.user.location, tweet.text.encode(\"utf-8\")]\n",
    "\twriter.writerow(out_tweets)\n",
    "\tprint(out_tweets)\n",
    "out_file.close()\n",
    "```"
   ]
  },
  {
   "cell_type": "markdown",
   "metadata": {},
   "source": [
    "## Part B"
   ]
  },
  {
   "cell_type": "code",
   "execution_count": 2,
   "metadata": {},
   "outputs": [],
   "source": [
    "tweets = pd.read_csv('tot_tweets.csv')"
   ]
  },
  {
   "cell_type": "code",
   "execution_count": 3,
   "metadata": {},
   "outputs": [],
   "source": [
    "tweets = tweets.drop(columns=['id'])"
   ]
  },
  {
   "cell_type": "code",
   "execution_count": 4,
   "metadata": {},
   "outputs": [
    {
     "data": {
      "text/plain": [
       "(5741, 2)"
      ]
     },
     "execution_count": 4,
     "metadata": {},
     "output_type": "execute_result"
    }
   ],
   "source": [
    "tweets.shape"
   ]
  },
  {
   "cell_type": "code",
   "execution_count": 5,
   "metadata": {},
   "outputs": [
    {
     "data": {
      "text/html": [
       "<div>\n",
       "<style scoped>\n",
       "    .dataframe tbody tr th:only-of-type {\n",
       "        vertical-align: middle;\n",
       "    }\n",
       "\n",
       "    .dataframe tbody tr th {\n",
       "        vertical-align: top;\n",
       "    }\n",
       "\n",
       "    .dataframe thead th {\n",
       "        text-align: right;\n",
       "    }\n",
       "</style>\n",
       "<table border=\"1\" class=\"dataframe\">\n",
       "  <thead>\n",
       "    <tr style=\"text-align: right;\">\n",
       "      <th></th>\n",
       "      <th>location</th>\n",
       "      <th>text</th>\n",
       "    </tr>\n",
       "  </thead>\n",
       "  <tbody>\n",
       "    <tr>\n",
       "      <th>0</th>\n",
       "      <td>Tennessee, USA</td>\n",
       "      <td>b\"RT @AliAdair22: \\xf0\\x9f\\x90\\xa6Next, Beto O...</td>\n",
       "    </tr>\n",
       "    <tr>\n",
       "      <th>1</th>\n",
       "      <td>NaN</td>\n",
       "      <td>b\"RT @AliAdair22: \\xf0\\x9f\\x90\\xa6Next, Beto O...</td>\n",
       "    </tr>\n",
       "    <tr>\n",
       "      <th>2</th>\n",
       "      <td>NaN</td>\n",
       "      <td>b\"Ted Cruz, Beto O'Rourke try to rally Latino ...</td>\n",
       "    </tr>\n",
       "    <tr>\n",
       "      <th>3</th>\n",
       "      <td>America</td>\n",
       "      <td>b'RT @RonNehring: Third poll now showing Cruz ...</td>\n",
       "    </tr>\n",
       "    <tr>\n",
       "      <th>4</th>\n",
       "      <td>West Texas</td>\n",
       "      <td>b'Beto O\\xe2\\x80\\x99Rourke, the Democratic con...</td>\n",
       "    </tr>\n",
       "  </tbody>\n",
       "</table>\n",
       "</div>"
      ],
      "text/plain": [
       "         location                                               text\n",
       "0  Tennessee, USA  b\"RT @AliAdair22: \\xf0\\x9f\\x90\\xa6Next, Beto O...\n",
       "1             NaN  b\"RT @AliAdair22: \\xf0\\x9f\\x90\\xa6Next, Beto O...\n",
       "2             NaN  b\"Ted Cruz, Beto O'Rourke try to rally Latino ...\n",
       "3         America  b'RT @RonNehring: Third poll now showing Cruz ...\n",
       "4      West Texas  b'Beto O\\xe2\\x80\\x99Rourke, the Democratic con..."
      ]
     },
     "execution_count": 5,
     "metadata": {},
     "output_type": "execute_result"
    }
   ],
   "source": [
    "tweets.head()"
   ]
  },
  {
   "cell_type": "markdown",
   "metadata": {},
   "source": [
    "#### Name replacement"
   ]
  },
  {
   "cell_type": "code",
   "execution_count": 6,
   "metadata": {},
   "outputs": [],
   "source": [
    "# Let's write a function to take care of the names\n",
    "def replace_names(text):\n",
    "    \n",
    "    text = text.lower()\n",
    "    \n",
    "    beto_words = ['@betoorourke' , '#betoorourke', '#betonbeto', '#betoforsenate', \"beto o'rourke\", \"o'rourke\", 'rourke', '#vetobeto', '#vetobetofortexas']\n",
    "    cruz_words = ['@tedcruz', '#tedcruz', '#cruzcrew', '#choosecruz' 'ted cruz', 'ted']\n",
    "    \n",
    "    for w in beto_words:\n",
    "        try:\n",
    "            text = text.replace(w, ' beto ')\n",
    "        except:\n",
    "            pass\n",
    "    for w in cruz_words:\n",
    "        try:\n",
    "            text = text.replace(w, ' cruz ')\n",
    "        except:\n",
    "            pass\n",
    "    \n",
    "    return text"
   ]
  },
  {
   "cell_type": "code",
   "execution_count": 7,
   "metadata": {},
   "outputs": [],
   "source": [
    "# apply replace_names() on each tweet\n",
    "text_column = []\n",
    "for t in tweets.itertuples():\n",
    "    text = t.text\n",
    "    new_text = replace_names(text)\n",
    "    text_column.append(new_text)"
   ]
  },
  {
   "cell_type": "code",
   "execution_count": 8,
   "metadata": {},
   "outputs": [],
   "source": [
    "tweets.text = text_column"
   ]
  },
  {
   "cell_type": "code",
   "execution_count": 9,
   "metadata": {},
   "outputs": [
    {
     "data": {
      "text/plain": [
       "(5741, 2)"
      ]
     },
     "execution_count": 9,
     "metadata": {},
     "output_type": "execute_result"
    }
   ],
   "source": [
    "tweets.shape"
   ]
  },
  {
   "cell_type": "code",
   "execution_count": 10,
   "metadata": {},
   "outputs": [],
   "source": [
    "# word frequency\n",
    "# grab word frequency using nltk library\n",
    "import nltk\n",
    "# stop words\n",
    "from nltk.corpus import stopwords"
   ]
  },
  {
   "cell_type": "code",
   "execution_count": 11,
   "metadata": {},
   "outputs": [],
   "source": [
    "# put all tweets together\n",
    "text=tweets[\"text\"].values.tolist()\n",
    "text=\" \".join(text)\n",
    "text = text.lower()"
   ]
  },
  {
   "cell_type": "code",
   "execution_count": 12,
   "metadata": {},
   "outputs": [],
   "source": [
    "# tokenize the text \n",
    "tokenizer = nltk.tokenize.RegexpTokenizer(r'\\w+')\n",
    "tokens = tokenizer.tokenize(text)"
   ]
  },
  {
   "cell_type": "code",
   "execution_count": 13,
   "metadata": {},
   "outputs": [],
   "source": [
    "# let's do a word count\n",
    "from collections import Counter\n",
    "\n",
    "# counter object\n",
    "words = Counter()\n",
    "\n",
    "# update counter with new words\n",
    "words.update(tokens)"
   ]
  },
  {
   "cell_type": "code",
   "execution_count": 14,
   "metadata": {},
   "outputs": [
    {
     "data": {
      "text/plain": [
       "[('xe2', 6577),\n",
       " ('x80', 6452),\n",
       " ('cruz', 6444),\n",
       " ('b', 5743),\n",
       " ('rt', 4791),\n",
       " ('the', 4411),\n",
       " ('beto', 3987),\n",
       " ('xa6', 3878),\n",
       " ('texas', 3134),\n",
       " ('in', 3112)]"
      ]
     },
     "execution_count": 14,
     "metadata": {},
     "output_type": "execute_result"
    }
   ],
   "source": [
    "# first order check\n",
    "words.most_common()[:10]"
   ]
  },
  {
   "cell_type": "code",
   "execution_count": 15,
   "metadata": {},
   "outputs": [],
   "source": [
    "# store the stop words\n",
    "stopwords = stopwords.words('english')[:]"
   ]
  },
  {
   "cell_type": "code",
   "execution_count": 16,
   "metadata": {},
   "outputs": [],
   "source": [
    "# lets do this again: remove stop words, single letter variable names\n",
    "filter_words = Counter(x for x in tokens if x not in stopwords and x.isdigit() == False and len(x) != 1 and x.isalpha() == True)"
   ]
  },
  {
   "cell_type": "code",
   "execution_count": 17,
   "metadata": {},
   "outputs": [
    {
     "data": {
      "text/plain": [
       "[('cruz', 6444),\n",
       " ('rt', 4791),\n",
       " ('beto', 3987),\n",
       " ('texas', 3134),\n",
       " ('senate', 3003),\n",
       " ('https', 2088),\n",
       " ('co', 2007),\n",
       " ('race', 1956),\n",
       " ('vote', 881),\n",
       " ('single', 785),\n",
       " ('msnbc', 735),\n",
       " ('word', 722),\n",
       " ('win', 703),\n",
       " ('every', 662),\n",
       " ('care', 656),\n",
       " ('repeal', 652),\n",
       " ('act', 652),\n",
       " ('pre', 652),\n",
       " ('insis', 651),\n",
       " ('affordable', 651),\n",
       " ('including', 651),\n",
       " ('protections', 651),\n",
       " ('existing', 650),\n",
       " ('condi', 650),\n",
       " ('debate', 502),\n",
       " ('nplease', 491),\n",
       " ('believe', 487),\n",
       " ('retweet', 483),\n",
       " ('sample', 483),\n",
       " ('bigger', 479),\n",
       " ('size', 478),\n",
       " ('guy', 401),\n",
       " ('leads', 352),\n",
       " ('show', 345),\n",
       " ('skateboard', 343),\n",
       " ('still', 337),\n",
       " ('side', 336),\n",
       " ('election', 334),\n",
       " ('polling', 331),\n",
       " ('skates', 327),\n",
       " ('across', 327),\n",
       " ('stage', 327),\n",
       " ('hoping', 327),\n",
       " ('dont', 327),\n",
       " ('history', 319),\n",
       " ('texassenate', 301),\n",
       " ('million', 289),\n",
       " ('want', 256),\n",
       " ('looking', 241),\n",
       " ('cbsnews', 238),\n",
       " ('ahead', 237),\n",
       " ('problem', 237),\n",
       " ('integrity', 235),\n",
       " ('serious', 232),\n",
       " ('becaus', 232),\n",
       " ('campaign', 224),\n",
       " ('poll', 222),\n",
       " ('says', 215),\n",
       " ('proud', 211),\n",
       " ('quarter', 210),\n",
       " ('follow', 204),\n",
       " ('leader', 198),\n",
       " ('raised', 193),\n",
       " ('ask', 189),\n",
       " ('question', 188),\n",
       " ('tried', 187),\n",
       " ('importance', 186),\n",
       " ('interrupt', 185),\n",
       " ('jason', 185),\n",
       " ('moderator', 185),\n",
       " ('remaining', 185),\n",
       " ('fundraising', 183),\n",
       " ('seat', 180),\n",
       " ('make', 180),\n",
       " ('friends', 177),\n",
       " ('amazing', 172),\n",
       " ('wi', 169),\n",
       " ('dominates', 165),\n",
       " ('taxes', 163),\n",
       " ('winning', 162),\n",
       " ('money', 159),\n",
       " ('salon', 155),\n",
       " ('record', 153),\n",
       " ('republican', 152),\n",
       " ('us', 149),\n",
       " ('amhotflash', 147),\n",
       " ('voters', 146),\n",
       " ('senator', 145),\n",
       " ('vs', 144),\n",
       " ('nwe', 144),\n",
       " ('country', 138),\n",
       " ('really', 137),\n",
       " ('chance', 136),\n",
       " ('rep', 130),\n",
       " ('get', 129),\n",
       " ('expensive', 128),\n",
       " ('wants', 128),\n",
       " ('raises', 128),\n",
       " ('johncornyn', 124),\n",
       " ('sen', 123)]"
      ]
     },
     "execution_count": 17,
     "metadata": {},
     "output_type": "execute_result"
    }
   ],
   "source": [
    "filter_words.most_common()[:100]"
   ]
  },
  {
   "cell_type": "code",
   "execution_count": 18,
   "metadata": {},
   "outputs": [],
   "source": [
    "pd.set_option('display.max_colwidth', -1)"
   ]
  },
  {
   "cell_type": "code",
   "execution_count": 19,
   "metadata": {},
   "outputs": [
    {
     "data": {
      "text/html": [
       "<div>\n",
       "<style scoped>\n",
       "    .dataframe tbody tr th:only-of-type {\n",
       "        vertical-align: middle;\n",
       "    }\n",
       "\n",
       "    .dataframe tbody tr th {\n",
       "        vertical-align: top;\n",
       "    }\n",
       "\n",
       "    .dataframe thead th {\n",
       "        text-align: right;\n",
       "    }\n",
       "</style>\n",
       "<table border=\"1\" class=\"dataframe\">\n",
       "  <thead>\n",
       "    <tr style=\"text-align: right;\">\n",
       "      <th></th>\n",
       "      <th>location</th>\n",
       "      <th>text</th>\n",
       "    </tr>\n",
       "  </thead>\n",
       "  <tbody>\n",
       "    <tr>\n",
       "      <th>0</th>\n",
       "      <td>Tennessee, USA</td>\n",
       "      <td>b\"rt @aliadair22: \\xf0\\x9f\\x90\\xa6next,  beto   beto , running for u.s. senate in #texas. please follow, tweet, contribute, volunteer, anything\\xe2\\x80\\xa6\"</td>\n",
       "    </tr>\n",
       "    <tr>\n",
       "      <th>1</th>\n",
       "      <td>NaN</td>\n",
       "      <td>b\"rt @aliadair22: \\xf0\\x9f\\x90\\xa6next,  beto   beto , running for u.s. senate in #texas. please follow, tweet, contribute, volunteer, anything\\xe2\\x80\\xa6\"</td>\n",
       "    </tr>\n",
       "    <tr>\n",
       "      <th>2</th>\n",
       "      <td>NaN</td>\n",
       "      <td>b\" cruz  cruz,  beto  try to rally latino voters in texas senate race https://t.co/ehvo0zz7yh #foxnews @mriverafoxnews\"</td>\n",
       "    </tr>\n",
       "    <tr>\n",
       "      <th>3</th>\n",
       "      <td>America</td>\n",
       "      <td>b'rt @ronnehring: third poll now showing cruz with 8 or 9 point solid lead over beto o\\xe2\\x80\\x99 beto  (d-hollywood). follows quinnipiac and ny times\\xe2\\x80\\xa6'</td>\n",
       "    </tr>\n",
       "    <tr>\n",
       "      <th>4</th>\n",
       "      <td>West Texas</td>\n",
       "      <td>b'beto o\\xe2\\x80\\x99 beto , the democratic congressman from el paso, has made the texas race for us senate one of the most widel\\xe2\\x80\\xa6 https://t.co/f9i3qqej6u'</td>\n",
       "    </tr>\n",
       "    <tr>\n",
       "      <th>5</th>\n",
       "      <td>Dallas, TX</td>\n",
       "      <td>b'rt @wfaa: does texas\\xe2\\x80\\x99 senate race belong to texans? https://t.co/ccbbwh5pmt https://t.co/gxnrzdjhid'</td>\n",
       "    </tr>\n",
       "    <tr>\n",
       "      <th>6</th>\n",
       "      <td>NaN</td>\n",
       "      <td>b\"rt @lizlogan76: beto could win this, because of aca alone.  this is the winning issue, get the word out, vote for  beto  if you valu\\xe2\\x80\\xa6\"</td>\n",
       "    </tr>\n",
       "    <tr>\n",
       "      <th>7</th>\n",
       "      <td>Atlanta, GA</td>\n",
       "      <td>b\"rt @foxnews:  cruz  cruz,  beto  try to rally latino voters in the texas senate race. https://t.co/ynxbe6uvpb\"</td>\n",
       "    </tr>\n",
       "    <tr>\n",
       "      <th>8</th>\n",
       "      <td>Oregon</td>\n",
       "      <td>b\"rt @patriot_musket: lots of really good news for house and senate republicans in this weekend's and today's polls. \\n\\nand lol that cook stil\\xe2\\x80\\xa6\"</td>\n",
       "    </tr>\n",
       "    <tr>\n",
       "      <th>9</th>\n",
       "      <td>Australia</td>\n",
       "      <td>b\"rt @amhotflash: beto's campaign has raised more money in a single quarter, than any senate race in the history of this country. #beto is ma\\xe2\\x80\\xa6\"</td>\n",
       "    </tr>\n",
       "    <tr>\n",
       "      <th>10</th>\n",
       "      <td>PALM HARBOR FL</td>\n",
       "      <td>b\"rt @johncornyn: cruz vs.  beto  is most expensive u.s. senate race in history https://t.co/qugxt4osl5\"</td>\n",
       "    </tr>\n",
       "    <tr>\n",
       "      <th>11</th>\n",
       "      <td>Illinois</td>\n",
       "      <td>b'rt @msnbc: \" cruz  cruz has insis cruz  that we repeal every single word of the affordable care act, including protections for pre-existing condi\\xe2\\x80\\xa6'</td>\n",
       "    </tr>\n",
       "    <tr>\n",
       "      <th>12</th>\n",
       "      <td>NaN</td>\n",
       "      <td>b\"rt @foxnews:  cruz  cruz,  beto  try to rally latino voters in the texas senate race. https://t.co/ynxbe6uvpb\"</td>\n",
       "    </tr>\n",
       "    <tr>\n",
       "      <th>13</th>\n",
       "      <td>San Antonio, Texas</td>\n",
       "      <td>b\" cruz  cruz,  beto  try to rally latino voters in texas senate race\\n\\nhttps://t.co/xltuanagns\"</td>\n",
       "    </tr>\n",
       "    <tr>\n",
       "      <th>14</th>\n",
       "      <td>Austin, Texas</td>\n",
       "      <td>b'rt @msnbc: \" cruz  cruz has insis cruz  that we repeal every single word of the affordable care act, including protections for pre-existing condi\\xe2\\x80\\xa6'</td>\n",
       "    </tr>\n",
       "    <tr>\n",
       "      <th>15</th>\n",
       "      <td>NaN</td>\n",
       "      <td>b'rt @unitebluetx:  cruz  cruz declines, so challenger beto o\\xe2\\x80\\x99 beto  gets an hour on national tv by himself https://t.co/xs69iplqw2 #resist #bet\\xe2\\x80\\xa6'</td>\n",
       "    </tr>\n",
       "    <tr>\n",
       "      <th>16</th>\n",
       "      <td>Toronto, Ontario, Canada</td>\n",
       "      <td>b\"rt @foxnews:  cruz  cruz,  beto  try to rally latino voters in the texas senate race. https://t.co/ynxbe6uvpb\"</td>\n",
       "    </tr>\n",
       "    <tr>\n",
       "      <th>17</th>\n",
       "      <td>Atlanta, Georgia</td>\n",
       "      <td>b\"rt @johncornyn: cruz vs.  beto  is most expensive u.s. senate race in history https://t.co/qugxt4osl5\"</td>\n",
       "    </tr>\n",
       "    <tr>\n",
       "      <th>18</th>\n",
       "      <td>NaN</td>\n",
       "      <td>b'@seanastin what are your thoughts on beto in the texas senate race? curious'</td>\n",
       "    </tr>\n",
       "    <tr>\n",
       "      <th>19</th>\n",
       "      <td>Texas</td>\n",
       "      <td>b'. beto \\n#betofortexas \\n\\xe2\\x9a\\xa1\\xef\\xb8\\x8f \\xe2\\x80\\x9cnew york times profiles evangelical christians ahead of texas senate race\\xe2\\x80\\x9d https://t.co/hnf6wid5uq'</td>\n",
       "    </tr>\n",
       "    <tr>\n",
       "      <th>20</th>\n",
       "      <td>Dallas</td>\n",
       "      <td>b'does texas\\xe2\\x80\\x99 senate race belong to texans? - dallas business journal \\xe2\\x80\\x9c...the occupation most represen cruz  by cruz\\xe2\\x80\\x99s o\\xe2\\x80\\xa6 https://t.co/gpfn2dt7vd'</td>\n",
       "    </tr>\n",
       "    <tr>\n",
       "      <th>21</th>\n",
       "      <td>Del Mar, CA</td>\n",
       "      <td>b\"rt @amhotflash: beto's campaign has raised more money in a single quarter, than any senate race in the history of this country. #beto is ma\\xe2\\x80\\xa6\"</td>\n",
       "    </tr>\n",
       "    <tr>\n",
       "      <th>22</th>\n",
       "      <td>Washington, DC</td>\n",
       "      <td>b\"does texas' senate race belong to texans? https://t.co/gqynixw9yh\"</td>\n",
       "    </tr>\n",
       "    <tr>\n",
       "      <th>23</th>\n",
       "      <td>NaN</td>\n",
       "      <td>b'rt @dtxergaomnes: new poll has beto o\\xe2\\x80\\x99 beto  beating  cruz  cruz by two points.\\n\\nif you want those poll results, get out the early vote for be\\xe2\\x80\\xa6'</td>\n",
       "    </tr>\n",
       "    <tr>\n",
       "      <th>24</th>\n",
       "      <td>Deep in the üíô of Texas üá®üá±</td>\n",
       "      <td>b\"rt @amhotflash: beto's campaign has raised more money in a single quarter, than any senate race in the history of this country. #beto is ma\\xe2\\x80\\xa6\"</td>\n",
       "    </tr>\n",
       "    <tr>\n",
       "      <th>25</th>\n",
       "      <td>NaN</td>\n",
       "      <td>b'rt  beto : \\xe2\\x80\\x9ci was initially intrigued by his campaign strategy. hearing someone say they aren\\xe2\\x80\\x99t going to take any money from pacs cau\\xe2\\x80\\xa6'</td>\n",
       "    </tr>\n",
       "    <tr>\n",
       "      <th>26</th>\n",
       "      <td>Mesa, AZ</td>\n",
       "      <td>b'more voter purges in heavily contes cruz  senate race - this time it\\xe2\\x80\\x99s texas https://t.co/jsfd4bxsyu'</td>\n",
       "    </tr>\n",
       "    <tr>\n",
       "      <th>27</th>\n",
       "      <td>NaN</td>\n",
       "      <td>b\"rt @foxnews:  cruz  cruz,  beto  try to rally latino voters in the texas senate race. https://t.co/ynxbe6uvpb\"</td>\n",
       "    </tr>\n",
       "    <tr>\n",
       "      <th>28</th>\n",
       "      <td>NaN</td>\n",
       "      <td>b'rt @msnbc: \" cruz  cruz has insis cruz  that we repeal every single word of the affordable care act, including protections for pre-existing condi\\xe2\\x80\\xa6'</td>\n",
       "    </tr>\n",
       "    <tr>\n",
       "      <th>29</th>\n",
       "      <td>Property of @HendriWigunah</td>\n",
       "      <td>b\" cruz  cruz,  beto  try to rally latino voters in texas senate race ~ https://t.co/xn85hvenk4 https://t.co/uzthpo9hzk\"</td>\n",
       "    </tr>\n",
       "    <tr>\n",
       "      <th>...</th>\n",
       "      <td>...</td>\n",
       "      <td>...</td>\n",
       "    </tr>\n",
       "    <tr>\n",
       "      <th>5711</th>\n",
       "      <td>NaN</td>\n",
       "      <td>b'rt @rjc: \\xe2\\x80\\x9ci want to cut your taxes; congressman o\\xe2\\x80\\x99 beto  wants to raise your taxes,\\xe2\\x80\\x9d mr. cruz said in his closing remarks. \\xe2\\x80\\x9ci want to keep\\xe2\\x80\\xa6'</td>\n",
       "    </tr>\n",
       "    <tr>\n",
       "      <th>5712</th>\n",
       "      <td>NaN</td>\n",
       "      <td>b'rt @rjc: \\xe2\\x80\\x9ci want to cut your taxes; congressman o\\xe2\\x80\\x99 beto  wants to raise your taxes,\\xe2\\x80\\x9d mr. cruz said in his closing remarks. \\xe2\\x80\\x9ci want to keep\\xe2\\x80\\xa6'</td>\n",
       "    </tr>\n",
       "    <tr>\n",
       "      <th>5713</th>\n",
       "      <td>Newton, MA</td>\n",
       "      <td>b'rt @cbsnews: \"don\\'t interrupt me, jason,\" says  cruz  cruz as the moderator tried to ask a follow-up question on the importance of remaining c\\xe2\\x80\\xa6'</td>\n",
       "    </tr>\n",
       "    <tr>\n",
       "      <th>5714</th>\n",
       "      <td>North Carolina, USA</td>\n",
       "      <td>b'rt @outfrontcnn: in texas, can the democratic \"nice guy\" take off the gloves and go on the attack against the republican incumbent?  \\n\\n@bet\\xe2\\x80\\xa6'</td>\n",
       "    </tr>\n",
       "    <tr>\n",
       "      <th>5715</th>\n",
       "      <td>NaN</td>\n",
       "      <td>b'rt @cbsnews: \"don\\'t interrupt me, jason,\" says  cruz  cruz as the moderator tried to ask a follow-up question on the importance of remaining c\\xe2\\x80\\xa6'</td>\n",
       "    </tr>\n",
       "    <tr>\n",
       "      <th>5716</th>\n",
       "      <td>NaN</td>\n",
       "      <td>b\"rt @maccarty62: @gkeile @childlikefaaith yes,,,money can't and won't buy our votes!! texas for cruz!! we need to keep at it and make sure c\\xe2\\x80\\xa6\"</td>\n",
       "    </tr>\n",
       "    <tr>\n",
       "      <th>5717</th>\n",
       "      <td>United States</td>\n",
       "      <td>b'rt @truthsoldierz: 20 days to vote!!\\n  #elpaso #texas \\n\\ntuesday\\nnovember 6, 2018\\n\\n\\xf0\\x9f\\x94\\xbakeep america great\\xf0\\x9f\\x94\\xba\\n\\xf0\\x9f\\x94\\xbavote republican\\xf0\\x9f\\x94\\xba\\n\\nvote rick seeberg\\xe2\\x80\\xa6'</td>\n",
       "    </tr>\n",
       "    <tr>\n",
       "      <th>5718</th>\n",
       "      <td>Poughkeepsie, NY</td>\n",
       "      <td>b'rt @kwilli1046: whom do you believe will win the texas senate race?\\n\\nplease vote and retweet for bigger sample size'</td>\n",
       "    </tr>\n",
       "    <tr>\n",
       "      <th>5719</th>\n",
       "      <td>Toledo District, Belize</td>\n",
       "      <td>b'rt @kwilli1046: whom do you believe will win the texas senate race?\\n\\nplease vote and retweet for bigger sample size'</td>\n",
       "    </tr>\n",
       "    <tr>\n",
       "      <th>5720</th>\n",
       "      <td>Saint Marys, GA</td>\n",
       "      <td>b'rt @kwilli1046: whom do you believe will win the texas senate race?\\n\\nplease vote and retweet for bigger sample size'</td>\n",
       "    </tr>\n",
       "    <tr>\n",
       "      <th>5721</th>\n",
       "      <td>Texas, USA</td>\n",
       "      <td>b\"rt @hadleybeetee: @teapainusa  beto  let's get him to the senate first, though. come on, texas!\"</td>\n",
       "    </tr>\n",
       "    <tr>\n",
       "      <th>5722</th>\n",
       "      <td>Riverside, California</td>\n",
       "      <td>b'rt @cbsnews: cruz criticizes o\\' beto  for supporting mr. trump\\'s impeachment, calling it a \"partisan circus.\"\\n\\n\"really interesting to hear\\xe2\\x80\\xa6'</td>\n",
       "    </tr>\n",
       "    <tr>\n",
       "      <th>5723</th>\n",
       "      <td>NaN</td>\n",
       "      <td>b'rt @kwilli1046: whom do you believe will win the texas senate race?\\n\\nplease vote and retweet for bigger sample size'</td>\n",
       "    </tr>\n",
       "    <tr>\n",
       "      <th>5724</th>\n",
       "      <td>NaN</td>\n",
       "      <td>b'rt @kwilli1046: whom do you believe will win the texas senate race?\\n\\nplease vote and retweet for bigger sample size'</td>\n",
       "    </tr>\n",
       "    <tr>\n",
       "      <th>5725</th>\n",
       "      <td>United States</td>\n",
       "      <td>b'rt @kwilli1046: whom do you believe will win the texas senate race?\\n\\nplease vote and retweet for bigger sample size'</td>\n",
       "    </tr>\n",
       "    <tr>\n",
       "      <th>5726</th>\n",
       "      <td>Dallas, TX</td>\n",
       "      <td>b\"battle of the rodents in texas senate race: beto's blind squirrel vs. cruz's missing hamster | 2018 elections | dal\\xe2\\x80\\xa6 https://t.co/d68s0qbecs\"</td>\n",
       "    </tr>\n",
       "    <tr>\n",
       "      <th>5727</th>\n",
       "      <td>Texas</td>\n",
       "      <td>b'i can name off towns and cities in texas too. does that mean i can run for senate like francis.\\n\\n#texasdebate\\xe2\\x80\\xa6 https://t.co/qh4rp5arlt'</td>\n",
       "    </tr>\n",
       "    <tr>\n",
       "      <th>5728</th>\n",
       "      <td>newport news</td>\n",
       "      <td>b'rt @salon: beto o\\xe2\\x80\\x99 beto  dominates  cruz  cruz in texas senate debate https://t.co/zjnuph5cpw'</td>\n",
       "    </tr>\n",
       "    <tr>\n",
       "      <th>5729</th>\n",
       "      <td>Resist, CA</td>\n",
       "      <td>b'rt @cbsnews: \"don\\'t interrupt me, jason,\" says  cruz  cruz as the moderator tried to ask a follow-up question on the importance of remaining c\\xe2\\x80\\xa6'</td>\n",
       "    </tr>\n",
       "    <tr>\n",
       "      <th>5730</th>\n",
       "      <td>South Carolina, USA</td>\n",
       "      <td>b'rt @kwilli1046: whom do you believe will win the texas senate race?\\n\\nplease vote and retweet for bigger sample size'</td>\n",
       "    </tr>\n",
       "    <tr>\n",
       "      <th>5731</th>\n",
       "      <td>United States</td>\n",
       "      <td>b'rt @kwilli1046: whom do you believe will win the texas senate race?\\n\\nplease vote and retweet for bigger sample size'</td>\n",
       "    </tr>\n",
       "    <tr>\n",
       "      <th>5732</th>\n",
       "      <td>North Central, Philadelphia</td>\n",
       "      <td>b'rt @matthewamiller: the texas senate race is about a lot of things, but one of them is the choice between a normal human being and an andro\\xe2\\x80\\xa6'</td>\n",
       "    </tr>\n",
       "    <tr>\n",
       "      <th>5733</th>\n",
       "      <td>NaN</td>\n",
       "      <td>b'rt @ny2bos73: texas has a chance to do something really special. they have a chance to give this unbelievable man, who is as smart and cari\\xe2\\x80\\xa6'</td>\n",
       "    </tr>\n",
       "    <tr>\n",
       "      <th>5734</th>\n",
       "      <td>Las Vegas, NV/ Lansing, MI</td>\n",
       "      <td>b\" beto  attacks cruz with 'lyin'  cruz ' nickname in testy debate - abc news https://t.co/qcjwo7xkih (via @abc)\"</td>\n",
       "    </tr>\n",
       "    <tr>\n",
       "      <th>5735</th>\n",
       "      <td>(ISFJ-A)</td>\n",
       "      <td>b'rt @cbsnews: \"don\\'t interrupt me, jason,\" says  cruz  cruz as the moderator tried to ask a follow-up question on the importance of remaining c\\xe2\\x80\\xa6'</td>\n",
       "    </tr>\n",
       "    <tr>\n",
       "      <th>5736</th>\n",
       "      <td>Ozork√≥w gmina, Polska</td>\n",
       "      <td>b'rt @abcpolitics: rep. beto o\\' beto  attacks sen.  cruz  cruz, reviving the \"lyin\\'  cruz \" nickname, in a testy texas senate debate https://t.co/y\\xe2\\x80\\xa6'</td>\n",
       "    </tr>\n",
       "    <tr>\n",
       "      <th>5737</th>\n",
       "      <td>Poteau, OK</td>\n",
       "      <td>b'rt @kwilli1046: whom do you believe will win the texas senate race?\\n\\nplease vote and retweet for bigger sample size'</td>\n",
       "    </tr>\n",
       "    <tr>\n",
       "      <th>5738</th>\n",
       "      <td>Kansas, unfortunately</td>\n",
       "      <td>b\"rt @jennycohn1: 11/ looking ahead to  beto 's texas senate race against  cruz  cruz, we have a serious election integrity problem becaus\\xe2\\x80\\xa6\"</td>\n",
       "    </tr>\n",
       "    <tr>\n",
       "      <th>5739</th>\n",
       "      <td>NaN</td>\n",
       "      <td>b'rt @kwilli1046: whom do you believe will win the texas senate race?\\n\\nplease vote and retweet for bigger sample size'</td>\n",
       "    </tr>\n",
       "    <tr>\n",
       "      <th>5740</th>\n",
       "      <td>NaN</td>\n",
       "      <td>b'rt @kwilli1046: whom do you believe will win the texas senate race?\\n\\nplease vote and retweet for bigger sample size'</td>\n",
       "    </tr>\n",
       "  </tbody>\n",
       "</table>\n",
       "<p>5741 rows × 2 columns</p>\n",
       "</div>"
      ],
      "text/plain": [
       "                                location  \\\n",
       "0     Tennessee, USA                       \n",
       "1     NaN                                  \n",
       "2     NaN                                  \n",
       "3     America                              \n",
       "4     West Texas                           \n",
       "5     Dallas, TX                           \n",
       "6     NaN                                  \n",
       "7     Atlanta, GA                          \n",
       "8     Oregon                               \n",
       "9     Australia                            \n",
       "10    PALM HARBOR FL                       \n",
       "11    Illinois                             \n",
       "12    NaN                                  \n",
       "13    San Antonio, Texas                   \n",
       "14    Austin, Texas                        \n",
       "15    NaN                                  \n",
       "16    Toronto, Ontario, Canada             \n",
       "17    Atlanta, Georgia                     \n",
       "18    NaN                                  \n",
       "19    Texas                                \n",
       "20    Dallas                               \n",
       "21    Del Mar, CA                          \n",
       "22    Washington, DC                       \n",
       "23    NaN                                  \n",
       "24    Deep in the üíô of Texas üá®üá±   \n",
       "25    NaN                                  \n",
       "26    Mesa, AZ                             \n",
       "27    NaN                                  \n",
       "28    NaN                                  \n",
       "29    Property of @HendriWigunah           \n",
       "...                          ...           \n",
       "5711  NaN                                  \n",
       "5712  NaN                                  \n",
       "5713  Newton, MA                           \n",
       "5714  North Carolina, USA                  \n",
       "5715  NaN                                  \n",
       "5716  NaN                                  \n",
       "5717  United States                        \n",
       "5718  Poughkeepsie, NY                     \n",
       "5719  Toledo District, Belize              \n",
       "5720  Saint Marys, GA                      \n",
       "5721  Texas, USA                           \n",
       "5722  Riverside, California                \n",
       "5723  NaN                                  \n",
       "5724  NaN                                  \n",
       "5725  United States                        \n",
       "5726  Dallas, TX                           \n",
       "5727  Texas                                \n",
       "5728  newport news                         \n",
       "5729  Resist, CA                           \n",
       "5730  South Carolina, USA                  \n",
       "5731  United States                        \n",
       "5732  North Central, Philadelphia          \n",
       "5733  NaN                                  \n",
       "5734  Las Vegas, NV/ Lansing, MI           \n",
       "5735  (ISFJ-A)                             \n",
       "5736  Ozork√≥w gmina, Polska               \n",
       "5737  Poteau, OK                           \n",
       "5738  Kansas, unfortunately                \n",
       "5739  NaN                                  \n",
       "5740  NaN                                  \n",
       "\n",
       "                                                                                                                                                                                                                                 text  \n",
       "0     b\"rt @aliadair22: \\xf0\\x9f\\x90\\xa6next,  beto   beto , running for u.s. senate in #texas. please follow, tweet, contribute, volunteer, anything\\xe2\\x80\\xa6\"                                                                     \n",
       "1     b\"rt @aliadair22: \\xf0\\x9f\\x90\\xa6next,  beto   beto , running for u.s. senate in #texas. please follow, tweet, contribute, volunteer, anything\\xe2\\x80\\xa6\"                                                                     \n",
       "2     b\" cruz  cruz,  beto  try to rally latino voters in texas senate race https://t.co/ehvo0zz7yh #foxnews @mriverafoxnews\"                                                                                                          \n",
       "3     b'rt @ronnehring: third poll now showing cruz with 8 or 9 point solid lead over beto o\\xe2\\x80\\x99 beto  (d-hollywood). follows quinnipiac and ny times\\xe2\\x80\\xa6'                                                             \n",
       "4     b'beto o\\xe2\\x80\\x99 beto , the democratic congressman from el paso, has made the texas race for us senate one of the most widel\\xe2\\x80\\xa6 https://t.co/f9i3qqej6u'                                                            \n",
       "5     b'rt @wfaa: does texas\\xe2\\x80\\x99 senate race belong to texans? https://t.co/ccbbwh5pmt https://t.co/gxnrzdjhid'                                                                                                                \n",
       "6     b\"rt @lizlogan76: beto could win this, because of aca alone.  this is the winning issue, get the word out, vote for  beto  if you valu\\xe2\\x80\\xa6\"                                                                              \n",
       "7     b\"rt @foxnews:  cruz  cruz,  beto  try to rally latino voters in the texas senate race. https://t.co/ynxbe6uvpb\"                                                                                                                 \n",
       "8     b\"rt @patriot_musket: lots of really good news for house and senate republicans in this weekend's and today's polls. \\n\\nand lol that cook stil\\xe2\\x80\\xa6\"                                                                     \n",
       "9     b\"rt @amhotflash: beto's campaign has raised more money in a single quarter, than any senate race in the history of this country. #beto is ma\\xe2\\x80\\xa6\"                                                                       \n",
       "10    b\"rt @johncornyn: cruz vs.  beto  is most expensive u.s. senate race in history https://t.co/qugxt4osl5\"                                                                                                                         \n",
       "11    b'rt @msnbc: \" cruz  cruz has insis cruz  that we repeal every single word of the affordable care act, including protections for pre-existing condi\\xe2\\x80\\xa6'                                                                 \n",
       "12    b\"rt @foxnews:  cruz  cruz,  beto  try to rally latino voters in the texas senate race. https://t.co/ynxbe6uvpb\"                                                                                                                 \n",
       "13    b\" cruz  cruz,  beto  try to rally latino voters in texas senate race\\n\\nhttps://t.co/xltuanagns\"                                                                                                                                \n",
       "14    b'rt @msnbc: \" cruz  cruz has insis cruz  that we repeal every single word of the affordable care act, including protections for pre-existing condi\\xe2\\x80\\xa6'                                                                 \n",
       "15    b'rt @unitebluetx:  cruz  cruz declines, so challenger beto o\\xe2\\x80\\x99 beto  gets an hour on national tv by himself https://t.co/xs69iplqw2 #resist #bet\\xe2\\x80\\xa6'                                                         \n",
       "16    b\"rt @foxnews:  cruz  cruz,  beto  try to rally latino voters in the texas senate race. https://t.co/ynxbe6uvpb\"                                                                                                                 \n",
       "17    b\"rt @johncornyn: cruz vs.  beto  is most expensive u.s. senate race in history https://t.co/qugxt4osl5\"                                                                                                                         \n",
       "18    b'@seanastin what are your thoughts on beto in the texas senate race? curious'                                                                                                                                                   \n",
       "19    b'. beto \\n#betofortexas \\n\\xe2\\x9a\\xa1\\xef\\xb8\\x8f \\xe2\\x80\\x9cnew york times profiles evangelical christians ahead of texas senate race\\xe2\\x80\\x9d https://t.co/hnf6wid5uq'                                                   \n",
       "20    b'does texas\\xe2\\x80\\x99 senate race belong to texans? - dallas business journal \\xe2\\x80\\x9c...the occupation most represen cruz  by cruz\\xe2\\x80\\x99s o\\xe2\\x80\\xa6 https://t.co/gpfn2dt7vd'                                   \n",
       "21    b\"rt @amhotflash: beto's campaign has raised more money in a single quarter, than any senate race in the history of this country. #beto is ma\\xe2\\x80\\xa6\"                                                                       \n",
       "22    b\"does texas' senate race belong to texans? https://t.co/gqynixw9yh\"                                                                                                                                                             \n",
       "23    b'rt @dtxergaomnes: new poll has beto o\\xe2\\x80\\x99 beto  beating  cruz  cruz by two points.\\n\\nif you want those poll results, get out the early vote for be\\xe2\\x80\\xa6'                                                       \n",
       "24    b\"rt @amhotflash: beto's campaign has raised more money in a single quarter, than any senate race in the history of this country. #beto is ma\\xe2\\x80\\xa6\"                                                                       \n",
       "25    b'rt  beto : \\xe2\\x80\\x9ci was initially intrigued by his campaign strategy. hearing someone say they aren\\xe2\\x80\\x99t going to take any money from pacs cau\\xe2\\x80\\xa6'                                                       \n",
       "26    b'more voter purges in heavily contes cruz  senate race - this time it\\xe2\\x80\\x99s texas https://t.co/jsfd4bxsyu'                                                                                                               \n",
       "27    b\"rt @foxnews:  cruz  cruz,  beto  try to rally latino voters in the texas senate race. https://t.co/ynxbe6uvpb\"                                                                                                                 \n",
       "28    b'rt @msnbc: \" cruz  cruz has insis cruz  that we repeal every single word of the affordable care act, including protections for pre-existing condi\\xe2\\x80\\xa6'                                                                 \n",
       "29    b\" cruz  cruz,  beto  try to rally latino voters in texas senate race ~ https://t.co/xn85hvenk4 https://t.co/uzthpo9hzk\"                                                                                                         \n",
       "...                                                                                                                        ...                                                                                                         \n",
       "5711  b'rt @rjc: \\xe2\\x80\\x9ci want to cut your taxes; congressman o\\xe2\\x80\\x99 beto  wants to raise your taxes,\\xe2\\x80\\x9d mr. cruz said in his closing remarks. \\xe2\\x80\\x9ci want to keep\\xe2\\x80\\xa6'                            \n",
       "5712  b'rt @rjc: \\xe2\\x80\\x9ci want to cut your taxes; congressman o\\xe2\\x80\\x99 beto  wants to raise your taxes,\\xe2\\x80\\x9d mr. cruz said in his closing remarks. \\xe2\\x80\\x9ci want to keep\\xe2\\x80\\xa6'                            \n",
       "5713  b'rt @cbsnews: \"don\\'t interrupt me, jason,\" says  cruz  cruz as the moderator tried to ask a follow-up question on the importance of remaining c\\xe2\\x80\\xa6'                                                                   \n",
       "5714  b'rt @outfrontcnn: in texas, can the democratic \"nice guy\" take off the gloves and go on the attack against the republican incumbent?  \\n\\n@bet\\xe2\\x80\\xa6'                                                                     \n",
       "5715  b'rt @cbsnews: \"don\\'t interrupt me, jason,\" says  cruz  cruz as the moderator tried to ask a follow-up question on the importance of remaining c\\xe2\\x80\\xa6'                                                                   \n",
       "5716  b\"rt @maccarty62: @gkeile @childlikefaaith yes,,,money can't and won't buy our votes!! texas for cruz!! we need to keep at it and make sure c\\xe2\\x80\\xa6\"                                                                       \n",
       "5717  b'rt @truthsoldierz: 20 days to vote!!\\n  #elpaso #texas \\n\\ntuesday\\nnovember 6, 2018\\n\\n\\xf0\\x9f\\x94\\xbakeep america great\\xf0\\x9f\\x94\\xba\\n\\xf0\\x9f\\x94\\xbavote republican\\xf0\\x9f\\x94\\xba\\n\\nvote rick seeberg\\xe2\\x80\\xa6'  \n",
       "5718  b'rt @kwilli1046: whom do you believe will win the texas senate race?\\n\\nplease vote and retweet for bigger sample size'                                                                                                         \n",
       "5719  b'rt @kwilli1046: whom do you believe will win the texas senate race?\\n\\nplease vote and retweet for bigger sample size'                                                                                                         \n",
       "5720  b'rt @kwilli1046: whom do you believe will win the texas senate race?\\n\\nplease vote and retweet for bigger sample size'                                                                                                         \n",
       "5721  b\"rt @hadleybeetee: @teapainusa  beto  let's get him to the senate first, though. come on, texas!\"                                                                                                                               \n",
       "5722  b'rt @cbsnews: cruz criticizes o\\' beto  for supporting mr. trump\\'s impeachment, calling it a \"partisan circus.\"\\n\\n\"really interesting to hear\\xe2\\x80\\xa6'                                                                    \n",
       "5723  b'rt @kwilli1046: whom do you believe will win the texas senate race?\\n\\nplease vote and retweet for bigger sample size'                                                                                                         \n",
       "5724  b'rt @kwilli1046: whom do you believe will win the texas senate race?\\n\\nplease vote and retweet for bigger sample size'                                                                                                         \n",
       "5725  b'rt @kwilli1046: whom do you believe will win the texas senate race?\\n\\nplease vote and retweet for bigger sample size'                                                                                                         \n",
       "5726  b\"battle of the rodents in texas senate race: beto's blind squirrel vs. cruz's missing hamster | 2018 elections | dal\\xe2\\x80\\xa6 https://t.co/d68s0qbecs\"                                                                       \n",
       "5727  b'i can name off towns and cities in texas too. does that mean i can run for senate like francis.\\n\\n#texasdebate\\xe2\\x80\\xa6 https://t.co/qh4rp5arlt'                                                                           \n",
       "5728  b'rt @salon: beto o\\xe2\\x80\\x99 beto  dominates  cruz  cruz in texas senate debate https://t.co/zjnuph5cpw'                                                                                                                      \n",
       "5729  b'rt @cbsnews: \"don\\'t interrupt me, jason,\" says  cruz  cruz as the moderator tried to ask a follow-up question on the importance of remaining c\\xe2\\x80\\xa6'                                                                   \n",
       "5730  b'rt @kwilli1046: whom do you believe will win the texas senate race?\\n\\nplease vote and retweet for bigger sample size'                                                                                                         \n",
       "5731  b'rt @kwilli1046: whom do you believe will win the texas senate race?\\n\\nplease vote and retweet for bigger sample size'                                                                                                         \n",
       "5732  b'rt @matthewamiller: the texas senate race is about a lot of things, but one of them is the choice between a normal human being and an andro\\xe2\\x80\\xa6'                                                                       \n",
       "5733  b'rt @ny2bos73: texas has a chance to do something really special. they have a chance to give this unbelievable man, who is as smart and cari\\xe2\\x80\\xa6'                                                                       \n",
       "5734  b\" beto  attacks cruz with 'lyin'  cruz ' nickname in testy debate - abc news https://t.co/qcjwo7xkih (via @abc)\"                                                                                                                \n",
       "5735  b'rt @cbsnews: \"don\\'t interrupt me, jason,\" says  cruz  cruz as the moderator tried to ask a follow-up question on the importance of remaining c\\xe2\\x80\\xa6'                                                                   \n",
       "5736  b'rt @abcpolitics: rep. beto o\\' beto  attacks sen.  cruz  cruz, reviving the \"lyin\\'  cruz \" nickname, in a testy texas senate debate https://t.co/y\\xe2\\x80\\xa6'                                                               \n",
       "5737  b'rt @kwilli1046: whom do you believe will win the texas senate race?\\n\\nplease vote and retweet for bigger sample size'                                                                                                         \n",
       "5738  b\"rt @jennycohn1: 11/ looking ahead to  beto 's texas senate race against  cruz  cruz, we have a serious election integrity problem becaus\\xe2\\x80\\xa6\"                                                                          \n",
       "5739  b'rt @kwilli1046: whom do you believe will win the texas senate race?\\n\\nplease vote and retweet for bigger sample size'                                                                                                         \n",
       "5740  b'rt @kwilli1046: whom do you believe will win the texas senate race?\\n\\nplease vote and retweet for bigger sample size'                                                                                                         \n",
       "\n",
       "[5741 rows x 2 columns]"
      ]
     },
     "execution_count": 19,
     "metadata": {},
     "output_type": "execute_result"
    }
   ],
   "source": [
    "# lets search for issues\n",
    "tweets[tweets['text'].str.contains(\"\")]"
   ]
  },
  {
   "cell_type": "code",
   "execution_count": 20,
   "metadata": {},
   "outputs": [],
   "source": [
    "# Let's write a function to take care of the ISSUES\n",
    "def replace_issues(text):\n",
    "    \n",
    "    text = text.lower()\n",
    "    \n",
    "    healthcare = ['affordable care act' , \"healthcare\", \"aca\"]\n",
    "    taxes = ['tax', 'taxes']\n",
    "    climatechange = ['climate', 'climatechange']\n",
    "    bordercontrol = ['border', 'immigration', 'bordersecurity', 'borders']\n",
    "    character = ['lyin', 'leader']\n",
    "    \n",
    "    for w in healthcare:\n",
    "        try:\n",
    "            text = text.replace(w, ' healthcare ')\n",
    "        except:\n",
    "            pass\n",
    "    for w in taxes:\n",
    "        try:\n",
    "            text = text.replace(w, ' taxes ')\n",
    "        except:\n",
    "            pass\n",
    "    for w in climatechange:\n",
    "        try:\n",
    "            text = text.replace(w, ' climatechange ')\n",
    "        except:\n",
    "            pass\n",
    "    for w in bordercontrol:\n",
    "        try:\n",
    "            text = text.replace(w, ' bordercontrol ')\n",
    "        except:\n",
    "            pass\n",
    "\n",
    "    for w in character:\n",
    "        try:\n",
    "            text = text.replace(w, ' character ')\n",
    "        except:\n",
    "            pass\n",
    "    \n",
    "    return text"
   ]
  },
  {
   "cell_type": "code",
   "execution_count": 21,
   "metadata": {},
   "outputs": [],
   "source": [
    "# apply replace_issues() on each tweet\n",
    "text_column = []\n",
    "for t in tweets.itertuples():\n",
    "    text = t.text\n",
    "    new_text = replace_issues(text)\n",
    "    text_column.append(new_text)"
   ]
  },
  {
   "cell_type": "code",
   "execution_count": 22,
   "metadata": {},
   "outputs": [],
   "source": [
    "# replace old text with new text\n",
    "tweets.text = text_column"
   ]
  },
  {
   "cell_type": "code",
   "execution_count": 23,
   "metadata": {},
   "outputs": [],
   "source": [
    "# do another word count\n",
    "# put all tweets together\n",
    "text=tweets[\"text\"].values.tolist()\n",
    "text=\" \".join(text)\n",
    "text = text.lower()\n",
    "\n",
    "# tokenize the text \n",
    "tokenizer = nltk.tokenize.RegexpTokenizer(r'\\w+')\n",
    "tokens = tokenizer.tokenize(text)\n",
    "\n",
    "# counter object\n",
    "words = Counter()\n",
    "\n",
    "# update counter with new words\n",
    "words.update(tokens)"
   ]
  },
  {
   "cell_type": "code",
   "execution_count": 24,
   "metadata": {},
   "outputs": [],
   "source": [
    "# issues\n",
    "issues = ['healthcare', 'taxes', 'climatechange', 'bordercontrol', 'character']"
   ]
  },
  {
   "cell_type": "code",
   "execution_count": 25,
   "metadata": {},
   "outputs": [],
   "source": [
    "# lets do this again: remove stop words, single letter variable names\n",
    "filter_words = Counter(x for x in tokens if x not in stopwords and x.isdigit() == False and len(x) != 1 and x.isalpha() == True and x in issues)"
   ]
  },
  {
   "cell_type": "code",
   "execution_count": 26,
   "metadata": {
    "scrolled": true
   },
   "outputs": [
    {
     "data": {
      "text/plain": [
       "[('healthcare', 730),\n",
       " ('character', 289),\n",
       " ('taxes', 196),\n",
       " ('bordercontrol', 64),\n",
       " ('climatechange', 36)]"
      ]
     },
     "execution_count": 26,
     "metadata": {},
     "output_type": "execute_result"
    }
   ],
   "source": [
    "filter_words.most_common()[:]"
   ]
  },
  {
   "cell_type": "markdown",
   "metadata": {},
   "source": [
    "Issues:\n",
    "* healthcare\n",
    "* character\n",
    "* taxes\n",
    "* bordercontrol"
   ]
  },
  {
   "cell_type": "markdown",
   "metadata": {},
   "source": [
    "## Part C"
   ]
  },
  {
   "cell_type": "markdown",
   "metadata": {},
   "source": [
    "#### Calculate Lift for Candidate / Issue"
   ]
  },
  {
   "cell_type": "markdown",
   "metadata": {},
   "source": [
    "Get count of tweets mentioning Beto / Cruz, and count of all tweets with Beto and/or Cruz in it"
   ]
  },
  {
   "cell_type": "code",
   "execution_count": 27,
   "metadata": {},
   "outputs": [],
   "source": [
    "beto_count = 0\n",
    "cruz_count = 0\n",
    "n_tweets = 0\n",
    "for t in tweets.itertuples():\n",
    "    if 'beto' in t.text and 'cruz' in t.text:\n",
    "        beto_count += 1\n",
    "        cruz_count += 1\n",
    "        n_tweets += 1\n",
    "    elif 'beto' in t.text:\n",
    "        beto_count += 1\n",
    "        n_tweets += 1\n",
    "    elif 'cruz' in t.text:\n",
    "        cruz_count += 1        \n",
    "        n_tweets += 1"
   ]
  },
  {
   "cell_type": "markdown",
   "metadata": {},
   "source": [
    "Get count of tweets for each issue!"
   ]
  },
  {
   "cell_type": "code",
   "execution_count": 28,
   "metadata": {},
   "outputs": [],
   "source": [
    "healthcare_count = 0\n",
    "character_count = 0\n",
    "taxes_count = 0\n",
    "bordercontrol_count = 0\n",
    "for t in tweets.itertuples():\n",
    "    if 'healthcare' in t.text:\n",
    "        healthcare_count += 1\n",
    "    elif 'character' in t.text:\n",
    "        character_count += 1\n",
    "    elif 'taxes' in t.text:\n",
    "        taxes_count += 1\n",
    "    elif 'bordercontrol' in t.text:\n",
    "        bordercontrol_count += 1"
   ]
  },
  {
   "cell_type": "markdown",
   "metadata": {},
   "source": [
    "Get count of tweets with \n",
    "\n",
    "Beto/healthcare, Beto/character, Beto/taxes, Beto/bordercontrol\n",
    "\n",
    "\n",
    "Cruz/healthcare, Cruz/character, Cruz/taxes, Cruz/bordercontrol"
   ]
  },
  {
   "cell_type": "code",
   "execution_count": 29,
   "metadata": {},
   "outputs": [],
   "source": [
    "# beto and issues\n",
    "bh_count = 0\n",
    "bc_count = 0\n",
    "bt_count = 0\n",
    "bb_count = 0\n",
    "\n",
    "# cruz and issues\n",
    "ch_count = 0\n",
    "cc_count = 0\n",
    "ct_count = 0\n",
    "cb_count = 0\n",
    "\n",
    "for t in tweets.itertuples():\n",
    "    # beto\n",
    "    if 'beto' in t.text and 'healthcare' in t.text:\n",
    "        bh_count += 1\n",
    "    if 'beto' in t.text and 'character' in t.text:\n",
    "        bc_count += 1\n",
    "    if 'beto' in t.text and 'taxes' in t.text:\n",
    "        bt_count += 1\n",
    "    if 'beto' in t.text and 'bordercontrol' in t.text:\n",
    "        bb_count += 1\n",
    "    \n",
    "    # cruz\n",
    "    if 'cruz' in t.text and 'healthcare' in t.text:\n",
    "        ch_count += 1\n",
    "    if 'cruz' in t.text and 'character' in t.text:\n",
    "        cc_count += 1\n",
    "    if 'cruz' in t.text and 'taxes' in t.text:\n",
    "        ct_count += 1\n",
    "    if 'cruz' in t.text and 'bordercontrol' in t.text:\n",
    "        cb_count += 1"
   ]
  },
  {
   "cell_type": "code",
   "execution_count": 30,
   "metadata": {},
   "outputs": [],
   "source": [
    "candidate_counts = [beto_count, cruz_count]\n",
    "issue_counts = [healthcare_count, character_count, taxes_count, bordercontrol_count]\n",
    "combo_counts = [bh_count, bc_count, bt_count, bb_count, ch_count, cc_count, ct_count, cb_count]\n",
    "lifts = [] # order: [0] beto vs healthcare, [1] beto vs character, [2] beto vs taxes, [3] beto vs bordercontrol\n",
    "           #        [4] cruz vs healthcare, [5] cruz vs character, [6] cruz vs taxes, [7] cruz vs bordercontrol\n",
    "index = 0\n",
    "for cand_count in candidate_counts:\n",
    "    for issue_count in issue_counts:\n",
    "        lifts.append( (len(tweets) * combo_counts[index]) / (cand_count * issue_count) )\n",
    "        index +=1 \n",
    "lifts_copy = lifts[:]"
   ]
  },
  {
   "cell_type": "code",
   "execution_count": 31,
   "metadata": {},
   "outputs": [],
   "source": [
    "lifts = np.reshape(lifts, (2, 4)).T # reshape for similarities matrix"
   ]
  },
  {
   "cell_type": "code",
   "execution_count": 32,
   "metadata": {},
   "outputs": [],
   "source": [
    "similarities = pd.DataFrame(lifts, columns=['beto', 'cruz'], index=['healthcare', 'character', 'taxes', 'bordercontrol'])"
   ]
  },
  {
   "cell_type": "markdown",
   "metadata": {},
   "source": [
    "#### Lift matrix"
   ]
  },
  {
   "cell_type": "code",
   "execution_count": 33,
   "metadata": {},
   "outputs": [
    {
     "data": {
      "text/html": [
       "<div>\n",
       "<style scoped>\n",
       "    .dataframe tbody tr th:only-of-type {\n",
       "        vertical-align: middle;\n",
       "    }\n",
       "\n",
       "    .dataframe tbody tr th {\n",
       "        vertical-align: top;\n",
       "    }\n",
       "\n",
       "    .dataframe thead th {\n",
       "        text-align: right;\n",
       "    }\n",
       "</style>\n",
       "<table border=\"1\" class=\"dataframe\">\n",
       "  <thead>\n",
       "    <tr style=\"text-align: right;\">\n",
       "      <th></th>\n",
       "      <th>beto</th>\n",
       "      <th>cruz</th>\n",
       "    </tr>\n",
       "  </thead>\n",
       "  <tbody>\n",
       "    <tr>\n",
       "      <th>healthcare</th>\n",
       "      <td>0.171859</td>\n",
       "      <td>1.546513</td>\n",
       "    </tr>\n",
       "    <tr>\n",
       "      <th>character</th>\n",
       "      <td>1.674005</td>\n",
       "      <td>0.524548</td>\n",
       "    </tr>\n",
       "    <tr>\n",
       "      <th>taxes</th>\n",
       "      <td>1.275317</td>\n",
       "      <td>1.225257</td>\n",
       "    </tr>\n",
       "    <tr>\n",
       "      <th>bordercontrol</th>\n",
       "      <td>0.412301</td>\n",
       "      <td>1.088287</td>\n",
       "    </tr>\n",
       "  </tbody>\n",
       "</table>\n",
       "</div>"
      ],
      "text/plain": [
       "                   beto      cruz\n",
       "healthcare     0.171859  1.546513\n",
       "character      1.674005  0.524548\n",
       "taxes          1.275317  1.225257\n",
       "bordercontrol  0.412301  1.088287"
      ]
     },
     "execution_count": 33,
     "metadata": {},
     "output_type": "execute_result"
    }
   ],
   "source": [
    "similarities"
   ]
  },
  {
   "cell_type": "markdown",
   "metadata": {},
   "source": [
    "## Sentiment Analysis"
   ]
  },
  {
   "cell_type": "markdown",
   "metadata": {},
   "source": [
    "Define get_substring(key_word, s) function"
   ]
  },
  {
   "cell_type": "code",
   "execution_count": 34,
   "metadata": {},
   "outputs": [],
   "source": [
    "# ask if key word in the string\n",
    "# split into list\n",
    "# identify the index of the key word\n",
    "# get list of +/- 3 indexes from key word\n",
    "# concated list back to string\n",
    "# return string\n",
    "def get_substring(key_word, s):\n",
    "    \"\"\"\n",
    "        1. ask if key word in the string\n",
    "        2. split into list\n",
    "        3. identify the index of the key word\n",
    "        4. get list of +/- radius indexes from key word\n",
    "        5. concated list back to string\n",
    "        6. return string\n",
    "    \"\"\"\n",
    "\n",
    "    # get rid of \"b'\" at beginning of tweet\n",
    "    s = s[2:]\n",
    "\n",
    "    # get rid of rt stuff if there\n",
    "    if 'rt @' in s:\n",
    "        end_of_rt = s.index(':')+2\n",
    "        s = s[end_of_rt:]\n",
    "\n",
    "    s_list = s.split()\n",
    "\n",
    "    radius = 10 # set the radius\n",
    "\n",
    "    # using this ugly mess to try to get beto or cruz if they are next to commas or exclamation\n",
    "    try:\n",
    "        kw_index = s_list.index(key_word)\n",
    "    except:\n",
    "        try:\n",
    "            kw_index = s_list.index(key_word+',')\n",
    "        except:\n",
    "            try:\n",
    "                kw_index = s_list.index(key_word+'!')\n",
    "            except:\n",
    "                try:\n",
    "                    kw_index = s_list.index(key_word+'.')\n",
    "                except:\n",
    "                    return\n",
    "\n",
    "    # get up until key word\n",
    "    sub_s_beg = []\n",
    "    if radius > kw_index:\n",
    "        sub_s_beg = s_list[:kw_index]\n",
    "    else:\n",
    "        sub_s_beg = s_list[kw_index-radius:kw_index]\n",
    "\n",
    "    # get key word and after\n",
    "    len_kw_index_to_end = len(s_list[kw_index+1:])\n",
    "    sub_s_end = []\n",
    "    if radius < len_kw_index_to_end:\n",
    "        sub_s_end = s_list[kw_index:kw_index+radius+1]\n",
    "    else:\n",
    "        sub_s_end = s_list[kw_index:]\n",
    "\n",
    "    sub_s = (' ').join(sub_s_beg + sub_s_end)\n",
    "    return sub_s"
   ]
  },
  {
   "cell_type": "code",
   "execution_count": 35,
   "metadata": {},
   "outputs": [],
   "source": [
    "# sentiment analyzer object\n",
    "analyser = SentimentIntensityAnalyzer()"
   ]
  },
  {
   "cell_type": "code",
   "execution_count": 36,
   "metadata": {},
   "outputs": [],
   "source": [
    "# lyft values > 1\n",
    "ch_sent = []\n",
    "ct_sent = []\n",
    "cb_sent = []\n",
    "bc_sent = []\n",
    "bt_sent = []\n",
    "\n",
    "for t in tweets.itertuples():\n",
    "    \n",
    "    # Beto and taxes\n",
    "    if 'beto' in t.text and 'taxes' in t.text:\n",
    "        sub_text = get_substring('beto', t.text)\n",
    "        if sub_text:\n",
    "            snt = analyser.polarity_scores(sub_text)\n",
    "            bt_sent.append(snt['compound'])\n",
    "        \n",
    "    # Beto and character\n",
    "    if 'beto' in t.text and 'character' in t.text:\n",
    "        sub_text = get_substring('beto', t.text)\n",
    "        \n",
    "        if sub_text:\n",
    "            snt = analyser.polarity_scores(sub_text)\n",
    "            bc_sent.append(snt['compound'])\n",
    "\n",
    "    # cruz and taxes\n",
    "    if 'cruz' in t.text and 'taxes' in t.text:\n",
    "        sub_text = get_substring('cruz', t.text)\n",
    "        if sub_text:\n",
    "            snt = analyser.polarity_scores(sub_text)\n",
    "            ct_sent.append(snt['compound'])\n",
    "            \n",
    "    # cruz and bordercontrol\n",
    "    if 'cruz' in t.text and 'bordercontrol' in t.text:\n",
    "        sub_text = get_substring('cruz', t.text)\n",
    "        if sub_text:\n",
    "            snt = analyser.polarity_scores(sub_text)\n",
    "            cb_sent.append(snt['compound'])\n",
    "\n",
    "    # cruz and healthcare\n",
    "    if 'cruz' in t.text and 'healthcare' in t.text:\n",
    "        sub_text = get_substring('cruz', t.text)\n",
    "        if sub_text:\n",
    "            snt = analyser.polarity_scores(sub_text)\n",
    "            ch_sent.append(snt['compound'])"
   ]
  },
  {
   "cell_type": "code",
   "execution_count": 37,
   "metadata": {},
   "outputs": [],
   "source": [
    "# get average of list\n",
    "def avg(lst): \n",
    "    return sum(lst) / len(lst)"
   ]
  },
  {
   "cell_type": "code",
   "execution_count": 38,
   "metadata": {},
   "outputs": [],
   "source": [
    "# order [0] beto/big [1] cruz/big [2] beto/small [3] cruz/small\n",
    "sentiments = [avg(ch_sent), avg(ct_sent), avg(cb_sent), avg(bc_sent), avg(bt_sent)]"
   ]
  },
  {
   "cell_type": "code",
   "execution_count": 39,
   "metadata": {},
   "outputs": [
    {
     "data": {
      "text/plain": [
       "[0.0020593607305936074,\n",
       " 0.07625853658536597,\n",
       " 0.8008236842105269,\n",
       " 0.5196468401486982,\n",
       " -0.19130481927710813]"
      ]
     },
     "execution_count": 39,
     "metadata": {},
     "output_type": "execute_result"
    }
   ],
   "source": [
    "sentiments"
   ]
  },
  {
   "cell_type": "code",
   "execution_count": 40,
   "metadata": {},
   "outputs": [],
   "source": [
    "final_table = pd.DataFrame(None, columns=['lift', 'sentiment score'], index=['healthcare & beto', 'character& beto', 'taxes & beto', 'bordercontrol & beto',\n",
    "                                                                             'healthcare & cruz','character& cruz','taxes & cruz','bordercontrol & cruz'])"
   ]
  },
  {
   "cell_type": "code",
   "execution_count": 41,
   "metadata": {},
   "outputs": [],
   "source": [
    "final_table['lift']=lifts_copy"
   ]
  },
  {
   "cell_type": "code",
   "execution_count": 42,
   "metadata": {},
   "outputs": [
    {
     "name": "stderr",
     "output_type": "stream",
     "text": [
      "/Library/anaconda3/lib/python3.7/site-packages/ipykernel_launcher.py:1: SettingWithCopyWarning: \n",
      "A value is trying to be set on a copy of a slice from a DataFrame\n",
      "\n",
      "See the caveats in the documentation: http://pandas.pydata.org/pandas-docs/stable/indexing.html#indexing-view-versus-copy\n",
      "  \"\"\"Entry point for launching an IPython kernel.\n",
      "/Library/anaconda3/lib/python3.7/site-packages/ipykernel_launcher.py:2: SettingWithCopyWarning: \n",
      "A value is trying to be set on a copy of a slice from a DataFrame\n",
      "\n",
      "See the caveats in the documentation: http://pandas.pydata.org/pandas-docs/stable/indexing.html#indexing-view-versus-copy\n",
      "  \n",
      "/Library/anaconda3/lib/python3.7/site-packages/ipykernel_launcher.py:3: SettingWithCopyWarning: \n",
      "A value is trying to be set on a copy of a slice from a DataFrame\n",
      "\n",
      "See the caveats in the documentation: http://pandas.pydata.org/pandas-docs/stable/indexing.html#indexing-view-versus-copy\n",
      "  This is separate from the ipykernel package so we can avoid doing imports until\n",
      "/Library/anaconda3/lib/python3.7/site-packages/ipykernel_launcher.py:4: SettingWithCopyWarning: \n",
      "A value is trying to be set on a copy of a slice from a DataFrame\n",
      "\n",
      "See the caveats in the documentation: http://pandas.pydata.org/pandas-docs/stable/indexing.html#indexing-view-versus-copy\n",
      "  after removing the cwd from sys.path.\n",
      "/Library/anaconda3/lib/python3.7/site-packages/ipykernel_launcher.py:5: SettingWithCopyWarning: \n",
      "A value is trying to be set on a copy of a slice from a DataFrame\n",
      "\n",
      "See the caveats in the documentation: http://pandas.pydata.org/pandas-docs/stable/indexing.html#indexing-view-versus-copy\n",
      "  \"\"\"\n"
     ]
    }
   ],
   "source": [
    "final_table['sentiment score']['healthcare & cruz']= sentiments[0]\n",
    "final_table['sentiment score']['taxes & cruz']= sentiments[1]\n",
    "final_table['sentiment score']['bordercontrol & cruz']= sentiments[2]\n",
    "final_table['sentiment score']['character& beto']= sentiments[3]\n",
    "final_table['sentiment score']['taxes & beto']= sentiments[4]\n"
   ]
  },
  {
   "cell_type": "code",
   "execution_count": 43,
   "metadata": {},
   "outputs": [
    {
     "data": {
      "text/html": [
       "<div>\n",
       "<style scoped>\n",
       "    .dataframe tbody tr th:only-of-type {\n",
       "        vertical-align: middle;\n",
       "    }\n",
       "\n",
       "    .dataframe tbody tr th {\n",
       "        vertical-align: top;\n",
       "    }\n",
       "\n",
       "    .dataframe thead th {\n",
       "        text-align: right;\n",
       "    }\n",
       "</style>\n",
       "<table border=\"1\" class=\"dataframe\">\n",
       "  <thead>\n",
       "    <tr style=\"text-align: right;\">\n",
       "      <th></th>\n",
       "      <th>lift</th>\n",
       "      <th>sentiment score</th>\n",
       "    </tr>\n",
       "  </thead>\n",
       "  <tbody>\n",
       "    <tr>\n",
       "      <th>healthcare &amp; beto</th>\n",
       "      <td>0.171859</td>\n",
       "      <td>NaN</td>\n",
       "    </tr>\n",
       "    <tr>\n",
       "      <th>character&amp; beto</th>\n",
       "      <td>1.674005</td>\n",
       "      <td>0.519647</td>\n",
       "    </tr>\n",
       "    <tr>\n",
       "      <th>taxes &amp; beto</th>\n",
       "      <td>1.275317</td>\n",
       "      <td>-0.191305</td>\n",
       "    </tr>\n",
       "    <tr>\n",
       "      <th>bordercontrol &amp; beto</th>\n",
       "      <td>0.412301</td>\n",
       "      <td>NaN</td>\n",
       "    </tr>\n",
       "    <tr>\n",
       "      <th>healthcare &amp; cruz</th>\n",
       "      <td>1.546513</td>\n",
       "      <td>0.00205936</td>\n",
       "    </tr>\n",
       "    <tr>\n",
       "      <th>character&amp; cruz</th>\n",
       "      <td>0.524548</td>\n",
       "      <td>NaN</td>\n",
       "    </tr>\n",
       "    <tr>\n",
       "      <th>taxes &amp; cruz</th>\n",
       "      <td>1.225257</td>\n",
       "      <td>0.0762585</td>\n",
       "    </tr>\n",
       "    <tr>\n",
       "      <th>bordercontrol &amp; cruz</th>\n",
       "      <td>1.088287</td>\n",
       "      <td>0.800824</td>\n",
       "    </tr>\n",
       "  </tbody>\n",
       "</table>\n",
       "</div>"
      ],
      "text/plain": [
       "                          lift sentiment score\n",
       "healthcare & beto     0.171859  NaN           \n",
       "character& beto       1.674005  0.519647      \n",
       "taxes & beto          1.275317 -0.191305      \n",
       "bordercontrol & beto  0.412301  NaN           \n",
       "healthcare & cruz     1.546513  0.00205936    \n",
       "character& cruz       0.524548  NaN           \n",
       "taxes & cruz          1.225257  0.0762585     \n",
       "bordercontrol & cruz  1.088287  0.800824      "
      ]
     },
     "execution_count": 43,
     "metadata": {},
     "output_type": "execute_result"
    }
   ],
   "source": [
    "final_table"
   ]
  },
  {
   "cell_type": "markdown",
   "metadata": {},
   "source": [
    "## Task D"
   ]
  },
  {
   "cell_type": "markdown",
   "metadata": {},
   "source": [
    "### Get dissimilarity matrix"
   ]
  },
  {
   "cell_type": "code",
   "execution_count": 44,
   "metadata": {},
   "outputs": [],
   "source": [
    "attri_list=[\"beto\",\"cruz\",\"healthcare\",\"character\",\"taxes\",\"bordercontrol\"]"
   ]
  },
  {
   "cell_type": "code",
   "execution_count": 45,
   "metadata": {},
   "outputs": [],
   "source": [
    "attri_combos = []\n",
    "for i in range (len(attri_list)):\n",
    "    for j in range (len(attri_list)):\n",
    "        combo = (attri_list[i], attri_list[j])\n",
    "        attri_combos.append(combo)"
   ]
  },
  {
   "cell_type": "code",
   "execution_count": 46,
   "metadata": {},
   "outputs": [
    {
     "data": {
      "text/plain": [
       "[('beto', 'beto'),\n",
       " ('beto', 'cruz'),\n",
       " ('beto', 'healthcare'),\n",
       " ('beto', 'character'),\n",
       " ('beto', 'taxes'),\n",
       " ('beto', 'bordercontrol'),\n",
       " ('cruz', 'beto'),\n",
       " ('cruz', 'cruz'),\n",
       " ('cruz', 'healthcare'),\n",
       " ('cruz', 'character'),\n",
       " ('cruz', 'taxes'),\n",
       " ('cruz', 'bordercontrol'),\n",
       " ('healthcare', 'beto'),\n",
       " ('healthcare', 'cruz'),\n",
       " ('healthcare', 'healthcare'),\n",
       " ('healthcare', 'character'),\n",
       " ('healthcare', 'taxes'),\n",
       " ('healthcare', 'bordercontrol'),\n",
       " ('character', 'beto'),\n",
       " ('character', 'cruz'),\n",
       " ('character', 'healthcare'),\n",
       " ('character', 'character'),\n",
       " ('character', 'taxes'),\n",
       " ('character', 'bordercontrol'),\n",
       " ('taxes', 'beto'),\n",
       " ('taxes', 'cruz'),\n",
       " ('taxes', 'healthcare'),\n",
       " ('taxes', 'character'),\n",
       " ('taxes', 'taxes'),\n",
       " ('taxes', 'bordercontrol'),\n",
       " ('bordercontrol', 'beto'),\n",
       " ('bordercontrol', 'cruz'),\n",
       " ('bordercontrol', 'healthcare'),\n",
       " ('bordercontrol', 'character'),\n",
       " ('bordercontrol', 'taxes'),\n",
       " ('bordercontrol', 'bordercontrol')]"
      ]
     },
     "execution_count": 46,
     "metadata": {},
     "output_type": "execute_result"
    }
   ],
   "source": [
    "attri_combos "
   ]
  },
  {
   "cell_type": "code",
   "execution_count": 47,
   "metadata": {},
   "outputs": [],
   "source": [
    "attri_combo_dict = {}\n",
    "for a in attri_combos:\n",
    "    attri_combo_dict[a] = 0"
   ]
  },
  {
   "cell_type": "code",
   "execution_count": 48,
   "metadata": {},
   "outputs": [],
   "source": [
    "for a in attri_combos:\n",
    "    for c in tweets[\"text\"]:\n",
    "        attri1 = a[0]\n",
    "        attri2 = a[1]\n",
    "        if attri1 in c and attri2 in c:\n",
    "            attri_combo_dict[a] += 1"
   ]
  },
  {
   "cell_type": "code",
   "execution_count": 49,
   "metadata": {},
   "outputs": [
    {
     "data": {
      "text/plain": [
       "{('beto', 'beto'): 3249,\n",
       " ('beto', 'cruz'): 1913,\n",
       " ('beto', 'healthcare'): 71,\n",
       " ('beto', 'character'): 270,\n",
       " ('beto', 'taxes'): 83,\n",
       " ('beto', 'bordercontrol'): 14,\n",
       " ('cruz', 'beto'): 1913,\n",
       " ('cruz', 'cruz'): 3341,\n",
       " ('cruz', 'healthcare'): 657,\n",
       " ('cruz', 'character'): 87,\n",
       " ('cruz', 'taxes'): 82,\n",
       " ('cruz', 'bordercontrol'): 38,\n",
       " ('healthcare', 'beto'): 71,\n",
       " ('healthcare', 'cruz'): 657,\n",
       " ('healthcare', 'healthcare'): 730,\n",
       " ('healthcare', 'character'): 4,\n",
       " ('healthcare', 'taxes'): 0,\n",
       " ('healthcare', 'bordercontrol'): 0,\n",
       " ('character', 'beto'): 270,\n",
       " ('character', 'cruz'): 87,\n",
       " ('character', 'healthcare'): 4,\n",
       " ('character', 'character'): 289,\n",
       " ('character', 'taxes'): 0,\n",
       " ('character', 'bordercontrol'): 0,\n",
       " ('taxes', 'beto'): 83,\n",
       " ('taxes', 'cruz'): 82,\n",
       " ('taxes', 'healthcare'): 0,\n",
       " ('taxes', 'character'): 0,\n",
       " ('taxes', 'taxes'): 115,\n",
       " ('taxes', 'bordercontrol'): 1,\n",
       " ('bordercontrol', 'beto'): 14,\n",
       " ('bordercontrol', 'cruz'): 38,\n",
       " ('bordercontrol', 'healthcare'): 0,\n",
       " ('bordercontrol', 'character'): 0,\n",
       " ('bordercontrol', 'taxes'): 1,\n",
       " ('bordercontrol', 'bordercontrol'): 61}"
      ]
     },
     "execution_count": 49,
     "metadata": {},
     "output_type": "execute_result"
    }
   ],
   "source": [
    "attri_combo_dict"
   ]
  },
  {
   "cell_type": "code",
   "execution_count": 50,
   "metadata": {},
   "outputs": [],
   "source": [
    "attri_dict = {}\n",
    "for b in attri_list:\n",
    "    for c in tweets[\"text\"]:\n",
    "        if b in c:\n",
    "            if b in attri_dict:\n",
    "                attri_dict[b] += 1\n",
    "            else:\n",
    "                attri_dict[b] = 1"
   ]
  },
  {
   "cell_type": "code",
   "execution_count": 51,
   "metadata": {},
   "outputs": [
    {
     "data": {
      "text/plain": [
       "{'beto': 3249,\n",
       " 'cruz': 3341,\n",
       " 'healthcare': 730,\n",
       " 'character': 289,\n",
       " 'taxes': 115,\n",
       " 'bordercontrol': 61}"
      ]
     },
     "execution_count": 51,
     "metadata": {},
     "output_type": "execute_result"
    }
   ],
   "source": [
    "attri_dict"
   ]
  },
  {
   "cell_type": "code",
   "execution_count": 52,
   "metadata": {},
   "outputs": [],
   "source": [
    "tot_number_of_tweets=n_tweets"
   ]
  },
  {
   "cell_type": "code",
   "execution_count": 53,
   "metadata": {},
   "outputs": [],
   "source": [
    "tot_number_of_tweets=len(tweets)"
   ]
  },
  {
   "cell_type": "code",
   "execution_count": 54,
   "metadata": {},
   "outputs": [
    {
     "data": {
      "text/plain": [
       "5741"
      ]
     },
     "execution_count": 54,
     "metadata": {},
     "output_type": "execute_result"
    }
   ],
   "source": [
    "tot_number_of_tweets"
   ]
  },
  {
   "cell_type": "code",
   "execution_count": 55,
   "metadata": {},
   "outputs": [],
   "source": [
    "lifts_dict = {}\n",
    "for a in attri_combo_dict:\n",
    "    if a[0] == a[1]:\n",
    "        lift = 0\n",
    "    else:\n",
    "        combo_count = attri_combo_dict[a]\n",
    "        attri1_count = attri_dict[a[0]]\n",
    "        attri2_count = attri_dict[a[1]]\n",
    "        lift = (tot_number_of_tweets * combo_count) / (attri1_count * attri2_count)\n",
    "    lifts_dict[a] = lift"
   ]
  },
  {
   "cell_type": "code",
   "execution_count": 56,
   "metadata": {},
   "outputs": [],
   "source": [
    "matrix = []\n",
    "row = -1\n",
    "current_attri = ''\n",
    "for combo in lifts_dict:\n",
    "    attri = combo[0]\n",
    "    lift = lifts_dict[combo]\n",
    "    if attri == current_attri:\n",
    "        matrix[row].append(lift)\n",
    "    else:\n",
    "        row += 1\n",
    "        current_attri = attri\n",
    "        matrix.append([])\n",
    "        matrix[row].append(lift)"
   ]
  },
  {
   "cell_type": "code",
   "execution_count": 57,
   "metadata": {},
   "outputs": [],
   "source": [
    "simi = pd.DataFrame(matrix, columns=attri_list, index=attri_list)"
   ]
  },
  {
   "cell_type": "code",
   "execution_count": 58,
   "metadata": {},
   "outputs": [
    {
     "data": {
      "text/html": [
       "<div>\n",
       "<style scoped>\n",
       "    .dataframe tbody tr th:only-of-type {\n",
       "        vertical-align: middle;\n",
       "    }\n",
       "\n",
       "    .dataframe tbody tr th {\n",
       "        vertical-align: top;\n",
       "    }\n",
       "\n",
       "    .dataframe thead th {\n",
       "        text-align: right;\n",
       "    }\n",
       "</style>\n",
       "<table border=\"1\" class=\"dataframe\">\n",
       "  <thead>\n",
       "    <tr style=\"text-align: right;\">\n",
       "      <th></th>\n",
       "      <th>beto</th>\n",
       "      <th>cruz</th>\n",
       "      <th>healthcare</th>\n",
       "      <th>character</th>\n",
       "      <th>taxes</th>\n",
       "      <th>bordercontrol</th>\n",
       "    </tr>\n",
       "  </thead>\n",
       "  <tbody>\n",
       "    <tr>\n",
       "      <th>beto</th>\n",
       "      <td>0.000000</td>\n",
       "      <td>1.011757</td>\n",
       "      <td>0.171859</td>\n",
       "      <td>1.650835</td>\n",
       "      <td>1.275317</td>\n",
       "      <td>0.405542</td>\n",
       "    </tr>\n",
       "    <tr>\n",
       "      <th>cruz</th>\n",
       "      <td>1.011757</td>\n",
       "      <td>0.000000</td>\n",
       "      <td>1.546513</td>\n",
       "      <td>0.517288</td>\n",
       "      <td>1.225257</td>\n",
       "      <td>1.070446</td>\n",
       "    </tr>\n",
       "    <tr>\n",
       "      <th>healthcare</th>\n",
       "      <td>0.171859</td>\n",
       "      <td>1.546513</td>\n",
       "      <td>0.000000</td>\n",
       "      <td>0.108850</td>\n",
       "      <td>0.000000</td>\n",
       "      <td>0.000000</td>\n",
       "    </tr>\n",
       "    <tr>\n",
       "      <th>character</th>\n",
       "      <td>1.650835</td>\n",
       "      <td>0.517288</td>\n",
       "      <td>0.108850</td>\n",
       "      <td>0.000000</td>\n",
       "      <td>0.000000</td>\n",
       "      <td>0.000000</td>\n",
       "    </tr>\n",
       "    <tr>\n",
       "      <th>taxes</th>\n",
       "      <td>1.275317</td>\n",
       "      <td>1.225257</td>\n",
       "      <td>0.000000</td>\n",
       "      <td>0.000000</td>\n",
       "      <td>0.000000</td>\n",
       "      <td>0.818389</td>\n",
       "    </tr>\n",
       "    <tr>\n",
       "      <th>bordercontrol</th>\n",
       "      <td>0.405542</td>\n",
       "      <td>1.070446</td>\n",
       "      <td>0.000000</td>\n",
       "      <td>0.000000</td>\n",
       "      <td>0.818389</td>\n",
       "      <td>0.000000</td>\n",
       "    </tr>\n",
       "  </tbody>\n",
       "</table>\n",
       "</div>"
      ],
      "text/plain": [
       "                   beto      cruz  healthcare  character     taxes  \\\n",
       "beto           0.000000  1.011757  0.171859    1.650835   1.275317   \n",
       "cruz           1.011757  0.000000  1.546513    0.517288   1.225257   \n",
       "healthcare     0.171859  1.546513  0.000000    0.108850   0.000000   \n",
       "character      1.650835  0.517288  0.108850    0.000000   0.000000   \n",
       "taxes          1.275317  1.225257  0.000000    0.000000   0.000000   \n",
       "bordercontrol  0.405542  1.070446  0.000000    0.000000   0.818389   \n",
       "\n",
       "               bordercontrol  \n",
       "beto           0.405542       \n",
       "cruz           1.070446       \n",
       "healthcare     0.000000       \n",
       "character      0.000000       \n",
       "taxes          0.818389       \n",
       "bordercontrol  0.000000       "
      ]
     },
     "execution_count": 58,
     "metadata": {},
     "output_type": "execute_result"
    }
   ],
   "source": [
    "simi"
   ]
  },
  {
   "cell_type": "code",
   "execution_count": 59,
   "metadata": {},
   "outputs": [],
   "source": [
    "#dissimilarity\n",
    "dis=matrix\n",
    "for i in range (len(matrix)):\n",
    "    for j in range (len(matrix[i])):\n",
    "        if matrix[i][j] != 0:\n",
    "            dis[i][j] = 1/matrix[i][j]"
   ]
  },
  {
   "cell_type": "code",
   "execution_count": 60,
   "metadata": {},
   "outputs": [],
   "source": [
    "dissimilarity = pd.DataFrame(dis, columns=attri_list, index=attri_list)"
   ]
  },
  {
   "cell_type": "code",
   "execution_count": 61,
   "metadata": {},
   "outputs": [
    {
     "data": {
      "text/html": [
       "<div>\n",
       "<style scoped>\n",
       "    .dataframe tbody tr th:only-of-type {\n",
       "        vertical-align: middle;\n",
       "    }\n",
       "\n",
       "    .dataframe tbody tr th {\n",
       "        vertical-align: top;\n",
       "    }\n",
       "\n",
       "    .dataframe thead th {\n",
       "        text-align: right;\n",
       "    }\n",
       "</style>\n",
       "<table border=\"1\" class=\"dataframe\">\n",
       "  <thead>\n",
       "    <tr style=\"text-align: right;\">\n",
       "      <th></th>\n",
       "      <th>beto</th>\n",
       "      <th>cruz</th>\n",
       "      <th>healthcare</th>\n",
       "      <th>character</th>\n",
       "      <th>taxes</th>\n",
       "      <th>bordercontrol</th>\n",
       "    </tr>\n",
       "  </thead>\n",
       "  <tbody>\n",
       "    <tr>\n",
       "      <th>beto</th>\n",
       "      <td>0.000000</td>\n",
       "      <td>0.988379</td>\n",
       "      <td>5.818710</td>\n",
       "      <td>0.605754</td>\n",
       "      <td>0.784119</td>\n",
       "      <td>2.465835</td>\n",
       "    </tr>\n",
       "    <tr>\n",
       "      <th>cruz</th>\n",
       "      <td>0.988379</td>\n",
       "      <td>0.000000</td>\n",
       "      <td>0.646616</td>\n",
       "      <td>1.933159</td>\n",
       "      <td>0.816156</td>\n",
       "      <td>0.934190</td>\n",
       "    </tr>\n",
       "    <tr>\n",
       "      <th>healthcare</th>\n",
       "      <td>5.818710</td>\n",
       "      <td>0.646616</td>\n",
       "      <td>0.000000</td>\n",
       "      <td>9.186988</td>\n",
       "      <td>0.000000</td>\n",
       "      <td>0.000000</td>\n",
       "    </tr>\n",
       "    <tr>\n",
       "      <th>character</th>\n",
       "      <td>0.605754</td>\n",
       "      <td>1.933159</td>\n",
       "      <td>9.186988</td>\n",
       "      <td>0.000000</td>\n",
       "      <td>0.000000</td>\n",
       "      <td>0.000000</td>\n",
       "    </tr>\n",
       "    <tr>\n",
       "      <th>taxes</th>\n",
       "      <td>0.784119</td>\n",
       "      <td>0.816156</td>\n",
       "      <td>0.000000</td>\n",
       "      <td>0.000000</td>\n",
       "      <td>0.000000</td>\n",
       "      <td>1.221913</td>\n",
       "    </tr>\n",
       "    <tr>\n",
       "      <th>bordercontrol</th>\n",
       "      <td>2.465835</td>\n",
       "      <td>0.934190</td>\n",
       "      <td>0.000000</td>\n",
       "      <td>0.000000</td>\n",
       "      <td>1.221913</td>\n",
       "      <td>0.000000</td>\n",
       "    </tr>\n",
       "  </tbody>\n",
       "</table>\n",
       "</div>"
      ],
      "text/plain": [
       "                   beto      cruz  healthcare  character     taxes  \\\n",
       "beto           0.000000  0.988379  5.818710    0.605754   0.784119   \n",
       "cruz           0.988379  0.000000  0.646616    1.933159   0.816156   \n",
       "healthcare     5.818710  0.646616  0.000000    9.186988   0.000000   \n",
       "character      0.605754  1.933159  9.186988    0.000000   0.000000   \n",
       "taxes          0.784119  0.816156  0.000000    0.000000   0.000000   \n",
       "bordercontrol  2.465835  0.934190  0.000000    0.000000   1.221913   \n",
       "\n",
       "               bordercontrol  \n",
       "beto           2.465835       \n",
       "cruz           0.934190       \n",
       "healthcare     0.000000       \n",
       "character      0.000000       \n",
       "taxes          1.221913       \n",
       "bordercontrol  0.000000       "
      ]
     },
     "execution_count": 61,
     "metadata": {},
     "output_type": "execute_result"
    }
   ],
   "source": [
    "dissimilarity"
   ]
  },
  {
   "cell_type": "markdown",
   "metadata": {},
   "source": [
    "### Plot MDS Map"
   ]
  },
  {
   "cell_type": "code",
   "execution_count": 62,
   "metadata": {},
   "outputs": [],
   "source": [
    "from sklearn import manifold\n",
    "from sklearn.metrics import euclidean_distances\n",
    "from sklearn.decomposition import PCA\n",
    "import matplotlib.pyplot as plt "
   ]
  },
  {
   "cell_type": "code",
   "execution_count": 63,
   "metadata": {},
   "outputs": [],
   "source": [
    "mds = manifold.MDS(n_components=2, max_iter=3000, eps=1e-9,\n",
    "                   dissimilarity=\"precomputed\", n_jobs=1)\n",
    "pos = mds.fit(dis).embedding_"
   ]
  },
  {
   "cell_type": "code",
   "execution_count": 64,
   "metadata": {},
   "outputs": [],
   "source": [
    "dissimilarity = dissimilarity.max() / similarities * 100\n",
    "dissimilarity[np.isinf(dissimilarity)] = 0\n",
    "\n",
    "# Plot the edges\n",
    "start_idx, end_idx = np.where(pos)\n",
    "\n",
    "values = np.abs(dissimilarity)"
   ]
  },
  {
   "cell_type": "code",
   "execution_count": 65,
   "metadata": {},
   "outputs": [
    {
     "data": {
      "image/png": "[encoded data removed]",
      "text/plain": [
       "<Figure size 432x288 with 1 Axes>"
      ]
     },
     "metadata": {
      "needs_background": "light"
     },
     "output_type": "display_data"
    }
   ],
   "source": [
    "fig = plt.figure(1)\n",
    "ax = plt.axes([0., 0., 1., 1.])\n",
    "\n",
    "s = 100\n",
    "\n",
    "plt.scatter(pos[:, 0], pos[:, 1], color='turquoise', s=s, lw=0, label='MDS')\n",
    "plt.legend(scatterpoints=1, loc='best', shadow=False)\n",
    "\n",
    "for label, x, y in zip(attri_list, pos[:, 0], pos[:, 1]):\n",
    "    plt.annotate(\n",
    "        label,\n",
    "        xy = (x, y), xytext = (-20, 20),\n",
    "        textcoords = 'offset points', ha = 'right', va = 'bottom',\n",
    "        bbox = dict(boxstyle = 'round,pad=0.5', fc = 'yellow', alpha = 0.5),\n",
    "        arrowprops = dict(arrowstyle = '->', connectionstyle = 'arc3,rad=0'))\n",
    "\n",
    "plt.show()"
   ]
  },
  {
   "cell_type": "markdown",
   "metadata": {},
   "source": [
    "## Task E"
   ]
  },
  {
   "cell_type": "markdown",
   "metadata": {},
   "source": [
    "#### City stuff"
   ]
  },
  {
   "cell_type": "code",
   "execution_count": 66,
   "metadata": {},
   "outputs": [
    {
     "name": "stdout",
     "output_type": "stream",
     "text": [
      "['Houston', 'San Antonio', 'Dallas', 'Austin', 'Fort Worth', 'El Paso', 'Arlington', 'Corpus Christi', 'Plano', 'Laredo', 'Lubbock']\n"
     ]
    }
   ],
   "source": [
    "# Let's get a list of what we'll consider big cities/towns in Texas.\n",
    "large_cities = open('large_cities.txt', 'r')\n",
    "cities = []\n",
    "for line in large_cities:\n",
    "    l = line.strip()\n",
    "    l_list = l.split()\n",
    "    if l_list[2].isalpha():\n",
    "        city = l_list[1] + ' ' + l_list[2]\n",
    "    else:\n",
    "        city = l_list[1]\n",
    "    cities.append(city)\n",
    "cities = cities[0:11]\n",
    "print (cities)"
   ]
  },
  {
   "cell_type": "code",
   "execution_count": 67,
   "metadata": {},
   "outputs": [],
   "source": [
    "# get column for location that is either Big, Small, or none\n",
    "location_column = []\n",
    "for t in tweets.itertuples():\n",
    "    if type(t.location) == str:\n",
    "        for c in cities:\n",
    "            if c in t.location:\n",
    "                location_column.append('Big')\n",
    "                break\n",
    "            elif c == cities[-1] and (', TX' in t.location or ', Texas' in t.location):\n",
    "                location_column.append('Small')\n",
    "                break\n",
    "            elif c == cities[-1]:\n",
    "                location_column.append('none')\n",
    "                break\n",
    "    else:\n",
    "        location_column.append('none')"
   ]
  },
  {
   "cell_type": "code",
   "execution_count": 68,
   "metadata": {},
   "outputs": [],
   "source": [
    "# replace old location column with new\n",
    "tweets.location = location_column"
   ]
  },
  {
   "cell_type": "code",
   "execution_count": 69,
   "metadata": {},
   "outputs": [
    {
     "data": {
      "text/plain": [
       "(5741, 2)"
      ]
     },
     "execution_count": 69,
     "metadata": {},
     "output_type": "execute_result"
    }
   ],
   "source": [
    "tweets.shape"
   ]
  },
  {
   "cell_type": "code",
   "execution_count": 70,
   "metadata": {},
   "outputs": [
    {
     "data": {
      "text/html": [
       "<div>\n",
       "<style scoped>\n",
       "    .dataframe tbody tr th:only-of-type {\n",
       "        vertical-align: middle;\n",
       "    }\n",
       "\n",
       "    .dataframe tbody tr th {\n",
       "        vertical-align: top;\n",
       "    }\n",
       "\n",
       "    .dataframe thead th {\n",
       "        text-align: right;\n",
       "    }\n",
       "</style>\n",
       "<table border=\"1\" class=\"dataframe\">\n",
       "  <thead>\n",
       "    <tr style=\"text-align: right;\">\n",
       "      <th></th>\n",
       "      <th>location</th>\n",
       "      <th>text</th>\n",
       "    </tr>\n",
       "  </thead>\n",
       "  <tbody>\n",
       "    <tr>\n",
       "      <th>0</th>\n",
       "      <td>none</td>\n",
       "      <td>b\"rt @aliadair22: \\xf0\\x9f\\x90\\xa6next,  beto   beto , running for u.s. senate in #texas. please follow, tweet, contribute, volunteer, anything\\xe2\\x80\\xa6\"</td>\n",
       "    </tr>\n",
       "    <tr>\n",
       "      <th>1</th>\n",
       "      <td>none</td>\n",
       "      <td>b\"rt @aliadair22: \\xf0\\x9f\\x90\\xa6next,  beto   beto , running for u.s. senate in #texas. please follow, tweet, contribute, volunteer, anything\\xe2\\x80\\xa6\"</td>\n",
       "    </tr>\n",
       "    <tr>\n",
       "      <th>2</th>\n",
       "      <td>none</td>\n",
       "      <td>b\" cruz  cruz,  beto  try to rally latino voters in texas senate race https://t.co/ehvo0zz7yh #foxnews @mriverafoxnews\"</td>\n",
       "    </tr>\n",
       "    <tr>\n",
       "      <th>3</th>\n",
       "      <td>none</td>\n",
       "      <td>b'rt @ronnehring: third poll now showing cruz with 8 or 9 point solid lead over beto o\\xe2\\x80\\x99 beto  (d-hollywood). follows quinnipiac and ny times\\xe2\\x80\\xa6'</td>\n",
       "    </tr>\n",
       "    <tr>\n",
       "      <th>4</th>\n",
       "      <td>none</td>\n",
       "      <td>b'beto o\\xe2\\x80\\x99 beto , the democratic congressman from el paso, has made the texas race for us senate one of the most widel\\xe2\\x80\\xa6 https://t.co/f9i3qqej6u'</td>\n",
       "    </tr>\n",
       "    <tr>\n",
       "      <th>5</th>\n",
       "      <td>Big</td>\n",
       "      <td>b'rt @wfaa: does texas\\xe2\\x80\\x99 senate race belong to texans? https://t.co/ccbbwh5pmt https://t.co/gxnrzdjhid'</td>\n",
       "    </tr>\n",
       "  </tbody>\n",
       "</table>\n",
       "</div>"
      ],
      "text/plain": [
       "  location  \\\n",
       "0  none      \n",
       "1  none      \n",
       "2  none      \n",
       "3  none      \n",
       "4  none      \n",
       "5  Big       \n",
       "\n",
       "                                                                                                                                                                    text  \n",
       "0  b\"rt @aliadair22: \\xf0\\x9f\\x90\\xa6next,  beto   beto , running for u.s. senate in #texas. please follow, tweet, contribute, volunteer, anything\\xe2\\x80\\xa6\"           \n",
       "1  b\"rt @aliadair22: \\xf0\\x9f\\x90\\xa6next,  beto   beto , running for u.s. senate in #texas. please follow, tweet, contribute, volunteer, anything\\xe2\\x80\\xa6\"           \n",
       "2  b\" cruz  cruz,  beto  try to rally latino voters in texas senate race https://t.co/ehvo0zz7yh #foxnews @mriverafoxnews\"                                                \n",
       "3  b'rt @ronnehring: third poll now showing cruz with 8 or 9 point solid lead over beto o\\xe2\\x80\\x99 beto  (d-hollywood). follows quinnipiac and ny times\\xe2\\x80\\xa6'   \n",
       "4  b'beto o\\xe2\\x80\\x99 beto , the democratic congressman from el paso, has made the texas race for us senate one of the most widel\\xe2\\x80\\xa6 https://t.co/f9i3qqej6u'  \n",
       "5  b'rt @wfaa: does texas\\xe2\\x80\\x99 senate race belong to texans? https://t.co/ccbbwh5pmt https://t.co/gxnrzdjhid'                                                      "
      ]
     },
     "execution_count": 70,
     "metadata": {},
     "output_type": "execute_result"
    }
   ],
   "source": [
    "tweets.head(6)"
   ]
  },
  {
   "cell_type": "markdown",
   "metadata": {},
   "source": [
    "#### Calculate Lift for Candidate / City size"
   ]
  },
  {
   "cell_type": "markdown",
   "metadata": {},
   "source": [
    "Get count of tweets mentioning Beto / Cruz, and count of all tweets with Beto and/or Cruz in it"
   ]
  },
  {
   "cell_type": "code",
   "execution_count": 71,
   "metadata": {},
   "outputs": [],
   "source": [
    "beto_count = 0\n",
    "cruz_count = 0\n",
    "n_tweets = 0\n",
    "for t in tweets.itertuples():\n",
    "    if t.location != 'none':\n",
    "        if 'beto' in t.text and 'cruz' in t.text:\n",
    "            beto_count += 1\n",
    "            cruz_count += 1\n",
    "            n_tweets += 1\n",
    "        elif 'beto' in t.text:\n",
    "            beto_count += 1\n",
    "            n_tweets += 1\n",
    "        elif 'cruz' in t.text:\n",
    "            cruz_count += 1        \n",
    "            n_tweets += 1"
   ]
  },
  {
   "cell_type": "markdown",
   "metadata": {},
   "source": [
    "Get count of tweets from large / small cities in Texas"
   ]
  },
  {
   "cell_type": "code",
   "execution_count": 72,
   "metadata": {},
   "outputs": [],
   "source": [
    "big_city_count = 0\n",
    "small_city_count = 0\n",
    "for t in tweets.itertuples():\n",
    "    if t.location == 'Big':\n",
    "        big_city_count += 1\n",
    "    elif t.location == 'Small':\n",
    "        small_city_count += 1"
   ]
  },
  {
   "cell_type": "markdown",
   "metadata": {},
   "source": [
    "Get count of tweets with Beto/Big, Beto/Small, Cruz/Big, Cruz/Big"
   ]
  },
  {
   "cell_type": "code",
   "execution_count": 73,
   "metadata": {},
   "outputs": [],
   "source": [
    "bb_count = 0\n",
    "bs_count = 0\n",
    "cb_count = 0\n",
    "cs_count = 0\n",
    "for t in tweets.itertuples():\n",
    "    if 'beto' in t.text and t.location == 'Big':\n",
    "        bb_count += 1\n",
    "    if 'beto' in t.text and t.location == 'Small':\n",
    "        bs_count += 1\n",
    "    if 'cruz' in t.text and t.location == 'Big':\n",
    "        cb_count += 1\n",
    "    if 'cruz' in t.text and t.location == 'Small':\n",
    "        cs_count += 1"
   ]
  },
  {
   "cell_type": "markdown",
   "metadata": {},
   "source": [
    "Calculate lift Beto/Big, Beto/Small, Cruz/Big, Cruz/Big"
   ]
  },
  {
   "cell_type": "code",
   "execution_count": 74,
   "metadata": {},
   "outputs": [],
   "source": [
    "candidate_counts = [beto_count, cruz_count]\n",
    "city_counts = [big_city_count, small_city_count]\n",
    "combo_counts = [bb_count, bs_count, cb_count, cs_count]\n",
    "lifts = [] # order: [0] beto vs big, [1] beto vs small, [2] cruz vs big, [3] cruz vs small\n",
    "i = 0\n",
    "for cand_count in candidate_counts:\n",
    "    for city_count in city_counts:\n",
    "        lifts.append( (n_tweets * combo_counts[i]) / (cand_count * city_count) )\n",
    "        i+=1"
   ]
  },
  {
   "cell_type": "code",
   "execution_count": 75,
   "metadata": {},
   "outputs": [],
   "source": [
    "lifts = np.reshape(lifts, (2, 2)).T # reshape for similarities matrix"
   ]
  },
  {
   "cell_type": "code",
   "execution_count": 76,
   "metadata": {},
   "outputs": [],
   "source": [
    "similarities = pd.DataFrame(lifts, columns=['beto', 'cruz'], index=['big city', 'small city'])"
   ]
  },
  {
   "cell_type": "markdown",
   "metadata": {},
   "source": [
    "#### <i>Lift Matrix<i>"
   ]
  },
  {
   "cell_type": "code",
   "execution_count": 77,
   "metadata": {},
   "outputs": [
    {
     "data": {
      "text/html": [
       "<div>\n",
       "<style scoped>\n",
       "    .dataframe tbody tr th:only-of-type {\n",
       "        vertical-align: middle;\n",
       "    }\n",
       "\n",
       "    .dataframe tbody tr th {\n",
       "        vertical-align: top;\n",
       "    }\n",
       "\n",
       "    .dataframe thead th {\n",
       "        text-align: right;\n",
       "    }\n",
       "</style>\n",
       "<table border=\"1\" class=\"dataframe\">\n",
       "  <thead>\n",
       "    <tr style=\"text-align: right;\">\n",
       "      <th></th>\n",
       "      <th>beto</th>\n",
       "      <th>cruz</th>\n",
       "    </tr>\n",
       "  </thead>\n",
       "  <tbody>\n",
       "    <tr>\n",
       "      <th>big city</th>\n",
       "      <td>0.779859</td>\n",
       "      <td>0.796016</td>\n",
       "    </tr>\n",
       "    <tr>\n",
       "      <th>small city</th>\n",
       "      <td>0.773519</td>\n",
       "      <td>0.733456</td>\n",
       "    </tr>\n",
       "  </tbody>\n",
       "</table>\n",
       "</div>"
      ],
      "text/plain": [
       "                beto      cruz\n",
       "big city    0.779859  0.796016\n",
       "small city  0.773519  0.733456"
      ]
     },
     "execution_count": 77,
     "metadata": {},
     "output_type": "execute_result"
    }
   ],
   "source": [
    "similarities"
   ]
  },
  {
   "cell_type": "markdown",
   "metadata": {},
   "source": [
    "#### Start sentimental stuff :)"
   ]
  },
  {
   "cell_type": "code",
   "execution_count": 78,
   "metadata": {},
   "outputs": [],
   "source": [
    "analyser = SentimentIntensityAnalyzer()"
   ]
  },
  {
   "cell_type": "code",
   "execution_count": 79,
   "metadata": {},
   "outputs": [],
   "source": [
    "bb_sent = []\n",
    "bs_sent = []\n",
    "cb_sent = []\n",
    "cs_sent = []\n",
    "for t in tweets.itertuples():\n",
    "\n",
    "    if t.location == 'Big':\n",
    "        if 'beto' in t.text:\n",
    "            sub_text = get_substring('beto', t.text)\n",
    "            if sub_text:\n",
    "                snt = analyser.polarity_scores(sub_text)\n",
    "                bb_sent.append(snt['compound'])\n",
    "            \n",
    "        if 'cruz' in t.text:\n",
    "            sub_text = get_substring('cruz', t.text)\n",
    "            if sub_text:\n",
    "                snt = analyser.polarity_scores(sub_text)\n",
    "                cb_sent.append(snt['compound'])\n",
    "            \n",
    "    elif t.location == 'Small':\n",
    "        if 'beto' in t.text:\n",
    "            sub_text = get_substring('beto', t.text)\n",
    "            if sub_text:\n",
    "                snt = analyser.polarity_scores(sub_text)\n",
    "                bs_sent.append(snt['compound'])\n",
    "\n",
    "        if 'cruz' in t.text:\n",
    "            sub_text = get_substring('cruz', t.text)\n",
    "            if sub_text:\n",
    "                snt = analyser.polarity_scores(sub_text)\n",
    "                cs_sent.append(snt['compound'])"
   ]
  },
  {
   "cell_type": "code",
   "execution_count": 80,
   "metadata": {},
   "outputs": [],
   "source": [
    "# get average of list\n",
    "def avg(lst): \n",
    "    return sum(lst) / len(lst) "
   ]
  },
  {
   "cell_type": "code",
   "execution_count": 81,
   "metadata": {},
   "outputs": [],
   "source": [
    "# order [0] beto/big [1] cruz/big [2] beto/small [3] cruz/small\n",
    "sentiments = [avg(bb_sent), avg(cb_sent), avg(bs_sent), avg(cs_sent)]"
   ]
  },
  {
   "cell_type": "code",
   "execution_count": 82,
   "metadata": {},
   "outputs": [],
   "source": [
    "sentiments = np.reshape(sentiments, (2, 2)) # reshape for similarities matrix"
   ]
  },
  {
   "cell_type": "code",
   "execution_count": 83,
   "metadata": {},
   "outputs": [],
   "source": [
    "sentiments = pd.DataFrame(sentiments, columns=['beto', 'cruz'], index=['big city', 'small city'])"
   ]
  },
  {
   "cell_type": "markdown",
   "metadata": {},
   "source": [
    "#### <i>Sentiment matrix<i>"
   ]
  },
  {
   "cell_type": "code",
   "execution_count": 84,
   "metadata": {},
   "outputs": [
    {
     "data": {
      "text/html": [
       "<div>\n",
       "<style scoped>\n",
       "    .dataframe tbody tr th:only-of-type {\n",
       "        vertical-align: middle;\n",
       "    }\n",
       "\n",
       "    .dataframe tbody tr th {\n",
       "        vertical-align: top;\n",
       "    }\n",
       "\n",
       "    .dataframe thead th {\n",
       "        text-align: right;\n",
       "    }\n",
       "</style>\n",
       "<table border=\"1\" class=\"dataframe\">\n",
       "  <thead>\n",
       "    <tr style=\"text-align: right;\">\n",
       "      <th></th>\n",
       "      <th>beto</th>\n",
       "      <th>cruz</th>\n",
       "    </tr>\n",
       "  </thead>\n",
       "  <tbody>\n",
       "    <tr>\n",
       "      <th>big city</th>\n",
       "      <td>0.031825</td>\n",
       "      <td>0.009640</td>\n",
       "    </tr>\n",
       "    <tr>\n",
       "      <th>small city</th>\n",
       "      <td>0.033552</td>\n",
       "      <td>0.127022</td>\n",
       "    </tr>\n",
       "  </tbody>\n",
       "</table>\n",
       "</div>"
      ],
      "text/plain": [
       "                beto      cruz\n",
       "big city    0.031825  0.009640\n",
       "small city  0.033552  0.127022"
      ]
     },
     "execution_count": 84,
     "metadata": {},
     "output_type": "execute_result"
    }
   ],
   "source": [
    "sentiments"
   ]
  },
  {
   "cell_type": "markdown",
   "metadata": {},
   "source": [
    "# Task F\n",
    "_Note: It needs to be addressed that our results would be better if ran on more data. From our original dataset of 4000+ tweets. This is very limiting, and will effect the legitimacy of our results. In our coming analysis, we assume that our data is legitement for the purpose of this assignment._"
   ]
  },
  {
   "cell_type": "markdown",
   "metadata": {},
   "source": [
    "#### Task C\n",
    "The lift between taxes and beto is at 1.275317 and the sentiment score is -0.191305. Beto should focus addressing why he supports tax increases and illustrate the pros of such policy to address the current negative sentiment.\n",
    "\n",
    "The lift between character and beto is at 1.674005 and the sentiment score is 0.519647. Beto should continue to demonstate his image as a candidate with high integrity. One distinctive feature seen in the tweets concerning his character involve words such as \"leader\" and \"proud to support\". \n",
    "\n",
    "The lift between bordercontrol and cruz is at 1.088287 and the sentiment score is 0.800824. Cruz should continue to strongly support his strict policies on immigration. \n",
    "\n",
    "The lift between healthcare and cruz is at 1.546513 and the sentiment score is 0.00205936. Although there is a clear association between cruz and healthcare the sentiment score is neutral and so cruz has an opportunity to leverage this buzz and gain more supporters. Our data tells us that people are aware of healthcare as an issue, knowing that the candidates can use this as a talking point in each of their favor. \n",
    "\n",
    "The lift between taxes and cruz is at 1.225257 and the sentiment score is 0.0762585. Cruz should continue to emphasize his support for lower taxes. This should be a core differentiator for Cruz as Beto has a negative sentiment on the same issue. \n"
   ]
  },
  {
   "cell_type": "markdown",
   "metadata": {},
   "source": [
    "#### Task D\n",
    "Healthcare is very far away from both Cruz and Beto. This could be because healthcare is a topic that could be talked about by itself a lot without mention of cruz and beto. Both Cruz and Beto, seeing that healthcare is a very talked about topic, could jump on this and do a better job associating their positions on healthcare with the public."
   ]
  },
  {
   "cell_type": "markdown",
   "metadata": {},
   "source": [
    "#### Task E\n",
    "Our lift matrix between the candidates and big/small cities in Texas tells us that Cruz is talked about a little more in big cities than in small, though only by .05. These differences are very small. Because of the results given from this data, it is hard to give any advice from lift values only, though sentiment analysis gives us more insight.\n",
    "\n",
    "For our sentiment analysis, it was clear that Cruz is more popular in small towns and Beto more popular in big cities. This should be known by the candidates already. What might not be known by Beto though, is that his sentiment is about the same in large cities and small towns. Beto could take advantage of this by targeting small town citizens more than he might have before knowing he has support there."
   ]
  },
  {
   "cell_type": "code",
   "execution_count": null,
   "metadata": {},
   "outputs": [],
   "source": []
  }
 ],
 "metadata": {
  "kernelspec": {
   "display_name": "Python 3",
   "language": "python",
   "name": "python3"
  },
  "language_info": {
   "codemirror_mode": {
    "name": "ipython",
    "version": 3
   },
   "file_extension": ".py",
   "mimetype": "text/x-python",
   "name": "python",
   "nbconvert_exporter": "python",
   "pygments_lexer": "ipython3",
   "version": "3.6.5"
  }
 },
 "nbformat": 4,
 "nbformat_minor": 2
}
