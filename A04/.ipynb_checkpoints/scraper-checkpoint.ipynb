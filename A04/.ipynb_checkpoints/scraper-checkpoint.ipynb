{
 "cells": [
  {
   "cell_type": "code",
   "execution_count": 211,
   "metadata": {},
   "outputs": [],
   "source": [
    "from selenium import webdriver\n",
    "from selenium.webdriver.common.keys import Keys\n",
    "import time\n",
    "import pandas as pd"
   ]
  },
  {
   "cell_type": "code",
   "execution_count": 201,
   "metadata": {},
   "outputs": [],
   "source": [
    "# Let's open up natgeo's insta on this weird insta viewer website called picbon.\n",
    "chrome_path = r'/Applications/chromedriver'\n",
    "driver = webdriver.Chrome(chrome_path)\n",
    "driver.get(\"https://www.picbon.com/user/natgeo/787132\")"
   ]
  },
  {
   "cell_type": "code",
   "execution_count": 219,
   "metadata": {},
   "outputs": [],
   "source": [
    "# Returns urls, captions, comments, and likes for all of the posts the pibon.com lets us see from natgeos instagram feed, turns out this number is 270.\n",
    "def scraper():\n",
    "    urls = []\n",
    "    captions = []\n",
    "    comments = []\n",
    "    likes = []\n",
    "    \n",
    "    # Outer loop controls pages.\n",
    "    for i in range(50):\n",
    "        j = 1\n",
    "        # Inner loop iterates through posts on the page.\n",
    "        while True:\n",
    "            \n",
    "            # will break when j > number of posts on webpage.\n",
    "            try:\n",
    "                url = driver.find_element_by_xpath('//*[@id=\"social-container\"]/article['+ str(j) + ']/div/div[1]/div[1]')\\\n",
    "                            .find_element_by_tag_name('img')\\\n",
    "                            .get_attribute('src')\n",
    "                if url != '':\n",
    "                    urls.append(url)\n",
    "                    captions.append(driver.find_element_by_xpath('//*[@id=\"social-container\"]/article['+str(j)+']/div/div[1]/p').text)\n",
    "                    comments.append(driver.find_element_by_xpath('//*[@id=\"social-container\"]/article['+str(j)+']/div/div[2]/div/span[2]').text)\n",
    "                    likes.append(driver.find_element_by_xpath('//*[@id=\"social-container\"]/article['+str(j)+']/div/div[2]/div/span[3]').text)\n",
    "                else:\n",
    "                    pass \n",
    "\n",
    "                # move onto next post on page.\n",
    "                j += 1\n",
    "            \n",
    "            # when j > number of posts on webpage, click the next page button and break out of inner loop.\n",
    "            except:\n",
    "                next_page = driver.find_element_by_xpath('/html/body/nav[2]/a')\n",
    "                next_page.click()\n",
    "                time.sleep(10)\n",
    "                break\n",
    "                \n",
    "    return (urls, captions, comments, likes)"
   ]
  },
  {
   "cell_type": "code",
   "execution_count": null,
   "metadata": {},
   "outputs": [],
   "source": [
    "# don't run this unless you want to wait for 30 min to re-scrape the data.\n",
    "# urls, captions, comments, likes = scraper()"
   ]
  },
  {
   "cell_type": "code",
   "execution_count": 220,
   "metadata": {},
   "outputs": [
    {
     "data": {
      "text/html": [
       "<div>\n",
       "<style scoped>\n",
       "    .dataframe tbody tr th:only-of-type {\n",
       "        vertical-align: middle;\n",
       "    }\n",
       "\n",
       "    .dataframe tbody tr th {\n",
       "        vertical-align: top;\n",
       "    }\n",
       "\n",
       "    .dataframe thead th {\n",
       "        text-align: right;\n",
       "    }\n",
       "</style>\n",
       "<table border=\"1\" class=\"dataframe\">\n",
       "  <thead>\n",
       "    <tr style=\"text-align: right;\">\n",
       "      <th></th>\n",
       "      <th>urls</th>\n",
       "      <th>captions</th>\n",
       "      <th>comments</th>\n",
       "      <th>likes</th>\n",
       "    </tr>\n",
       "  </thead>\n",
       "  <tbody>\n",
       "    <tr>\n",
       "      <th>0</th>\n",
       "      <td>https://scontent-sea1-1.cdninstagram.com/vp/78...</td>\n",
       "      <td>Photo by @amivitale | Ntipiyon Nonguta and her...</td>\n",
       "      <td>278</td>\n",
       "      <td>61459</td>\n",
       "    </tr>\n",
       "    <tr>\n",
       "      <th>1</th>\n",
       "      <td>https://scontent-sea1-1.cdninstagram.com/vp/53...</td>\n",
       "      <td>Video by @amivitale | Wild adult elephants dri...</td>\n",
       "      <td>362</td>\n",
       "      <td>83092</td>\n",
       "    </tr>\n",
       "    <tr>\n",
       "      <th>2</th>\n",
       "      <td>https://scontent-sea1-1.cdninstagram.com/vp/1e...</td>\n",
       "      <td>Photo by George Steinmetz @geosteinmetz | Epic...</td>\n",
       "      <td>431</td>\n",
       "      <td>136026</td>\n",
       "    </tr>\n",
       "    <tr>\n",
       "      <th>3</th>\n",
       "      <td>https://scontent-sea1-1.cdninstagram.com/vp/a4...</td>\n",
       "      <td>Photo by @irablockphoto | A nighttime view fro...</td>\n",
       "      <td>1934</td>\n",
       "      <td>304484</td>\n",
       "    </tr>\n",
       "    <tr>\n",
       "      <th>4</th>\n",
       "      <td>https://scontent-sea1-1.cdninstagram.com/vp/d6...</td>\n",
       "      <td>Photo by Michael Yamashita @yamashitaphoto | H...</td>\n",
       "      <td>907</td>\n",
       "      <td>413142</td>\n",
       "    </tr>\n",
       "  </tbody>\n",
       "</table>\n",
       "</div>"
      ],
      "text/plain": [
       "                                                urls  \\\n",
       "0  https://scontent-sea1-1.cdninstagram.com/vp/78...   \n",
       "1  https://scontent-sea1-1.cdninstagram.com/vp/53...   \n",
       "2  https://scontent-sea1-1.cdninstagram.com/vp/1e...   \n",
       "3  https://scontent-sea1-1.cdninstagram.com/vp/a4...   \n",
       "4  https://scontent-sea1-1.cdninstagram.com/vp/d6...   \n",
       "\n",
       "                                            captions comments   likes  \n",
       "0  Photo by @amivitale | Ntipiyon Nonguta and her...      278   61459  \n",
       "1  Video by @amivitale | Wild adult elephants dri...      362   83092  \n",
       "2  Photo by George Steinmetz @geosteinmetz | Epic...      431  136026  \n",
       "3  Photo by @irablockphoto | A nighttime view fro...     1934  304484  \n",
       "4  Photo by Michael Yamashita @yamashitaphoto | H...      907  413142  "
      ]
     },
     "execution_count": 220,
     "metadata": {},
     "output_type": "execute_result"
    }
   ],
   "source": [
    "df = pd.DataFrame()\n",
    "df['urls'] = urls\n",
    "df['captions'] = captions\n",
    "df['comments'] = comments\n",
    "df['likes'] = likes\n",
    "df.head()"
   ]
  },
  {
   "cell_type": "code",
   "execution_count": 221,
   "metadata": {},
   "outputs": [],
   "source": [
    "df.to_csv('insta_data.csv')"
   ]
  },
  {
   "cell_type": "code",
   "execution_count": null,
   "metadata": {},
   "outputs": [],
   "source": []
  }
 ],
 "metadata": {
  "kernelspec": {
   "display_name": "Python 3",
   "language": "python",
   "name": "python3"
  },
  "language_info": {
   "codemirror_mode": {
    "name": "ipython",
    "version": 3
   },
   "file_extension": ".py",
   "mimetype": "text/x-python",
   "name": "python",
   "nbconvert_exporter": "python",
   "pygments_lexer": "ipython3",
   "version": "3.6.5"
  }
 },
 "nbformat": 4,
 "nbformat_minor": 2
}
