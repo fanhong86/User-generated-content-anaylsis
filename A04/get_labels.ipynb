{
 "cells": [
  {
   "cell_type": "code",
   "execution_count": 1,
   "metadata": {},
   "outputs": [],
   "source": [
    "import io\n",
    "import os\n",
    "\n",
    "import pandas as pd\n",
    "import numpy as np\n",
    "\n",
    "import json\n",
    "\n",
    "import requests"
   ]
  },
  {
   "cell_type": "code",
   "execution_count": 2,
   "metadata": {},
   "outputs": [],
   "source": [
    "df = pd.read_csv(\"insta_data.csv\")"
   ]
  },
  {
   "cell_type": "code",
   "execution_count": 61,
   "metadata": {},
   "outputs": [],
   "source": [
    "key_file = open('google-vision-api-key.txt', 'r')\n",
    "key = list(l for l in key_file)[0]\n",
    "googlevision_url = 'https://vision.googleapis.com/v1/images:annotate?key='+key\n",
    "headers = {\"Content-type\": \"application/json\",\n",
    "            \"Accept\": \"text/plain\"}\n",
    "labels = []\n",
    "exceptions = 0\n",
    "for url in df['urls']:\n",
    "    data = json.dumps({\"requests\": [{\"features\": [{\"type\": \"LABEL_DETECTION\"}],\n",
    "                        \"image\": {\"source\": {\n",
    "                            \"imageUri\": url\n",
    "                                    }\n",
    "                                }\n",
    "                            }]\n",
    "                        })\n",
    "    try:\n",
    "        r = requests.post(googlevision_url,data,headers)\n",
    "        res = r.json()\n",
    "        label_annotations = (res['responses'][0]['labelAnnotations'])\n",
    "        ls = []\n",
    "        for l in label_annotations:\n",
    "            ls.append(l['description'])\n",
    "        labels.append(ls)\n",
    "    except:\n",
    "        exceptions += 1\n",
    "        labels.append(None)"
   ]
  },
  {
   "cell_type": "code",
   "execution_count": 64,
   "metadata": {},
   "outputs": [],
   "source": [
    "df['labels'] = labels"
   ]
  },
  {
   "cell_type": "code",
   "execution_count": 65,
   "metadata": {},
   "outputs": [
    {
     "data": {
      "text/html": [
       "<div>\n",
       "<style scoped>\n",
       "    .dataframe tbody tr th:only-of-type {\n",
       "        vertical-align: middle;\n",
       "    }\n",
       "\n",
       "    .dataframe tbody tr th {\n",
       "        vertical-align: top;\n",
       "    }\n",
       "\n",
       "    .dataframe thead th {\n",
       "        text-align: right;\n",
       "    }\n",
       "</style>\n",
       "<table border=\"1\" class=\"dataframe\">\n",
       "  <thead>\n",
       "    <tr style=\"text-align: right;\">\n",
       "      <th></th>\n",
       "      <th>Unnamed: 0</th>\n",
       "      <th>urls</th>\n",
       "      <th>captions</th>\n",
       "      <th>comments</th>\n",
       "      <th>likes</th>\n",
       "      <th>labels</th>\n",
       "    </tr>\n",
       "  </thead>\n",
       "  <tbody>\n",
       "    <tr>\n",
       "      <th>0</th>\n",
       "      <td>0</td>\n",
       "      <td>https://scontent-sea1-1.cdninstagram.com/vp/78...</td>\n",
       "      <td>Photo by @amivitale | Ntipiyon Nonguta and her...</td>\n",
       "      <td>278</td>\n",
       "      <td>61459</td>\n",
       "      <td>[people, public space, community, tribe, tree,...</td>\n",
       "    </tr>\n",
       "    <tr>\n",
       "      <th>1</th>\n",
       "      <td>1</td>\n",
       "      <td>https://scontent-sea1-1.cdninstagram.com/vp/53...</td>\n",
       "      <td>Video by @amivitale | Wild adult elephants dri...</td>\n",
       "      <td>362</td>\n",
       "      <td>83092</td>\n",
       "      <td>None</td>\n",
       "    </tr>\n",
       "    <tr>\n",
       "      <th>2</th>\n",
       "      <td>2</td>\n",
       "      <td>https://scontent-sea1-1.cdninstagram.com/vp/1e...</td>\n",
       "      <td>Photo by George Steinmetz @geosteinmetz | Epic...</td>\n",
       "      <td>431</td>\n",
       "      <td>136026</td>\n",
       "      <td>[air sports, paragliding, landscape, sand, eco...</td>\n",
       "    </tr>\n",
       "    <tr>\n",
       "      <th>3</th>\n",
       "      <td>3</td>\n",
       "      <td>https://scontent-sea1-1.cdninstagram.com/vp/a4...</td>\n",
       "      <td>Photo by @irablockphoto | A nighttime view fro...</td>\n",
       "      <td>1934</td>\n",
       "      <td>304484</td>\n",
       "      <td>[waterway, city, cityscape, reflection, sky, l...</td>\n",
       "    </tr>\n",
       "    <tr>\n",
       "      <th>4</th>\n",
       "      <td>4</td>\n",
       "      <td>https://scontent-sea1-1.cdninstagram.com/vp/d6...</td>\n",
       "      <td>Photo by Michael Yamashita @yamashitaphoto | H...</td>\n",
       "      <td>907</td>\n",
       "      <td>413142</td>\n",
       "      <td>[mountain range, mountainous landforms, massif...</td>\n",
       "    </tr>\n",
       "  </tbody>\n",
       "</table>\n",
       "</div>"
      ],
      "text/plain": [
       "   Unnamed: 0                                               urls  \\\n",
       "0           0  https://scontent-sea1-1.cdninstagram.com/vp/78...   \n",
       "1           1  https://scontent-sea1-1.cdninstagram.com/vp/53...   \n",
       "2           2  https://scontent-sea1-1.cdninstagram.com/vp/1e...   \n",
       "3           3  https://scontent-sea1-1.cdninstagram.com/vp/a4...   \n",
       "4           4  https://scontent-sea1-1.cdninstagram.com/vp/d6...   \n",
       "\n",
       "                                            captions  comments   likes  \\\n",
       "0  Photo by @amivitale | Ntipiyon Nonguta and her...       278   61459   \n",
       "1  Video by @amivitale | Wild adult elephants dri...       362   83092   \n",
       "2  Photo by George Steinmetz @geosteinmetz | Epic...       431  136026   \n",
       "3  Photo by @irablockphoto | A nighttime view fro...      1934  304484   \n",
       "4  Photo by Michael Yamashita @yamashitaphoto | H...       907  413142   \n",
       "\n",
       "                                              labels  \n",
       "0  [people, public space, community, tribe, tree,...  \n",
       "1                                               None  \n",
       "2  [air sports, paragliding, landscape, sand, eco...  \n",
       "3  [waterway, city, cityscape, reflection, sky, l...  \n",
       "4  [mountain range, mountainous landforms, massif...  "
      ]
     },
     "execution_count": 65,
     "metadata": {},
     "output_type": "execute_result"
    }
   ],
   "source": [
    "df.head()"
   ]
  },
  {
   "cell_type": "code",
   "execution_count": 66,
   "metadata": {},
   "outputs": [],
   "source": [
    "df.to_csv('insta_data_with_labels.csv')"
   ]
  },
  {
   "cell_type": "code",
   "execution_count": null,
   "metadata": {},
   "outputs": [],
   "source": []
  }
 ],
 "metadata": {
  "kernelspec": {
   "display_name": "Python 3",
   "language": "python",
   "name": "python3"
  },
  "language_info": {
   "codemirror_mode": {
    "name": "ipython",
    "version": 3
   },
   "file_extension": ".py",
   "mimetype": "text/x-python",
   "name": "python",
   "nbconvert_exporter": "python",
   "pygments_lexer": "ipython3",
   "version": "3.7.0"
  }
 },
 "nbformat": 4,
 "nbformat_minor": 2
}
